{
 "cells": [
  {
   "cell_type": "code",
   "execution_count": 54,
   "id": "15696ff6-eb9d-4168-b9e1-b9683915be9f",
   "metadata": {
    "tags": []
   },
   "outputs": [],
   "source": [
    "#tabular data imports :\n",
    "import pandas as pd\n",
    "import numpy as np\n",
    "import env\n",
    "from env import user, password, host\n",
    "from pydataset import data\n",
    "\n",
    "# visualization imports:\n",
    "import matplotlib.pyplot as plt\n",
    "import seaborn as sns\n",
    "import sklearn.preprocessing\n",
    "from sklearn.model_selection import train_test_split\n",
    "from sklearn.linear_model import LinearRegression, LassoLars, TweedieRegressor\n",
    "from sklearn.feature_selection import SelectKBest, RFE, f_regression, SequentialFeatureSelector\n",
    "# success metrics from earlier in the week: mean squared error and r^2 explained variance\n",
    "from sklearn.metrics import mean_squared_error\n",
    "from sklearn.metrics import r2_score\n",
    "from sklearn.preprocessing import PolynomialFeatures\n",
    "\n",
    "from scipy.stats import pearsonr, spearmanr\n",
    "from scipy.stats import shapiro\n",
    "\n",
    "import warnings\n",
    "warnings.filterwarnings(\"ignore\")\n",
    "import wrangle as w\n",
    "import explore as e\n",
    "import os\n",
    "directory = os.getcwd()"
   ]
  },
  {
   "cell_type": "markdown",
   "id": "cad6973e-4186-4f48-90ad-7c5bb1db70ef",
   "metadata": {},
   "source": [
    "### 1. Select a dataset with a continuous target variable."
   ]
  },
  {
   "cell_type": "code",
   "execution_count": 2,
   "id": "998d5ef2-186f-4df4-8757-9d84af39b330",
   "metadata": {
    "tags": []
   },
   "outputs": [
    {
     "data": {
      "text/html": [
       "<div>\n",
       "<style scoped>\n",
       "    .dataframe tbody tr th:only-of-type {\n",
       "        vertical-align: middle;\n",
       "    }\n",
       "\n",
       "    .dataframe tbody tr th {\n",
       "        vertical-align: top;\n",
       "    }\n",
       "\n",
       "    .dataframe thead th {\n",
       "        text-align: right;\n",
       "    }\n",
       "</style>\n",
       "<table border=\"1\" class=\"dataframe\">\n",
       "  <thead>\n",
       "    <tr style=\"text-align: right;\">\n",
       "      <th></th>\n",
       "      <th>Fertility</th>\n",
       "      <th>Agriculture</th>\n",
       "      <th>Examination</th>\n",
       "      <th>Education</th>\n",
       "      <th>Catholic</th>\n",
       "      <th>Infant.Mortality</th>\n",
       "    </tr>\n",
       "  </thead>\n",
       "  <tbody>\n",
       "    <tr>\n",
       "      <th>Courtelary</th>\n",
       "      <td>80.2</td>\n",
       "      <td>17.0</td>\n",
       "      <td>15</td>\n",
       "      <td>12</td>\n",
       "      <td>9.96</td>\n",
       "      <td>22.2</td>\n",
       "    </tr>\n",
       "    <tr>\n",
       "      <th>Delemont</th>\n",
       "      <td>83.1</td>\n",
       "      <td>45.1</td>\n",
       "      <td>6</td>\n",
       "      <td>9</td>\n",
       "      <td>84.84</td>\n",
       "      <td>22.2</td>\n",
       "    </tr>\n",
       "    <tr>\n",
       "      <th>Franches-Mnt</th>\n",
       "      <td>92.5</td>\n",
       "      <td>39.7</td>\n",
       "      <td>5</td>\n",
       "      <td>5</td>\n",
       "      <td>93.40</td>\n",
       "      <td>20.2</td>\n",
       "    </tr>\n",
       "    <tr>\n",
       "      <th>Moutier</th>\n",
       "      <td>85.8</td>\n",
       "      <td>36.5</td>\n",
       "      <td>12</td>\n",
       "      <td>7</td>\n",
       "      <td>33.77</td>\n",
       "      <td>20.3</td>\n",
       "    </tr>\n",
       "    <tr>\n",
       "      <th>Neuveville</th>\n",
       "      <td>76.9</td>\n",
       "      <td>43.5</td>\n",
       "      <td>17</td>\n",
       "      <td>15</td>\n",
       "      <td>5.16</td>\n",
       "      <td>20.6</td>\n",
       "    </tr>\n",
       "  </tbody>\n",
       "</table>\n",
       "</div>"
      ],
      "text/plain": [
       "              Fertility  Agriculture  Examination  Education  Catholic  \\\n",
       "Courtelary         80.2         17.0           15         12      9.96   \n",
       "Delemont           83.1         45.1            6          9     84.84   \n",
       "Franches-Mnt       92.5         39.7            5          5     93.40   \n",
       "Moutier            85.8         36.5           12          7     33.77   \n",
       "Neuveville         76.9         43.5           17         15      5.16   \n",
       "\n",
       "              Infant.Mortality  \n",
       "Courtelary                22.2  \n",
       "Delemont                  22.2  \n",
       "Franches-Mnt              20.2  \n",
       "Moutier                   20.3  \n",
       "Neuveville                20.6  "
      ]
     },
     "execution_count": 2,
     "metadata": {},
     "output_type": "execute_result"
    }
   ],
   "source": [
    "swiss = data('swiss')\n",
    "swiss.head()"
   ]
  },
  {
   "cell_type": "markdown",
   "id": "d09e2c1f-9cbc-443c-8179-4b0c8754e7a9",
   "metadata": {},
   "source": [
    "### 2. Be sure your data is prepared (no missing values, numeric datatypes) and split into samples."
   ]
  },
  {
   "cell_type": "code",
   "execution_count": 5,
   "id": "e5e3743e-63f4-4386-b144-5eb080c00b18",
   "metadata": {
    "tags": []
   },
   "outputs": [
    {
     "data": {
      "text/plain": [
       "(47, 6)"
      ]
     },
     "execution_count": 5,
     "metadata": {},
     "output_type": "execute_result"
    }
   ],
   "source": [
    "swiss.shape"
   ]
  },
  {
   "cell_type": "code",
   "execution_count": 3,
   "id": "2e1a804f-8d12-4f53-94ba-89d4386d97aa",
   "metadata": {
    "tags": []
   },
   "outputs": [
    {
     "name": "stdout",
     "output_type": "stream",
     "text": [
      "<class 'pandas.core.frame.DataFrame'>\n",
      "Index: 47 entries, Courtelary to Rive Gauche\n",
      "Data columns (total 6 columns):\n",
      " #   Column            Non-Null Count  Dtype  \n",
      "---  ------            --------------  -----  \n",
      " 0   Fertility         47 non-null     float64\n",
      " 1   Agriculture       47 non-null     float64\n",
      " 2   Examination       47 non-null     int64  \n",
      " 3   Education         47 non-null     int64  \n",
      " 4   Catholic          47 non-null     float64\n",
      " 5   Infant.Mortality  47 non-null     float64\n",
      "dtypes: float64(4), int64(2)\n",
      "memory usage: 2.6+ KB\n"
     ]
    }
   ],
   "source": [
    "swiss.info()"
   ]
  },
  {
   "cell_type": "code",
   "execution_count": 6,
   "id": "8b09452b-a41f-40b0-b94f-c79a173b1ac4",
   "metadata": {
    "tags": []
   },
   "outputs": [
    {
     "name": "stdout",
     "output_type": "stream",
     "text": [
      "\n",
      "    train -> (28, 6)\n",
      "    validate -> (9, 6)\n",
      "    test -> (10, 6)\n"
     ]
    }
   ],
   "source": [
    "train, validate, test = w.split_data(swiss)"
   ]
  },
  {
   "cell_type": "code",
   "execution_count": null,
   "id": "453472aa-8334-4a15-b94e-5d842daa96f7",
   "metadata": {},
   "outputs": [],
   "source": []
  },
  {
   "cell_type": "markdown",
   "id": "2f69f410-9367-40b9-badd-bcf7818132c8",
   "metadata": {},
   "source": [
    "### 3. Work through all of the steps outlined in the lesson, from setting the baseline to selected a model and evaluating the final model on your test data."
   ]
  },
  {
   "cell_type": "code",
   "execution_count": 7,
   "id": "709a4e65-fa52-4de0-937d-0c6bb598e781",
   "metadata": {
    "tags": []
   },
   "outputs": [
    {
     "data": {
      "text/html": [
       "<style>#sk-container-id-1 {color: black;}#sk-container-id-1 pre{padding: 0;}#sk-container-id-1 div.sk-toggleable {background-color: white;}#sk-container-id-1 label.sk-toggleable__label {cursor: pointer;display: block;width: 100%;margin-bottom: 0;padding: 0.3em;box-sizing: border-box;text-align: center;}#sk-container-id-1 label.sk-toggleable__label-arrow:before {content: \"▸\";float: left;margin-right: 0.25em;color: #696969;}#sk-container-id-1 label.sk-toggleable__label-arrow:hover:before {color: black;}#sk-container-id-1 div.sk-estimator:hover label.sk-toggleable__label-arrow:before {color: black;}#sk-container-id-1 div.sk-toggleable__content {max-height: 0;max-width: 0;overflow: hidden;text-align: left;background-color: #f0f8ff;}#sk-container-id-1 div.sk-toggleable__content pre {margin: 0.2em;color: black;border-radius: 0.25em;background-color: #f0f8ff;}#sk-container-id-1 input.sk-toggleable__control:checked~div.sk-toggleable__content {max-height: 200px;max-width: 100%;overflow: auto;}#sk-container-id-1 input.sk-toggleable__control:checked~label.sk-toggleable__label-arrow:before {content: \"▾\";}#sk-container-id-1 div.sk-estimator input.sk-toggleable__control:checked~label.sk-toggleable__label {background-color: #d4ebff;}#sk-container-id-1 div.sk-label input.sk-toggleable__control:checked~label.sk-toggleable__label {background-color: #d4ebff;}#sk-container-id-1 input.sk-hidden--visually {border: 0;clip: rect(1px 1px 1px 1px);clip: rect(1px, 1px, 1px, 1px);height: 1px;margin: -1px;overflow: hidden;padding: 0;position: absolute;width: 1px;}#sk-container-id-1 div.sk-estimator {font-family: monospace;background-color: #f0f8ff;border: 1px dotted black;border-radius: 0.25em;box-sizing: border-box;margin-bottom: 0.5em;}#sk-container-id-1 div.sk-estimator:hover {background-color: #d4ebff;}#sk-container-id-1 div.sk-parallel-item::after {content: \"\";width: 100%;border-bottom: 1px solid gray;flex-grow: 1;}#sk-container-id-1 div.sk-label:hover label.sk-toggleable__label {background-color: #d4ebff;}#sk-container-id-1 div.sk-serial::before {content: \"\";position: absolute;border-left: 1px solid gray;box-sizing: border-box;top: 0;bottom: 0;left: 50%;z-index: 0;}#sk-container-id-1 div.sk-serial {display: flex;flex-direction: column;align-items: center;background-color: white;padding-right: 0.2em;padding-left: 0.2em;position: relative;}#sk-container-id-1 div.sk-item {position: relative;z-index: 1;}#sk-container-id-1 div.sk-parallel {display: flex;align-items: stretch;justify-content: center;background-color: white;position: relative;}#sk-container-id-1 div.sk-item::before, #sk-container-id-1 div.sk-parallel-item::before {content: \"\";position: absolute;border-left: 1px solid gray;box-sizing: border-box;top: 0;bottom: 0;left: 50%;z-index: -1;}#sk-container-id-1 div.sk-parallel-item {display: flex;flex-direction: column;z-index: 1;position: relative;background-color: white;}#sk-container-id-1 div.sk-parallel-item:first-child::after {align-self: flex-end;width: 50%;}#sk-container-id-1 div.sk-parallel-item:last-child::after {align-self: flex-start;width: 50%;}#sk-container-id-1 div.sk-parallel-item:only-child::after {width: 0;}#sk-container-id-1 div.sk-dashed-wrapped {border: 1px dashed gray;margin: 0 0.4em 0.5em 0.4em;box-sizing: border-box;padding-bottom: 0.4em;background-color: white;}#sk-container-id-1 div.sk-label label {font-family: monospace;font-weight: bold;display: inline-block;line-height: 1.2em;}#sk-container-id-1 div.sk-label-container {text-align: center;}#sk-container-id-1 div.sk-container {/* jupyter's `normalize.less` sets `[hidden] { display: none; }` but bootstrap.min.css set `[hidden] { display: none !important; }` so we also need the `!important` here to be able to override the default hidden behavior on the sphinx rendered scikit-learn.org. See: https://github.com/scikit-learn/scikit-learn/issues/21755 */display: inline-block !important;position: relative;}#sk-container-id-1 div.sk-text-repr-fallback {display: none;}</style><div id=\"sk-container-id-1\" class=\"sk-top-container\"><div class=\"sk-text-repr-fallback\"><pre>MinMaxScaler()</pre><b>In a Jupyter environment, please rerun this cell to show the HTML representation or trust the notebook. <br />On GitHub, the HTML representation is unable to render, please try loading this page with nbviewer.org.</b></div><div class=\"sk-container\" hidden><div class=\"sk-item\"><div class=\"sk-estimator sk-toggleable\"><input class=\"sk-toggleable__control sk-hidden--visually\" id=\"sk-estimator-id-1\" type=\"checkbox\" checked><label for=\"sk-estimator-id-1\" class=\"sk-toggleable__label sk-toggleable__label-arrow\">MinMaxScaler</label><div class=\"sk-toggleable__content\"><pre>MinMaxScaler()</pre></div></div></div></div></div>"
      ],
      "text/plain": [
       "MinMaxScaler()"
      ]
     },
     "execution_count": 7,
     "metadata": {},
     "output_type": "execute_result"
    }
   ],
   "source": [
    "# 1. create the object\n",
    "scaler = sklearn.preprocessing.MinMaxScaler()\n",
    "\n",
    "# 2. fit the object (learn the min and max value)\n",
    "scaler.fit(train.drop(columns=['Fertility']))"
   ]
  },
  {
   "cell_type": "code",
   "execution_count": 9,
   "id": "3d6cee41-ed17-48f0-bd49-de1bcb60938d",
   "metadata": {
    "tags": []
   },
   "outputs": [],
   "source": [
    "X = train.drop(columns=['Fertility'])\n",
    "y = train['Fertility']"
   ]
  },
  {
   "cell_type": "code",
   "execution_count": 12,
   "id": "58430071-7424-42ea-aae2-6849c9ea3f04",
   "metadata": {
    "tags": []
   },
   "outputs": [
    {
     "data": {
      "text/plain": [
       "69.64"
      ]
     },
     "execution_count": 12,
     "metadata": {},
     "output_type": "execute_result"
    }
   ],
   "source": [
    "baseline = y.mean()\n",
    "round(baseline,2)"
   ]
  },
  {
   "cell_type": "code",
   "execution_count": 13,
   "id": "19b93309-1ce3-41d3-b8b2-c274f8fb72f1",
   "metadata": {
    "tags": []
   },
   "outputs": [],
   "source": [
    "def evaluate_reg(y, yhat):\n",
    "    '''\n",
    "    based on two series, y_act, y_pred, (y, yhat), we\n",
    "    evaluate and return the root mean squared error\n",
    "    as well as the explained variance for the data.\n",
    "    \n",
    "    returns: rmse (float), rmse (float)\n",
    "    '''\n",
    "    rmse = mean_squared_error(y, yhat, squared=False)\n",
    "    r2 = r2_score(y, yhat)\n",
    "    return rmse, r2"
   ]
  },
  {
   "cell_type": "code",
   "execution_count": 14,
   "id": "9a8c0ede-336c-45cc-a889-1e32652cfbd5",
   "metadata": {
    "tags": []
   },
   "outputs": [],
   "source": [
    "baseline_array = np.repeat(baseline, y.shape[0])"
   ]
  },
  {
   "cell_type": "code",
   "execution_count": 17,
   "id": "3a0afec8-1a1f-4b19-9ad5-9ed626f21ef2",
   "metadata": {
    "tags": []
   },
   "outputs": [],
   "source": [
    "baseline_rmse, baseline_r2 = evaluate_reg(y, baseline_array)"
   ]
  },
  {
   "cell_type": "code",
   "execution_count": 18,
   "id": "f53d9ee0-5df0-4d26-99d7-da013ad89932",
   "metadata": {
    "tags": []
   },
   "outputs": [],
   "source": [
    "eval_df = pd.DataFrame([{\n",
    "    'model': 'baseline',\n",
    "    'rmse': baseline_rmse,\n",
    "    'r2': baseline_r2\n",
    "}])"
   ]
  },
  {
   "cell_type": "code",
   "execution_count": 19,
   "id": "47b86110-25f0-4de5-94c9-03bd5a1a17d0",
   "metadata": {
    "tags": []
   },
   "outputs": [
    {
     "data": {
      "text/html": [
       "<div>\n",
       "<style scoped>\n",
       "    .dataframe tbody tr th:only-of-type {\n",
       "        vertical-align: middle;\n",
       "    }\n",
       "\n",
       "    .dataframe tbody tr th {\n",
       "        vertical-align: top;\n",
       "    }\n",
       "\n",
       "    .dataframe thead th {\n",
       "        text-align: right;\n",
       "    }\n",
       "</style>\n",
       "<table border=\"1\" class=\"dataframe\">\n",
       "  <thead>\n",
       "    <tr style=\"text-align: right;\">\n",
       "      <th></th>\n",
       "      <th>model</th>\n",
       "      <th>rmse</th>\n",
       "      <th>r2</th>\n",
       "    </tr>\n",
       "  </thead>\n",
       "  <tbody>\n",
       "    <tr>\n",
       "      <th>0</th>\n",
       "      <td>baseline</td>\n",
       "      <td>12.141353</td>\n",
       "      <td>0.0</td>\n",
       "    </tr>\n",
       "  </tbody>\n",
       "</table>\n",
       "</div>"
      ],
      "text/plain": [
       "      model       rmse   r2\n",
       "0  baseline  12.141353  0.0"
      ]
     },
     "execution_count": 19,
     "metadata": {},
     "output_type": "execute_result"
    }
   ],
   "source": [
    "eval_df"
   ]
  },
  {
   "cell_type": "markdown",
   "id": "8e29c00e-a917-424d-927a-b595b500362e",
   "metadata": {},
   "source": [
    "### Ordinary Least Squares (OLS)\n",
    "\n",
    "#### OLS is our standard linear regression algorithm and is computed by minimizing the sum of squared differences in the linear model (residual) with the actual data points\n",
    "\n",
    "## simple linear regression + RFE\n",
    "### send in only one feature"
   ]
  },
  {
   "cell_type": "code",
   "execution_count": 22,
   "id": "e2acdd66-7b5c-4664-905f-097d3a0098c3",
   "metadata": {
    "tags": []
   },
   "outputs": [],
   "source": [
    "# initial ML model\n",
    "lr1 = LinearRegression()\n",
    "\n",
    "# rfe has entered the chat:\n",
    "rfe = RFE(lr1, n_features_to_select=1)\n",
    "\n",
    "# fit\n",
    "rfe.fit(X, y)\n",
    "\n",
    "# transform\n",
    "X_train_rfe = rfe.transform(X)\n",
    "\n",
    "X_val_rfe = rfe.transform(validate.drop(columns=['Fertility']))"
   ]
  },
  {
   "cell_type": "code",
   "execution_count": 23,
   "id": "fc965567-65e5-45f9-99db-d4bc40ef7485",
   "metadata": {
    "tags": []
   },
   "outputs": [
    {
     "data": {
      "text/plain": [
       "array(['Infant.Mortality'], dtype=object)"
      ]
     },
     "execution_count": 23,
     "metadata": {},
     "output_type": "execute_result"
    }
   ],
   "source": [
    "# feature that it selected?\n",
    "rfe.get_feature_names_out()"
   ]
  },
  {
   "cell_type": "code",
   "execution_count": 24,
   "id": "9e138a77-0e2e-4ac5-ad0a-ceb7926398b7",
   "metadata": {
    "tags": []
   },
   "outputs": [],
   "source": [
    "# lets make a X and y for val and test:\n",
    "X_val, y_val = validate.drop(\n",
    "    columns=['Fertility']\n",
    "), validate['Fertility']\n",
    "X_test, y_test = test.drop(\n",
    "    columns=['Fertility']\n",
    "), test['Fertility']"
   ]
  },
  {
   "cell_type": "code",
   "execution_count": 25,
   "id": "b1291d19-c6fb-4213-8e75-ad2e90229278",
   "metadata": {
    "tags": []
   },
   "outputs": [
    {
     "data": {
      "text/html": [
       "<style>#sk-container-id-2 {color: black;}#sk-container-id-2 pre{padding: 0;}#sk-container-id-2 div.sk-toggleable {background-color: white;}#sk-container-id-2 label.sk-toggleable__label {cursor: pointer;display: block;width: 100%;margin-bottom: 0;padding: 0.3em;box-sizing: border-box;text-align: center;}#sk-container-id-2 label.sk-toggleable__label-arrow:before {content: \"▸\";float: left;margin-right: 0.25em;color: #696969;}#sk-container-id-2 label.sk-toggleable__label-arrow:hover:before {color: black;}#sk-container-id-2 div.sk-estimator:hover label.sk-toggleable__label-arrow:before {color: black;}#sk-container-id-2 div.sk-toggleable__content {max-height: 0;max-width: 0;overflow: hidden;text-align: left;background-color: #f0f8ff;}#sk-container-id-2 div.sk-toggleable__content pre {margin: 0.2em;color: black;border-radius: 0.25em;background-color: #f0f8ff;}#sk-container-id-2 input.sk-toggleable__control:checked~div.sk-toggleable__content {max-height: 200px;max-width: 100%;overflow: auto;}#sk-container-id-2 input.sk-toggleable__control:checked~label.sk-toggleable__label-arrow:before {content: \"▾\";}#sk-container-id-2 div.sk-estimator input.sk-toggleable__control:checked~label.sk-toggleable__label {background-color: #d4ebff;}#sk-container-id-2 div.sk-label input.sk-toggleable__control:checked~label.sk-toggleable__label {background-color: #d4ebff;}#sk-container-id-2 input.sk-hidden--visually {border: 0;clip: rect(1px 1px 1px 1px);clip: rect(1px, 1px, 1px, 1px);height: 1px;margin: -1px;overflow: hidden;padding: 0;position: absolute;width: 1px;}#sk-container-id-2 div.sk-estimator {font-family: monospace;background-color: #f0f8ff;border: 1px dotted black;border-radius: 0.25em;box-sizing: border-box;margin-bottom: 0.5em;}#sk-container-id-2 div.sk-estimator:hover {background-color: #d4ebff;}#sk-container-id-2 div.sk-parallel-item::after {content: \"\";width: 100%;border-bottom: 1px solid gray;flex-grow: 1;}#sk-container-id-2 div.sk-label:hover label.sk-toggleable__label {background-color: #d4ebff;}#sk-container-id-2 div.sk-serial::before {content: \"\";position: absolute;border-left: 1px solid gray;box-sizing: border-box;top: 0;bottom: 0;left: 50%;z-index: 0;}#sk-container-id-2 div.sk-serial {display: flex;flex-direction: column;align-items: center;background-color: white;padding-right: 0.2em;padding-left: 0.2em;position: relative;}#sk-container-id-2 div.sk-item {position: relative;z-index: 1;}#sk-container-id-2 div.sk-parallel {display: flex;align-items: stretch;justify-content: center;background-color: white;position: relative;}#sk-container-id-2 div.sk-item::before, #sk-container-id-2 div.sk-parallel-item::before {content: \"\";position: absolute;border-left: 1px solid gray;box-sizing: border-box;top: 0;bottom: 0;left: 50%;z-index: -1;}#sk-container-id-2 div.sk-parallel-item {display: flex;flex-direction: column;z-index: 1;position: relative;background-color: white;}#sk-container-id-2 div.sk-parallel-item:first-child::after {align-self: flex-end;width: 50%;}#sk-container-id-2 div.sk-parallel-item:last-child::after {align-self: flex-start;width: 50%;}#sk-container-id-2 div.sk-parallel-item:only-child::after {width: 0;}#sk-container-id-2 div.sk-dashed-wrapped {border: 1px dashed gray;margin: 0 0.4em 0.5em 0.4em;box-sizing: border-box;padding-bottom: 0.4em;background-color: white;}#sk-container-id-2 div.sk-label label {font-family: monospace;font-weight: bold;display: inline-block;line-height: 1.2em;}#sk-container-id-2 div.sk-label-container {text-align: center;}#sk-container-id-2 div.sk-container {/* jupyter's `normalize.less` sets `[hidden] { display: none; }` but bootstrap.min.css set `[hidden] { display: none !important; }` so we also need the `!important` here to be able to override the default hidden behavior on the sphinx rendered scikit-learn.org. See: https://github.com/scikit-learn/scikit-learn/issues/21755 */display: inline-block !important;position: relative;}#sk-container-id-2 div.sk-text-repr-fallback {display: none;}</style><div id=\"sk-container-id-2\" class=\"sk-top-container\"><div class=\"sk-text-repr-fallback\"><pre>LinearRegression()</pre><b>In a Jupyter environment, please rerun this cell to show the HTML representation or trust the notebook. <br />On GitHub, the HTML representation is unable to render, please try loading this page with nbviewer.org.</b></div><div class=\"sk-container\" hidden><div class=\"sk-item\"><div class=\"sk-estimator sk-toggleable\"><input class=\"sk-toggleable__control sk-hidden--visually\" id=\"sk-estimator-id-2\" type=\"checkbox\" checked><label for=\"sk-estimator-id-2\" class=\"sk-toggleable__label sk-toggleable__label-arrow\">LinearRegression</label><div class=\"sk-toggleable__content\"><pre>LinearRegression()</pre></div></div></div></div></div>"
      ],
      "text/plain": [
       "LinearRegression()"
      ]
     },
     "execution_count": 25,
     "metadata": {},
     "output_type": "execute_result"
    }
   ],
   "source": [
    "lr1"
   ]
  },
  {
   "cell_type": "code",
   "execution_count": 26,
   "id": "e4bf030a-460b-4ab0-8709-25930e522d4b",
   "metadata": {
    "tags": []
   },
   "outputs": [
    {
     "data": {
      "text/html": [
       "<style>#sk-container-id-3 {color: black;}#sk-container-id-3 pre{padding: 0;}#sk-container-id-3 div.sk-toggleable {background-color: white;}#sk-container-id-3 label.sk-toggleable__label {cursor: pointer;display: block;width: 100%;margin-bottom: 0;padding: 0.3em;box-sizing: border-box;text-align: center;}#sk-container-id-3 label.sk-toggleable__label-arrow:before {content: \"▸\";float: left;margin-right: 0.25em;color: #696969;}#sk-container-id-3 label.sk-toggleable__label-arrow:hover:before {color: black;}#sk-container-id-3 div.sk-estimator:hover label.sk-toggleable__label-arrow:before {color: black;}#sk-container-id-3 div.sk-toggleable__content {max-height: 0;max-width: 0;overflow: hidden;text-align: left;background-color: #f0f8ff;}#sk-container-id-3 div.sk-toggleable__content pre {margin: 0.2em;color: black;border-radius: 0.25em;background-color: #f0f8ff;}#sk-container-id-3 input.sk-toggleable__control:checked~div.sk-toggleable__content {max-height: 200px;max-width: 100%;overflow: auto;}#sk-container-id-3 input.sk-toggleable__control:checked~label.sk-toggleable__label-arrow:before {content: \"▾\";}#sk-container-id-3 div.sk-estimator input.sk-toggleable__control:checked~label.sk-toggleable__label {background-color: #d4ebff;}#sk-container-id-3 div.sk-label input.sk-toggleable__control:checked~label.sk-toggleable__label {background-color: #d4ebff;}#sk-container-id-3 input.sk-hidden--visually {border: 0;clip: rect(1px 1px 1px 1px);clip: rect(1px, 1px, 1px, 1px);height: 1px;margin: -1px;overflow: hidden;padding: 0;position: absolute;width: 1px;}#sk-container-id-3 div.sk-estimator {font-family: monospace;background-color: #f0f8ff;border: 1px dotted black;border-radius: 0.25em;box-sizing: border-box;margin-bottom: 0.5em;}#sk-container-id-3 div.sk-estimator:hover {background-color: #d4ebff;}#sk-container-id-3 div.sk-parallel-item::after {content: \"\";width: 100%;border-bottom: 1px solid gray;flex-grow: 1;}#sk-container-id-3 div.sk-label:hover label.sk-toggleable__label {background-color: #d4ebff;}#sk-container-id-3 div.sk-serial::before {content: \"\";position: absolute;border-left: 1px solid gray;box-sizing: border-box;top: 0;bottom: 0;left: 50%;z-index: 0;}#sk-container-id-3 div.sk-serial {display: flex;flex-direction: column;align-items: center;background-color: white;padding-right: 0.2em;padding-left: 0.2em;position: relative;}#sk-container-id-3 div.sk-item {position: relative;z-index: 1;}#sk-container-id-3 div.sk-parallel {display: flex;align-items: stretch;justify-content: center;background-color: white;position: relative;}#sk-container-id-3 div.sk-item::before, #sk-container-id-3 div.sk-parallel-item::before {content: \"\";position: absolute;border-left: 1px solid gray;box-sizing: border-box;top: 0;bottom: 0;left: 50%;z-index: -1;}#sk-container-id-3 div.sk-parallel-item {display: flex;flex-direction: column;z-index: 1;position: relative;background-color: white;}#sk-container-id-3 div.sk-parallel-item:first-child::after {align-self: flex-end;width: 50%;}#sk-container-id-3 div.sk-parallel-item:last-child::after {align-self: flex-start;width: 50%;}#sk-container-id-3 div.sk-parallel-item:only-child::after {width: 0;}#sk-container-id-3 div.sk-dashed-wrapped {border: 1px dashed gray;margin: 0 0.4em 0.5em 0.4em;box-sizing: border-box;padding-bottom: 0.4em;background-color: white;}#sk-container-id-3 div.sk-label label {font-family: monospace;font-weight: bold;display: inline-block;line-height: 1.2em;}#sk-container-id-3 div.sk-label-container {text-align: center;}#sk-container-id-3 div.sk-container {/* jupyter's `normalize.less` sets `[hidden] { display: none; }` but bootstrap.min.css set `[hidden] { display: none !important; }` so we also need the `!important` here to be able to override the default hidden behavior on the sphinx rendered scikit-learn.org. See: https://github.com/scikit-learn/scikit-learn/issues/21755 */display: inline-block !important;position: relative;}#sk-container-id-3 div.sk-text-repr-fallback {display: none;}</style><div id=\"sk-container-id-3\" class=\"sk-top-container\"><div class=\"sk-text-repr-fallback\"><pre>LinearRegression()</pre><b>In a Jupyter environment, please rerun this cell to show the HTML representation or trust the notebook. <br />On GitHub, the HTML representation is unable to render, please try loading this page with nbviewer.org.</b></div><div class=\"sk-container\" hidden><div class=\"sk-item\"><div class=\"sk-estimator sk-toggleable\"><input class=\"sk-toggleable__control sk-hidden--visually\" id=\"sk-estimator-id-3\" type=\"checkbox\" checked><label for=\"sk-estimator-id-3\" class=\"sk-toggleable__label sk-toggleable__label-arrow\">LinearRegression</label><div class=\"sk-toggleable__content\"><pre>LinearRegression()</pre></div></div></div></div></div>"
      ],
      "text/plain": [
       "LinearRegression()"
      ]
     },
     "execution_count": 26,
     "metadata": {},
     "output_type": "execute_result"
    }
   ],
   "source": [
    "# lr1 as an object was created for our RFE process,\n",
    "# lets just use that same object for our first model\n",
    "lr1.fit(X_train_rfe, y)"
   ]
  },
  {
   "cell_type": "code",
   "execution_count": 27,
   "id": "605e21c0-165d-441a-8bc9-0f1933e4fc84",
   "metadata": {
    "tags": []
   },
   "outputs": [],
   "source": [
    "y_pred_val = lr1.predict(X_val_rfe)"
   ]
  },
  {
   "cell_type": "code",
   "execution_count": 28,
   "id": "64decaf3-5a5a-4cb7-ab5d-40e56f08433e",
   "metadata": {
    "tags": []
   },
   "outputs": [
    {
     "data": {
      "text/plain": [
       "(11.189614628113986, 0.15063160274179743)"
      ]
     },
     "execution_count": 28,
     "metadata": {},
     "output_type": "execute_result"
    }
   ],
   "source": [
    "# we filled in our first row of data\n",
    "# for our evaluation df with training score\n",
    "# lets ensure we compare apples to apples\n",
    "# and continue to use training scores (at least this df*)\n",
    "# * we still will want to retain these validation scores\n",
    "# for comparison against our \"best\" models to check for overfitting\n",
    "evaluate_reg(y, lr1.predict(X_train_rfe))"
   ]
  },
  {
   "cell_type": "code",
   "execution_count": 29,
   "id": "e80b6160-c1c7-461f-b4d8-a372f041a99b",
   "metadata": {
    "tags": []
   },
   "outputs": [
    {
     "data": {
      "text/plain": [
       "Index(['model', 'rmse', 'r2'], dtype='object')"
      ]
     },
     "execution_count": 29,
     "metadata": {},
     "output_type": "execute_result"
    }
   ],
   "source": [
    "eval_df.columns"
   ]
  },
  {
   "cell_type": "code",
   "execution_count": 30,
   "id": "ff129c29-6e28-4ff4-8273-aa692b48ec0d",
   "metadata": {
    "tags": []
   },
   "outputs": [],
   "source": [
    "# pd.concat is a one-liner so I dont really feel the need to\n",
    "# create a whole new function for this atm even though\n",
    "# we will do it a few times:\n",
    "rmse, r_2 = evaluate_reg(y, lr1.predict(X_train_rfe))\n",
    "eval_df = pd.concat([eval_df, pd.DataFrame(\n",
    "[\n",
    "    {\n",
    "        'model': 'ols_rfe_1',\n",
    "        'rmse': rmse,\n",
    "        'r2': r_2\n",
    "    }\n",
    "])], ignore_index=True, axis=0)"
   ]
  },
  {
   "cell_type": "code",
   "execution_count": 31,
   "id": "f79a344c-27f7-46fa-9d8f-8f7896c19b17",
   "metadata": {
    "tags": []
   },
   "outputs": [
    {
     "data": {
      "text/html": [
       "<div>\n",
       "<style scoped>\n",
       "    .dataframe tbody tr th:only-of-type {\n",
       "        vertical-align: middle;\n",
       "    }\n",
       "\n",
       "    .dataframe tbody tr th {\n",
       "        vertical-align: top;\n",
       "    }\n",
       "\n",
       "    .dataframe thead th {\n",
       "        text-align: right;\n",
       "    }\n",
       "</style>\n",
       "<table border=\"1\" class=\"dataframe\">\n",
       "  <thead>\n",
       "    <tr style=\"text-align: right;\">\n",
       "      <th></th>\n",
       "      <th>model</th>\n",
       "      <th>rmse</th>\n",
       "      <th>r2</th>\n",
       "    </tr>\n",
       "  </thead>\n",
       "  <tbody>\n",
       "    <tr>\n",
       "      <th>0</th>\n",
       "      <td>baseline</td>\n",
       "      <td>12.141353</td>\n",
       "      <td>0.000000</td>\n",
       "    </tr>\n",
       "    <tr>\n",
       "      <th>1</th>\n",
       "      <td>ols_rfe_1</td>\n",
       "      <td>11.189615</td>\n",
       "      <td>0.150632</td>\n",
       "    </tr>\n",
       "  </tbody>\n",
       "</table>\n",
       "</div>"
      ],
      "text/plain": [
       "       model       rmse        r2\n",
       "0   baseline  12.141353  0.000000\n",
       "1  ols_rfe_1  11.189615  0.150632"
      ]
     },
     "execution_count": 31,
     "metadata": {},
     "output_type": "execute_result"
    }
   ],
   "source": [
    "eval_df"
   ]
  },
  {
   "cell_type": "markdown",
   "id": "4fbb5e9f-83af-49a6-9a1b-ce24c0f34552",
   "metadata": {},
   "source": [
    "### examine the model\n",
    "## $y=𝛽_0 + 𝛽_i x_i$\n",
    "**intercept** ($𝛽_0$): Value we predict if x is 0. Depending on our x variables, this may not be valuable\n",
    "\n",
    "**coefficients** ($𝛽_i$): Define how our prediction changes as x changes. A one-unit increase in x causes our model to predict a coef unit change in y, holding all other independent variables constant\n",
    "### Intrepretation\n",
    "For every 1 [unit] increase in [feature], we predict a [# unit] increase in [target_variable]"
   ]
  },
  {
   "cell_type": "code",
   "execution_count": 32,
   "id": "be5b5651-7ed4-407c-bc96-afe3105090c2",
   "metadata": {
    "tags": []
   },
   "outputs": [
    {
     "data": {
      "text/plain": [
       "(array([1.97889992]), 30.220343809892256)"
      ]
     },
     "execution_count": 32,
     "metadata": {},
     "output_type": "execute_result"
    }
   ],
   "source": [
    "# (𝛽_i , 𝛽_0)\n",
    "(lr1.coef_, lr1.intercept_)"
   ]
  },
  {
   "cell_type": "code",
   "execution_count": 33,
   "id": "1ce9f2ae-5906-459f-a5d2-d9227bb43297",
   "metadata": {
    "tags": []
   },
   "outputs": [],
   "source": [
    "val_rmse, val_r2 = evaluate_reg(y_val, lr1.predict(X_val_rfe))\n",
    "val_dict = {\n",
    "    'model': 'ols_rfe_1',\n",
    "    'val_rmse': val_rmse,\n",
    "    'val_r2': val_r2\n",
    "}"
   ]
  },
  {
   "cell_type": "code",
   "execution_count": 34,
   "id": "5bf08aa2-87bb-4aae-9010-23317b5b19cc",
   "metadata": {
    "tags": []
   },
   "outputs": [],
   "source": [
    "val_scores = [val_dict]"
   ]
  },
  {
   "cell_type": "markdown",
   "id": "7ef15d78-1068-488f-8cf1-55ecb6e0cc67",
   "metadata": {},
   "source": [
    "## Multiple Regression\n",
    "\n",
    "$y = 𝛽_0 + 𝛽_1 x_1 + 𝛽_2 x_2 + 𝛽_3 x_3$\n",
    "\n",
    "### Model using OLS"
   ]
  },
  {
   "cell_type": "code",
   "execution_count": 35,
   "id": "0d09fde0-e4f8-4963-a340-a4f523d5b2a6",
   "metadata": {
    "tags": []
   },
   "outputs": [
    {
     "data": {
      "text/html": [
       "<style>#sk-container-id-4 {color: black;}#sk-container-id-4 pre{padding: 0;}#sk-container-id-4 div.sk-toggleable {background-color: white;}#sk-container-id-4 label.sk-toggleable__label {cursor: pointer;display: block;width: 100%;margin-bottom: 0;padding: 0.3em;box-sizing: border-box;text-align: center;}#sk-container-id-4 label.sk-toggleable__label-arrow:before {content: \"▸\";float: left;margin-right: 0.25em;color: #696969;}#sk-container-id-4 label.sk-toggleable__label-arrow:hover:before {color: black;}#sk-container-id-4 div.sk-estimator:hover label.sk-toggleable__label-arrow:before {color: black;}#sk-container-id-4 div.sk-toggleable__content {max-height: 0;max-width: 0;overflow: hidden;text-align: left;background-color: #f0f8ff;}#sk-container-id-4 div.sk-toggleable__content pre {margin: 0.2em;color: black;border-radius: 0.25em;background-color: #f0f8ff;}#sk-container-id-4 input.sk-toggleable__control:checked~div.sk-toggleable__content {max-height: 200px;max-width: 100%;overflow: auto;}#sk-container-id-4 input.sk-toggleable__control:checked~label.sk-toggleable__label-arrow:before {content: \"▾\";}#sk-container-id-4 div.sk-estimator input.sk-toggleable__control:checked~label.sk-toggleable__label {background-color: #d4ebff;}#sk-container-id-4 div.sk-label input.sk-toggleable__control:checked~label.sk-toggleable__label {background-color: #d4ebff;}#sk-container-id-4 input.sk-hidden--visually {border: 0;clip: rect(1px 1px 1px 1px);clip: rect(1px, 1px, 1px, 1px);height: 1px;margin: -1px;overflow: hidden;padding: 0;position: absolute;width: 1px;}#sk-container-id-4 div.sk-estimator {font-family: monospace;background-color: #f0f8ff;border: 1px dotted black;border-radius: 0.25em;box-sizing: border-box;margin-bottom: 0.5em;}#sk-container-id-4 div.sk-estimator:hover {background-color: #d4ebff;}#sk-container-id-4 div.sk-parallel-item::after {content: \"\";width: 100%;border-bottom: 1px solid gray;flex-grow: 1;}#sk-container-id-4 div.sk-label:hover label.sk-toggleable__label {background-color: #d4ebff;}#sk-container-id-4 div.sk-serial::before {content: \"\";position: absolute;border-left: 1px solid gray;box-sizing: border-box;top: 0;bottom: 0;left: 50%;z-index: 0;}#sk-container-id-4 div.sk-serial {display: flex;flex-direction: column;align-items: center;background-color: white;padding-right: 0.2em;padding-left: 0.2em;position: relative;}#sk-container-id-4 div.sk-item {position: relative;z-index: 1;}#sk-container-id-4 div.sk-parallel {display: flex;align-items: stretch;justify-content: center;background-color: white;position: relative;}#sk-container-id-4 div.sk-item::before, #sk-container-id-4 div.sk-parallel-item::before {content: \"\";position: absolute;border-left: 1px solid gray;box-sizing: border-box;top: 0;bottom: 0;left: 50%;z-index: -1;}#sk-container-id-4 div.sk-parallel-item {display: flex;flex-direction: column;z-index: 1;position: relative;background-color: white;}#sk-container-id-4 div.sk-parallel-item:first-child::after {align-self: flex-end;width: 50%;}#sk-container-id-4 div.sk-parallel-item:last-child::after {align-self: flex-start;width: 50%;}#sk-container-id-4 div.sk-parallel-item:only-child::after {width: 0;}#sk-container-id-4 div.sk-dashed-wrapped {border: 1px dashed gray;margin: 0 0.4em 0.5em 0.4em;box-sizing: border-box;padding-bottom: 0.4em;background-color: white;}#sk-container-id-4 div.sk-label label {font-family: monospace;font-weight: bold;display: inline-block;line-height: 1.2em;}#sk-container-id-4 div.sk-label-container {text-align: center;}#sk-container-id-4 div.sk-container {/* jupyter's `normalize.less` sets `[hidden] { display: none; }` but bootstrap.min.css set `[hidden] { display: none !important; }` so we also need the `!important` here to be able to override the default hidden behavior on the sphinx rendered scikit-learn.org. See: https://github.com/scikit-learn/scikit-learn/issues/21755 */display: inline-block !important;position: relative;}#sk-container-id-4 div.sk-text-repr-fallback {display: none;}</style><div id=\"sk-container-id-4\" class=\"sk-top-container\"><div class=\"sk-text-repr-fallback\"><pre>LinearRegression()</pre><b>In a Jupyter environment, please rerun this cell to show the HTML representation or trust the notebook. <br />On GitHub, the HTML representation is unable to render, please try loading this page with nbviewer.org.</b></div><div class=\"sk-container\" hidden><div class=\"sk-item\"><div class=\"sk-estimator sk-toggleable\"><input class=\"sk-toggleable__control sk-hidden--visually\" id=\"sk-estimator-id-4\" type=\"checkbox\" checked><label for=\"sk-estimator-id-4\" class=\"sk-toggleable__label sk-toggleable__label-arrow\">LinearRegression</label><div class=\"sk-toggleable__content\"><pre>LinearRegression()</pre></div></div></div></div></div>"
      ],
      "text/plain": [
       "LinearRegression()"
      ]
     },
     "execution_count": 35,
     "metadata": {},
     "output_type": "execute_result"
    }
   ],
   "source": [
    "# same process here, we are just changing the number of\n",
    "# features that we are using in selecting our outcome in OLS\n",
    "lr2 = LinearRegression()\n",
    "\n",
    "# fit it:\n",
    "lr2.fit(X, y)\n",
    "\n",
    "# use it:"
   ]
  },
  {
   "cell_type": "markdown",
   "id": "e7b902e5-4f29-40d2-9d16-723a11c95837",
   "metadata": {},
   "source": [
    "### Evaluate"
   ]
  },
  {
   "cell_type": "code",
   "execution_count": 36,
   "id": "5310bad6-4cfe-4f4a-8dea-83e36d4c0aa6",
   "metadata": {
    "tags": []
   },
   "outputs": [],
   "source": [
    "# pd.concat is a one-liner so I dont really feel the need to\n",
    "# create a whole new function for this atm even though\n",
    "# we will do it a few times:\n",
    "rmse, r_2 = evaluate_reg(y, lr2.predict(X))\n",
    "eval_df = pd.concat([eval_df, pd.DataFrame(\n",
    "[\n",
    "    {\n",
    "        'model': 'ols_all_feats',\n",
    "        'rmse': rmse,\n",
    "        'r2': r_2\n",
    "    }\n",
    "])], ignore_index=True, axis=0)"
   ]
  },
  {
   "cell_type": "code",
   "execution_count": 37,
   "id": "f3ca855b-973b-467e-a845-01c6419c86fa",
   "metadata": {
    "tags": []
   },
   "outputs": [],
   "source": [
    "val_rmse, val_r2 = evaluate_reg(y_val, lr2.predict(X_val))\n",
    "val_dict = {\n",
    "    'model': 'ols_all_feats',\n",
    "    'val_rmse': val_rmse,\n",
    "    'val_r2': val_r2\n",
    "}\n",
    "val_scores.append(val_dict)"
   ]
  },
  {
   "cell_type": "code",
   "execution_count": 38,
   "id": "00f3b689-a966-418f-b08e-cf24d0b1f460",
   "metadata": {
    "tags": []
   },
   "outputs": [
    {
     "data": {
      "text/html": [
       "<div>\n",
       "<style scoped>\n",
       "    .dataframe tbody tr th:only-of-type {\n",
       "        vertical-align: middle;\n",
       "    }\n",
       "\n",
       "    .dataframe tbody tr th {\n",
       "        vertical-align: top;\n",
       "    }\n",
       "\n",
       "    .dataframe thead th {\n",
       "        text-align: right;\n",
       "    }\n",
       "</style>\n",
       "<table border=\"1\" class=\"dataframe\">\n",
       "  <thead>\n",
       "    <tr style=\"text-align: right;\">\n",
       "      <th></th>\n",
       "      <th>model</th>\n",
       "      <th>rmse</th>\n",
       "      <th>r2</th>\n",
       "    </tr>\n",
       "  </thead>\n",
       "  <tbody>\n",
       "    <tr>\n",
       "      <th>0</th>\n",
       "      <td>baseline</td>\n",
       "      <td>12.141353</td>\n",
       "      <td>0.000000</td>\n",
       "    </tr>\n",
       "    <tr>\n",
       "      <th>1</th>\n",
       "      <td>ols_rfe_1</td>\n",
       "      <td>11.189615</td>\n",
       "      <td>0.150632</td>\n",
       "    </tr>\n",
       "    <tr>\n",
       "      <th>2</th>\n",
       "      <td>ols_all_feats</td>\n",
       "      <td>6.157281</td>\n",
       "      <td>0.742816</td>\n",
       "    </tr>\n",
       "  </tbody>\n",
       "</table>\n",
       "</div>"
      ],
      "text/plain": [
       "           model       rmse        r2\n",
       "0       baseline  12.141353  0.000000\n",
       "1      ols_rfe_1  11.189615  0.150632\n",
       "2  ols_all_feats   6.157281  0.742816"
      ]
     },
     "execution_count": 38,
     "metadata": {},
     "output_type": "execute_result"
    }
   ],
   "source": [
    "eval_df"
   ]
  },
  {
   "cell_type": "markdown",
   "id": "9cf2b6b9-4b60-4ca0-b9a9-43bb5a59e36a",
   "metadata": {},
   "source": [
    "### LassoLars\n",
    "#### LASSO = Least Absolute Shrinkage and Selection Operator\n",
    "#### LARS = Least Angle Regression\n",
    "- Performs intrinsic feature selection and noise reduction to avoid overfitting\n",
    "- The most important hyperparameter is alpha\n",
    "    - alpha determines the degree of regularization applied to the model\n",
    "    - The lowest alpha is zero, and this represents no regularization (identical to OLS)\n",
    "    - There is no limit to alpha, but as it rises, it will reach a point where performance no longer changes (often because you've regularized all of your coefficients to zero\n",
    "    - Generally speaking, the higher the alpha, the lower your risk for overfitting\n",
    "#### alpha = 1.0 is a good place to start\n",
    "#### alpha = 0, identical to OLS\n",
    "#### alpha = 1"
   ]
  },
  {
   "cell_type": "code",
   "execution_count": 40,
   "id": "73f804ac-5d3f-4c7c-9ca6-9f3e5996d83b",
   "metadata": {
    "tags": []
   },
   "outputs": [],
   "source": [
    "# fit a version of this that has an alpha of 1:\n",
    "# make it\n",
    "lasso = LassoLars(alpha=1)\n",
    "# fit it:\n",
    "lasso = lasso.fit(X, y)"
   ]
  },
  {
   "cell_type": "code",
   "execution_count": 42,
   "id": "b115b951-ced7-4792-9be7-6ba53d4c2c8e",
   "metadata": {
    "tags": []
   },
   "outputs": [
    {
     "data": {
      "text/plain": [
       "(array([-0.19901009, -0.26656774, -1.02146353,  0.09927321,  2.08921618]),\n",
       " array([-0.20243731, -0.30641886, -1.03283915,  0.0959672 ,  2.28042747]))"
      ]
     },
     "execution_count": 42,
     "metadata": {},
     "output_type": "execute_result"
    }
   ],
   "source": [
    "(lasso.coef_, lr2.coef_)"
   ]
  },
  {
   "cell_type": "markdown",
   "id": "16e29372-5436-4008-875c-ee9ca7cc931e",
   "metadata": {},
   "source": [
    "### Evaluate"
   ]
  },
  {
   "cell_type": "code",
   "execution_count": 43,
   "id": "44556bc7-7b63-4925-a5fc-054e61685b31",
   "metadata": {
    "tags": []
   },
   "outputs": [],
   "source": [
    "# pd.concat is a one-liner so I dont really feel the need to\n",
    "# create a whole new function for this atm even though\n",
    "# we will do it a few times:\n",
    "rmse, r_2 = evaluate_reg(y, lasso.predict(X))\n",
    "eval_df = pd.concat([eval_df, pd.DataFrame(\n",
    "[\n",
    "    {\n",
    "        'model': 'lasso',\n",
    "        'rmse': rmse,\n",
    "        'r2': r_2\n",
    "    }\n",
    "])], ignore_index=True, axis=0)"
   ]
  },
  {
   "cell_type": "code",
   "execution_count": 44,
   "id": "6ff8574a-0c23-499b-85e5-a9697917d72e",
   "metadata": {
    "tags": []
   },
   "outputs": [],
   "source": [
    "val_rmse, val_r2 = evaluate_reg(y_val, lasso.predict(X_val))\n",
    "val_dict = {\n",
    "    'model': 'lasso',\n",
    "    'val_rmse': val_rmse,\n",
    "    'val_r2': val_r2\n",
    "}"
   ]
  },
  {
   "cell_type": "code",
   "execution_count": 45,
   "id": "9176ed9f-93b0-4612-b94c-3de813f4a9a2",
   "metadata": {
    "tags": []
   },
   "outputs": [],
   "source": [
    "val_scores.append(val_dict)"
   ]
  },
  {
   "cell_type": "code",
   "execution_count": 46,
   "id": "1caa21fe-9d5e-4504-82ac-f9b562042d40",
   "metadata": {
    "tags": []
   },
   "outputs": [
    {
     "data": {
      "text/html": [
       "<div>\n",
       "<style scoped>\n",
       "    .dataframe tbody tr th:only-of-type {\n",
       "        vertical-align: middle;\n",
       "    }\n",
       "\n",
       "    .dataframe tbody tr th {\n",
       "        vertical-align: top;\n",
       "    }\n",
       "\n",
       "    .dataframe thead th {\n",
       "        text-align: right;\n",
       "    }\n",
       "</style>\n",
       "<table border=\"1\" class=\"dataframe\">\n",
       "  <thead>\n",
       "    <tr style=\"text-align: right;\">\n",
       "      <th></th>\n",
       "      <th>model</th>\n",
       "      <th>rmse</th>\n",
       "      <th>r2</th>\n",
       "    </tr>\n",
       "  </thead>\n",
       "  <tbody>\n",
       "    <tr>\n",
       "      <th>0</th>\n",
       "      <td>baseline</td>\n",
       "      <td>12.141353</td>\n",
       "      <td>0.000000</td>\n",
       "    </tr>\n",
       "    <tr>\n",
       "      <th>1</th>\n",
       "      <td>ols_rfe_1</td>\n",
       "      <td>11.189615</td>\n",
       "      <td>0.150632</td>\n",
       "    </tr>\n",
       "    <tr>\n",
       "      <th>2</th>\n",
       "      <td>ols_all_feats</td>\n",
       "      <td>6.157281</td>\n",
       "      <td>0.742816</td>\n",
       "    </tr>\n",
       "    <tr>\n",
       "      <th>3</th>\n",
       "      <td>lasso</td>\n",
       "      <td>6.176946</td>\n",
       "      <td>0.741171</td>\n",
       "    </tr>\n",
       "  </tbody>\n",
       "</table>\n",
       "</div>"
      ],
      "text/plain": [
       "           model       rmse        r2\n",
       "0       baseline  12.141353  0.000000\n",
       "1      ols_rfe_1  11.189615  0.150632\n",
       "2  ols_all_feats   6.157281  0.742816\n",
       "3          lasso   6.176946  0.741171"
      ]
     },
     "execution_count": 46,
     "metadata": {},
     "output_type": "execute_result"
    }
   ],
   "source": [
    "eval_df"
   ]
  },
  {
   "cell_type": "markdown",
   "id": "ad7ed4b5-9248-42c7-bbf0-3d5adfa26f70",
   "metadata": {},
   "source": [
    "## Polynomial Regression\n",
    "\n",
    "$y = β_0 + β_i x + β_k x^k$\n",
    "\n",
    "### process\n",
    "\n",
    "#### 1. create new features based on degrees\n",
    "#### 2. fit on a linear regression model"
   ]
  },
  {
   "cell_type": "code",
   "execution_count": 48,
   "id": "8a871729-143b-435a-894f-d92eb4c0124d",
   "metadata": {
    "tags": []
   },
   "outputs": [],
   "source": [
    "# do a preprocessing step with our training data\n",
    "# to transorm our x into combinations of x and x^2, x^3, etc\n",
    "pf = PolynomialFeatures(degree=2)\n",
    "# fit the thing, also use it\n",
    "x_train_sq = pf.fit_transform(X)\n",
    "# use this transformer to change our val and test:\n",
    "x_val_sq = pf.transform(X_val)\n",
    "x_test_sq = pf.transform(X_test)"
   ]
  },
  {
   "cell_type": "code",
   "execution_count": 49,
   "id": "08a03652-a852-4cd1-adde-7a5cf1d1b34e",
   "metadata": {
    "tags": []
   },
   "outputs": [
    {
     "data": {
      "text/html": [
       "<style>#sk-container-id-5 {color: black;}#sk-container-id-5 pre{padding: 0;}#sk-container-id-5 div.sk-toggleable {background-color: white;}#sk-container-id-5 label.sk-toggleable__label {cursor: pointer;display: block;width: 100%;margin-bottom: 0;padding: 0.3em;box-sizing: border-box;text-align: center;}#sk-container-id-5 label.sk-toggleable__label-arrow:before {content: \"▸\";float: left;margin-right: 0.25em;color: #696969;}#sk-container-id-5 label.sk-toggleable__label-arrow:hover:before {color: black;}#sk-container-id-5 div.sk-estimator:hover label.sk-toggleable__label-arrow:before {color: black;}#sk-container-id-5 div.sk-toggleable__content {max-height: 0;max-width: 0;overflow: hidden;text-align: left;background-color: #f0f8ff;}#sk-container-id-5 div.sk-toggleable__content pre {margin: 0.2em;color: black;border-radius: 0.25em;background-color: #f0f8ff;}#sk-container-id-5 input.sk-toggleable__control:checked~div.sk-toggleable__content {max-height: 200px;max-width: 100%;overflow: auto;}#sk-container-id-5 input.sk-toggleable__control:checked~label.sk-toggleable__label-arrow:before {content: \"▾\";}#sk-container-id-5 div.sk-estimator input.sk-toggleable__control:checked~label.sk-toggleable__label {background-color: #d4ebff;}#sk-container-id-5 div.sk-label input.sk-toggleable__control:checked~label.sk-toggleable__label {background-color: #d4ebff;}#sk-container-id-5 input.sk-hidden--visually {border: 0;clip: rect(1px 1px 1px 1px);clip: rect(1px, 1px, 1px, 1px);height: 1px;margin: -1px;overflow: hidden;padding: 0;position: absolute;width: 1px;}#sk-container-id-5 div.sk-estimator {font-family: monospace;background-color: #f0f8ff;border: 1px dotted black;border-radius: 0.25em;box-sizing: border-box;margin-bottom: 0.5em;}#sk-container-id-5 div.sk-estimator:hover {background-color: #d4ebff;}#sk-container-id-5 div.sk-parallel-item::after {content: \"\";width: 100%;border-bottom: 1px solid gray;flex-grow: 1;}#sk-container-id-5 div.sk-label:hover label.sk-toggleable__label {background-color: #d4ebff;}#sk-container-id-5 div.sk-serial::before {content: \"\";position: absolute;border-left: 1px solid gray;box-sizing: border-box;top: 0;bottom: 0;left: 50%;z-index: 0;}#sk-container-id-5 div.sk-serial {display: flex;flex-direction: column;align-items: center;background-color: white;padding-right: 0.2em;padding-left: 0.2em;position: relative;}#sk-container-id-5 div.sk-item {position: relative;z-index: 1;}#sk-container-id-5 div.sk-parallel {display: flex;align-items: stretch;justify-content: center;background-color: white;position: relative;}#sk-container-id-5 div.sk-item::before, #sk-container-id-5 div.sk-parallel-item::before {content: \"\";position: absolute;border-left: 1px solid gray;box-sizing: border-box;top: 0;bottom: 0;left: 50%;z-index: -1;}#sk-container-id-5 div.sk-parallel-item {display: flex;flex-direction: column;z-index: 1;position: relative;background-color: white;}#sk-container-id-5 div.sk-parallel-item:first-child::after {align-self: flex-end;width: 50%;}#sk-container-id-5 div.sk-parallel-item:last-child::after {align-self: flex-start;width: 50%;}#sk-container-id-5 div.sk-parallel-item:only-child::after {width: 0;}#sk-container-id-5 div.sk-dashed-wrapped {border: 1px dashed gray;margin: 0 0.4em 0.5em 0.4em;box-sizing: border-box;padding-bottom: 0.4em;background-color: white;}#sk-container-id-5 div.sk-label label {font-family: monospace;font-weight: bold;display: inline-block;line-height: 1.2em;}#sk-container-id-5 div.sk-label-container {text-align: center;}#sk-container-id-5 div.sk-container {/* jupyter's `normalize.less` sets `[hidden] { display: none; }` but bootstrap.min.css set `[hidden] { display: none !important; }` so we also need the `!important` here to be able to override the default hidden behavior on the sphinx rendered scikit-learn.org. See: https://github.com/scikit-learn/scikit-learn/issues/21755 */display: inline-block !important;position: relative;}#sk-container-id-5 div.sk-text-repr-fallback {display: none;}</style><div id=\"sk-container-id-5\" class=\"sk-top-container\"><div class=\"sk-text-repr-fallback\"><pre>LinearRegression()</pre><b>In a Jupyter environment, please rerun this cell to show the HTML representation or trust the notebook. <br />On GitHub, the HTML representation is unable to render, please try loading this page with nbviewer.org.</b></div><div class=\"sk-container\" hidden><div class=\"sk-item\"><div class=\"sk-estimator sk-toggleable\"><input class=\"sk-toggleable__control sk-hidden--visually\" id=\"sk-estimator-id-5\" type=\"checkbox\" checked><label for=\"sk-estimator-id-5\" class=\"sk-toggleable__label sk-toggleable__label-arrow\">LinearRegression</label><div class=\"sk-toggleable__content\"><pre>LinearRegression()</pre></div></div></div></div></div>"
      ],
      "text/plain": [
       "LinearRegression()"
      ]
     },
     "execution_count": 49,
     "metadata": {},
     "output_type": "execute_result"
    }
   ],
   "source": [
    "# make a new model for our polynomial regressor:\n",
    "plyreg = LinearRegression()\n",
    "plyreg.fit(x_train_sq, y)"
   ]
  },
  {
   "cell_type": "markdown",
   "id": "5d093e24-32fd-43b3-ba33-c415ec4a52dd",
   "metadata": {},
   "source": [
    "Evaluate"
   ]
  },
  {
   "cell_type": "code",
   "execution_count": 50,
   "id": "128339ee-3077-43a2-bf40-12a7c4c13e5d",
   "metadata": {
    "tags": []
   },
   "outputs": [],
   "source": [
    "# pd.concat is a one-liner so I dont really feel the need to\n",
    "# create a whole new function for this atm even though\n",
    "# we will do it a few times:\n",
    "rmse, r_2 = evaluate_reg(y, plyreg.predict(x_train_sq))\n",
    "eval_df = pd.concat([eval_df, pd.DataFrame(\n",
    "[\n",
    "    {\n",
    "        'model': 'quad_reg',\n",
    "        'rmse': rmse,\n",
    "        'r2': r_2\n",
    "    }\n",
    "])], ignore_index=True, axis=0)"
   ]
  },
  {
   "cell_type": "code",
   "execution_count": 51,
   "id": "546fe64e-895f-40b9-9081-2963950c1a7e",
   "metadata": {
    "tags": []
   },
   "outputs": [],
   "source": [
    "val_rmse, val_r2 = evaluate_reg(y_val, plyreg.predict(x_val_sq))\n",
    "val_dict = {\n",
    "    'model': 'quad_reg',\n",
    "    'val_rmse': val_rmse,\n",
    "    'val_r2': val_r2\n",
    "}"
   ]
  },
  {
   "cell_type": "code",
   "execution_count": 52,
   "id": "131abe89-49ee-460d-9c21-fab392983cd1",
   "metadata": {
    "tags": []
   },
   "outputs": [],
   "source": [
    "val_scores.append(val_dict)"
   ]
  },
  {
   "cell_type": "code",
   "execution_count": 53,
   "id": "355cafdd-ff2c-4708-8857-01b2e2ef5adf",
   "metadata": {
    "tags": []
   },
   "outputs": [
    {
     "data": {
      "text/html": [
       "<div>\n",
       "<style scoped>\n",
       "    .dataframe tbody tr th:only-of-type {\n",
       "        vertical-align: middle;\n",
       "    }\n",
       "\n",
       "    .dataframe tbody tr th {\n",
       "        vertical-align: top;\n",
       "    }\n",
       "\n",
       "    .dataframe thead th {\n",
       "        text-align: right;\n",
       "    }\n",
       "</style>\n",
       "<table border=\"1\" class=\"dataframe\">\n",
       "  <thead>\n",
       "    <tr style=\"text-align: right;\">\n",
       "      <th></th>\n",
       "      <th>model</th>\n",
       "      <th>rmse</th>\n",
       "      <th>r2</th>\n",
       "    </tr>\n",
       "  </thead>\n",
       "  <tbody>\n",
       "    <tr>\n",
       "      <th>0</th>\n",
       "      <td>baseline</td>\n",
       "      <td>12.141353</td>\n",
       "      <td>0.000000</td>\n",
       "    </tr>\n",
       "    <tr>\n",
       "      <th>1</th>\n",
       "      <td>ols_rfe_1</td>\n",
       "      <td>11.189615</td>\n",
       "      <td>0.150632</td>\n",
       "    </tr>\n",
       "    <tr>\n",
       "      <th>2</th>\n",
       "      <td>ols_all_feats</td>\n",
       "      <td>6.157281</td>\n",
       "      <td>0.742816</td>\n",
       "    </tr>\n",
       "    <tr>\n",
       "      <th>3</th>\n",
       "      <td>lasso</td>\n",
       "      <td>6.176946</td>\n",
       "      <td>0.741171</td>\n",
       "    </tr>\n",
       "    <tr>\n",
       "      <th>4</th>\n",
       "      <td>quad_reg</td>\n",
       "      <td>3.550531</td>\n",
       "      <td>0.914483</td>\n",
       "    </tr>\n",
       "  </tbody>\n",
       "</table>\n",
       "</div>"
      ],
      "text/plain": [
       "           model       rmse        r2\n",
       "0       baseline  12.141353  0.000000\n",
       "1      ols_rfe_1  11.189615  0.150632\n",
       "2  ols_all_feats   6.157281  0.742816\n",
       "3          lasso   6.176946  0.741171\n",
       "4       quad_reg   3.550531  0.914483"
      ]
     },
     "execution_count": 53,
     "metadata": {},
     "output_type": "execute_result"
    }
   ],
   "source": [
    "eval_df"
   ]
  },
  {
   "cell_type": "markdown",
   "id": "c85fc0a8-d9a3-4c3a-8547-05fb9f0b3b46",
   "metadata": {},
   "source": [
    "## Generalized Linear Model (GLM)\n",
    "The most flexible regression algorithm, the GLM allows for different distributions, beyond just the Normal Distribution for OLS (and other models based on OLS, like LASSO). We will use the TweedieRegressor method to create a GLM using sklearn.\n",
    "\n",
    "About power:\n",
    "\n",
    "    power = 0: Normal Distribution\n",
    "    power = 1: Poisson Distribution\n",
    "    power = (1,2): Compound Distribution\n",
    "    power = 2: Gamma Distribution\n",
    "    power = 3: Inverse Gaussian Distribution"
   ]
  },
  {
   "cell_type": "code",
   "execution_count": 55,
   "id": "ef25c46d-2a30-47be-977b-fd8118fd97a1",
   "metadata": {
    "tags": []
   },
   "outputs": [
    {
     "data": {
      "text/html": [
       "<style>#sk-container-id-6 {color: black;}#sk-container-id-6 pre{padding: 0;}#sk-container-id-6 div.sk-toggleable {background-color: white;}#sk-container-id-6 label.sk-toggleable__label {cursor: pointer;display: block;width: 100%;margin-bottom: 0;padding: 0.3em;box-sizing: border-box;text-align: center;}#sk-container-id-6 label.sk-toggleable__label-arrow:before {content: \"▸\";float: left;margin-right: 0.25em;color: #696969;}#sk-container-id-6 label.sk-toggleable__label-arrow:hover:before {color: black;}#sk-container-id-6 div.sk-estimator:hover label.sk-toggleable__label-arrow:before {color: black;}#sk-container-id-6 div.sk-toggleable__content {max-height: 0;max-width: 0;overflow: hidden;text-align: left;background-color: #f0f8ff;}#sk-container-id-6 div.sk-toggleable__content pre {margin: 0.2em;color: black;border-radius: 0.25em;background-color: #f0f8ff;}#sk-container-id-6 input.sk-toggleable__control:checked~div.sk-toggleable__content {max-height: 200px;max-width: 100%;overflow: auto;}#sk-container-id-6 input.sk-toggleable__control:checked~label.sk-toggleable__label-arrow:before {content: \"▾\";}#sk-container-id-6 div.sk-estimator input.sk-toggleable__control:checked~label.sk-toggleable__label {background-color: #d4ebff;}#sk-container-id-6 div.sk-label input.sk-toggleable__control:checked~label.sk-toggleable__label {background-color: #d4ebff;}#sk-container-id-6 input.sk-hidden--visually {border: 0;clip: rect(1px 1px 1px 1px);clip: rect(1px, 1px, 1px, 1px);height: 1px;margin: -1px;overflow: hidden;padding: 0;position: absolute;width: 1px;}#sk-container-id-6 div.sk-estimator {font-family: monospace;background-color: #f0f8ff;border: 1px dotted black;border-radius: 0.25em;box-sizing: border-box;margin-bottom: 0.5em;}#sk-container-id-6 div.sk-estimator:hover {background-color: #d4ebff;}#sk-container-id-6 div.sk-parallel-item::after {content: \"\";width: 100%;border-bottom: 1px solid gray;flex-grow: 1;}#sk-container-id-6 div.sk-label:hover label.sk-toggleable__label {background-color: #d4ebff;}#sk-container-id-6 div.sk-serial::before {content: \"\";position: absolute;border-left: 1px solid gray;box-sizing: border-box;top: 0;bottom: 0;left: 50%;z-index: 0;}#sk-container-id-6 div.sk-serial {display: flex;flex-direction: column;align-items: center;background-color: white;padding-right: 0.2em;padding-left: 0.2em;position: relative;}#sk-container-id-6 div.sk-item {position: relative;z-index: 1;}#sk-container-id-6 div.sk-parallel {display: flex;align-items: stretch;justify-content: center;background-color: white;position: relative;}#sk-container-id-6 div.sk-item::before, #sk-container-id-6 div.sk-parallel-item::before {content: \"\";position: absolute;border-left: 1px solid gray;box-sizing: border-box;top: 0;bottom: 0;left: 50%;z-index: -1;}#sk-container-id-6 div.sk-parallel-item {display: flex;flex-direction: column;z-index: 1;position: relative;background-color: white;}#sk-container-id-6 div.sk-parallel-item:first-child::after {align-self: flex-end;width: 50%;}#sk-container-id-6 div.sk-parallel-item:last-child::after {align-self: flex-start;width: 50%;}#sk-container-id-6 div.sk-parallel-item:only-child::after {width: 0;}#sk-container-id-6 div.sk-dashed-wrapped {border: 1px dashed gray;margin: 0 0.4em 0.5em 0.4em;box-sizing: border-box;padding-bottom: 0.4em;background-color: white;}#sk-container-id-6 div.sk-label label {font-family: monospace;font-weight: bold;display: inline-block;line-height: 1.2em;}#sk-container-id-6 div.sk-label-container {text-align: center;}#sk-container-id-6 div.sk-container {/* jupyter's `normalize.less` sets `[hidden] { display: none; }` but bootstrap.min.css set `[hidden] { display: none !important; }` so we also need the `!important` here to be able to override the default hidden behavior on the sphinx rendered scikit-learn.org. See: https://github.com/scikit-learn/scikit-learn/issues/21755 */display: inline-block !important;position: relative;}#sk-container-id-6 div.sk-text-repr-fallback {display: none;}</style><div id=\"sk-container-id-6\" class=\"sk-top-container\"><div class=\"sk-text-repr-fallback\"><pre>TweedieRegressor(power=2)</pre><b>In a Jupyter environment, please rerun this cell to show the HTML representation or trust the notebook. <br />On GitHub, the HTML representation is unable to render, please try loading this page with nbviewer.org.</b></div><div class=\"sk-container\" hidden><div class=\"sk-item\"><div class=\"sk-estimator sk-toggleable\"><input class=\"sk-toggleable__control sk-hidden--visually\" id=\"sk-estimator-id-6\" type=\"checkbox\" checked><label for=\"sk-estimator-id-6\" class=\"sk-toggleable__label sk-toggleable__label-arrow\">TweedieRegressor</label><div class=\"sk-toggleable__content\"><pre>TweedieRegressor(power=2)</pre></div></div></div></div></div>"
      ],
      "text/plain": [
       "TweedieRegressor(power=2)"
      ]
     },
     "execution_count": 55,
     "metadata": {},
     "output_type": "execute_result"
    }
   ],
   "source": [
    "# same process as before!\n",
    "# make the dang thing!\n",
    "gams = TweedieRegressor(power=2)\n",
    "# fit the dang ol thing\n",
    "gams.fit(X, y)\n",
    "# use it!"
   ]
  },
  {
   "cell_type": "markdown",
   "id": "dd0503d6-012b-4cd6-b61d-9cf3f180be2d",
   "metadata": {},
   "source": [
    "Evaluate"
   ]
  },
  {
   "cell_type": "code",
   "execution_count": 56,
   "id": "de883450-f276-431c-8add-eb812f0bafc2",
   "metadata": {
    "tags": []
   },
   "outputs": [],
   "source": [
    "# pd.concat is a one-liner so I dont really feel the need to\n",
    "# create a whole new function for this atm even though\n",
    "# we will do it a few times:\n",
    "rmse, r_2 = evaluate_reg(y, gams.predict(X))\n",
    "eval_df = pd.concat([eval_df, pd.DataFrame(\n",
    "[\n",
    "    {\n",
    "        'model': 'gamma_ols',\n",
    "        'rmse': rmse,\n",
    "        'r2': r_2\n",
    "    }\n",
    "])], ignore_index=True, axis=0)"
   ]
  },
  {
   "cell_type": "code",
   "execution_count": 57,
   "id": "3a4d058d-379f-4842-9e0c-e2072bd3f49d",
   "metadata": {
    "tags": []
   },
   "outputs": [
    {
     "data": {
      "text/html": [
       "<div>\n",
       "<style scoped>\n",
       "    .dataframe tbody tr th:only-of-type {\n",
       "        vertical-align: middle;\n",
       "    }\n",
       "\n",
       "    .dataframe tbody tr th {\n",
       "        vertical-align: top;\n",
       "    }\n",
       "\n",
       "    .dataframe thead th {\n",
       "        text-align: right;\n",
       "    }\n",
       "</style>\n",
       "<table border=\"1\" class=\"dataframe\">\n",
       "  <thead>\n",
       "    <tr style=\"text-align: right;\">\n",
       "      <th></th>\n",
       "      <th>model</th>\n",
       "      <th>rmse</th>\n",
       "      <th>r2</th>\n",
       "    </tr>\n",
       "  </thead>\n",
       "  <tbody>\n",
       "    <tr>\n",
       "      <th>0</th>\n",
       "      <td>baseline</td>\n",
       "      <td>12.141353</td>\n",
       "      <td>0.000000</td>\n",
       "    </tr>\n",
       "    <tr>\n",
       "      <th>1</th>\n",
       "      <td>ols_rfe_1</td>\n",
       "      <td>11.189615</td>\n",
       "      <td>0.150632</td>\n",
       "    </tr>\n",
       "    <tr>\n",
       "      <th>2</th>\n",
       "      <td>ols_all_feats</td>\n",
       "      <td>6.157281</td>\n",
       "      <td>0.742816</td>\n",
       "    </tr>\n",
       "    <tr>\n",
       "      <th>3</th>\n",
       "      <td>lasso</td>\n",
       "      <td>6.176946</td>\n",
       "      <td>0.741171</td>\n",
       "    </tr>\n",
       "    <tr>\n",
       "      <th>4</th>\n",
       "      <td>quad_reg</td>\n",
       "      <td>3.550531</td>\n",
       "      <td>0.914483</td>\n",
       "    </tr>\n",
       "    <tr>\n",
       "      <th>5</th>\n",
       "      <td>gamma_ols</td>\n",
       "      <td>6.260194</td>\n",
       "      <td>0.734147</td>\n",
       "    </tr>\n",
       "  </tbody>\n",
       "</table>\n",
       "</div>"
      ],
      "text/plain": [
       "           model       rmse        r2\n",
       "0       baseline  12.141353  0.000000\n",
       "1      ols_rfe_1  11.189615  0.150632\n",
       "2  ols_all_feats   6.157281  0.742816\n",
       "3          lasso   6.176946  0.741171\n",
       "4       quad_reg   3.550531  0.914483\n",
       "5      gamma_ols   6.260194  0.734147"
      ]
     },
     "execution_count": 57,
     "metadata": {},
     "output_type": "execute_result"
    }
   ],
   "source": [
    "val_rmse, val_r2 = evaluate_reg(y_val, gams.predict(X_val))\n",
    "val_dict = {\n",
    "    'model': 'gamma_ols',\n",
    "    'val_rmse': val_rmse,\n",
    "    'val_r2': val_r2\n",
    "}\n",
    "val_scores.append(val_dict)\n",
    "eval_df"
   ]
  },
  {
   "cell_type": "markdown",
   "id": "93809a46-33de-49a6-b2b2-595a773bdc1d",
   "metadata": {},
   "source": [
    "## Evaluate on Best Model"
   ]
  },
  {
   "cell_type": "code",
   "execution_count": 58,
   "id": "d3a1f25b-652f-4ae8-8267-99869beb3f6f",
   "metadata": {
    "tags": []
   },
   "outputs": [],
   "source": [
    "val_scores = pd.DataFrame(val_scores)"
   ]
  },
  {
   "cell_type": "code",
   "execution_count": 59,
   "id": "b832ab3b-538a-41a2-bbba-fc9859968da0",
   "metadata": {
    "tags": []
   },
   "outputs": [
    {
     "data": {
      "text/html": [
       "<div>\n",
       "<style scoped>\n",
       "    .dataframe tbody tr th:only-of-type {\n",
       "        vertical-align: middle;\n",
       "    }\n",
       "\n",
       "    .dataframe tbody tr th {\n",
       "        vertical-align: top;\n",
       "    }\n",
       "\n",
       "    .dataframe thead th {\n",
       "        text-align: right;\n",
       "    }\n",
       "</style>\n",
       "<table border=\"1\" class=\"dataframe\">\n",
       "  <thead>\n",
       "    <tr style=\"text-align: right;\">\n",
       "      <th></th>\n",
       "      <th>model</th>\n",
       "      <th>val_rmse</th>\n",
       "      <th>val_r2</th>\n",
       "    </tr>\n",
       "  </thead>\n",
       "  <tbody>\n",
       "    <tr>\n",
       "      <th>0</th>\n",
       "      <td>ols_rfe_1</td>\n",
       "      <td>11.505103</td>\n",
       "      <td>0.376658</td>\n",
       "    </tr>\n",
       "    <tr>\n",
       "      <th>1</th>\n",
       "      <td>ols_all_feats</td>\n",
       "      <td>6.800939</td>\n",
       "      <td>0.782187</td>\n",
       "    </tr>\n",
       "    <tr>\n",
       "      <th>2</th>\n",
       "      <td>lasso</td>\n",
       "      <td>5.926013</td>\n",
       "      <td>0.834625</td>\n",
       "    </tr>\n",
       "    <tr>\n",
       "      <th>3</th>\n",
       "      <td>quad_reg</td>\n",
       "      <td>38.580509</td>\n",
       "      <td>-6.009409</td>\n",
       "    </tr>\n",
       "    <tr>\n",
       "      <th>4</th>\n",
       "      <td>gamma_ols</td>\n",
       "      <td>3.788396</td>\n",
       "      <td>0.932414</td>\n",
       "    </tr>\n",
       "  </tbody>\n",
       "</table>\n",
       "</div>"
      ],
      "text/plain": [
       "           model   val_rmse    val_r2\n",
       "0      ols_rfe_1  11.505103  0.376658\n",
       "1  ols_all_feats   6.800939  0.782187\n",
       "2          lasso   5.926013  0.834625\n",
       "3       quad_reg  38.580509 -6.009409\n",
       "4      gamma_ols   3.788396  0.932414"
      ]
     },
     "execution_count": 59,
     "metadata": {},
     "output_type": "execute_result"
    }
   ],
   "source": [
    "val_scores"
   ]
  },
  {
   "cell_type": "code",
   "execution_count": 83,
   "id": "98b0c713-4889-4bcc-a7b3-af3ba6101fb1",
   "metadata": {
    "tags": []
   },
   "outputs": [
    {
     "data": {
      "image/png": "[encoded data removed]",
      "text/plain": [
       "<Figure size 640x480 with 1 Axes>"
      ]
     },
     "metadata": {},
     "output_type": "display_data"
    }
   ],
   "source": [
    "plt.scatter(y, lasso.predict(X), label='lasso')\n",
    "plt.title('Residuals vs Actuals for Lasso Model')\n",
    "plt.plot(y,y, ls='-', c='r')\n",
    "plt.xlabel('Fertility')\n",
    "plt.ylabel('Predicted Fertility')\n",
    "plt.show()"
   ]
  },
  {
   "cell_type": "code",
   "execution_count": 85,
   "id": "9b66be1c-db53-495c-b9aa-6a75c7e5fb31",
   "metadata": {
    "tags": []
   },
   "outputs": [
    {
     "data": {
      "image/png": "[encoded data removed]",
      "text/plain": [
       "<Figure size 640x480 with 1 Axes>"
      ]
     },
     "metadata": {},
     "output_type": "display_data"
    }
   ],
   "source": [
    "plt.scatter(y, gams.predict(X))\n",
    "plt.title('Residuals vs Actuals for Gamma')\n",
    "plt.plot(y,y, ls='-', c='r')\n",
    "plt.xlabel('Fertility')\n",
    "plt.ylabel('Predicted Fertility')\n",
    "plt.show()"
   ]
  },
  {
   "cell_type": "code",
   "execution_count": 71,
   "id": "4d0aaec8-10fe-4d2e-8dd6-d696185a2537",
   "metadata": {
    "tags": []
   },
   "outputs": [
    {
     "data": {
      "image/png": "[encoded data removed]",
      "text/plain": [
       "<Figure size 640x480 with 1 Axes>"
      ]
     },
     "metadata": {},
     "output_type": "display_data"
    }
   ],
   "source": [
    "plt.scatter(y, y - lr1.predict(X_train_rfe))\n",
    "plt.title('Residuals vs Actuals for Model based on lr')\n",
    "plt.axhline(0, ls=':', c='r', alpha=0.75)\n",
    "plt.xlabel('Fertility')\n",
    "plt.ylabel('Residuals in Fertility')\n",
    "plt.show()"
   ]
  },
  {
   "cell_type": "code",
   "execution_count": 88,
   "id": "9fd4a7ce-34c9-4b0c-9173-8da3d644f19f",
   "metadata": {
    "tags": []
   },
   "outputs": [
    {
     "data": {
      "image/png": "[encoded data removed]",
      "text/plain": [
       "<Figure size 640x480 with 1 Axes>"
      ]
     },
     "metadata": {},
     "output_type": "display_data"
    }
   ],
   "source": [
    "plt.scatter(y, y - lr1.predict(X_train_rfe), label='rfe')\n",
    "plt.scatter(y, y - lr2.predict(X), label='ols')\n",
    "plt.scatter(y, y - lasso.predict(X), label='lasso')\n",
    "plt.scatter(y, y - plyreg.predict(x_train_sq), label='quad')\n",
    "plt.scatter(y, y - gams.predict(X), label='gamma_ols')\n",
    "plt.title('Residuals vs Actuals for Everything')\n",
    "plt.axhline(0, ls=':', c='cyan', alpha=0.67)\n",
    "plt.xlabel('Fertility')\n",
    "plt.ylabel('Residuals in Fertility')\n",
    "plt.legend()\n",
    "plt.show()"
   ]
  },
  {
   "cell_type": "code",
   "execution_count": 75,
   "id": "2d549ce8-f94d-4aab-8d20-2a74280c7665",
   "metadata": {
    "tags": []
   },
   "outputs": [
    {
     "data": {
      "text/plain": [
       "Text(0.5, 1.0, 'Distributions of Predicted Values vs Real Target')"
      ]
     },
     "execution_count": 75,
     "metadata": {},
     "output_type": "execute_result"
    },
    {
     "data": {
      "image/png": "[encoded data removed]",
      "text/plain": [
       "<Figure size 2000x1500 with 1 Axes>"
      ]
     },
     "metadata": {},
     "output_type": "display_data"
    }
   ],
   "source": [
    "plt.figure(figsize=(20,15))\n",
    "plt.hist(lr1.predict(X_train_rfe), alpha=0.5, label='rfe')\n",
    "plt.hist(lr2.predict(X), alpha=0.5, label='ols')\n",
    "#plt.hist(plyreg.predict(x_train_sq), alpha=0.5, label='quad')\n",
    "#plt.hist(gams.predict(X), alpha=0.5, label='gamma_ols')\n",
    "plt.hist(y, alpha=0.2, label='Fertility')\n",
    "plt.legend()\n",
    "plt.title('Distributions of Predicted Values vs Real Target')"
   ]
  },
  {
   "cell_type": "code",
   "execution_count": null,
   "id": "ba8de7d2-951e-4648-856d-84ea37351dbd",
   "metadata": {},
   "outputs": [],
   "source": []
  }
 ],
 "metadata": {
  "kernelspec": {
   "display_name": "Python 3 (ipykernel)",
   "language": "python",
   "name": "python3"
  },
  "language_info": {
   "codemirror_mode": {
    "name": "ipython",
    "version": 3
   },
   "file_extension": ".py",
   "mimetype": "text/x-python",
   "name": "python",
   "nbconvert_exporter": "python",
   "pygments_lexer": "ipython3",
   "version": "3.11.4"
  }
 },
 "nbformat": 4,
 "nbformat_minor": 5
}
