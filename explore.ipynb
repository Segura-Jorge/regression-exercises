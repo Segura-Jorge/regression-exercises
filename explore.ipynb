{
 "cells": [
  {
   "cell_type": "code",
   "execution_count": 23,
   "id": "730452e9-1bd0-493e-948a-890f2e16483c",
   "metadata": {
    "tags": []
   },
   "outputs": [],
   "source": [
    "#tabular data imports :\n",
    "import pandas as pd\n",
    "import numpy as np\n",
    "import env\n",
    "from env import user, password, host\n",
    "\n",
    "# visualization imports:\n",
    "import matplotlib.pyplot as plt\n",
    "import seaborn as sns\n",
    "import sklearn.preprocessing\n",
    "from sklearn.model_selection import train_test_split\n",
    "\n",
    "from scipy.stats import pearsonr, spearmanr\n",
    "from scipy.stats import shapiro\n",
    "\n",
    "import warnings\n",
    "warnings.filterwarnings(\"ignore\")\n",
    "import wrangle as w\n",
    "import os\n",
    "directory = os.getcwd()"
   ]
  },
  {
   "cell_type": "markdown",
   "id": "4ab26fcf-9361-4d21-88bd-f404523ee870",
   "metadata": {},
   "source": [
    "# Exercises\n",
    "\n",
    "## Our Zillow scenario continues:\n",
    "\n",
    "### As a Codeup data science graduate, you want to show off your skills to the Zillow data science team in hopes of getting an interview for a position you saw pop up on LinkedIn. You thought it might look impressive to build an end-to-end project in which you use some of their Kaggle data to predict property values using some of their available features; who knows, you might even do some feature engineering to blow them away. Your goal is to predict the values of single unit properties using the observations from 2017.\n",
    "\n",
    "### In these exercises, you will run through the stages of exploration as you continue to work toward the above goal. Use only your train dataset to explore the relationships between independent variables with other independent variables or independent variables with your target variable."
   ]
  },
  {
   "cell_type": "code",
   "execution_count": 26,
   "id": "842a3780-bc37-4f03-89c2-343fc4b59ec7",
   "metadata": {
    "tags": []
   },
   "outputs": [
    {
     "data": {
      "text/html": [
       "<div>\n",
       "<style scoped>\n",
       "    .dataframe tbody tr th:only-of-type {\n",
       "        vertical-align: middle;\n",
       "    }\n",
       "\n",
       "    .dataframe tbody tr th {\n",
       "        vertical-align: top;\n",
       "    }\n",
       "\n",
       "    .dataframe thead th {\n",
       "        text-align: right;\n",
       "    }\n",
       "</style>\n",
       "<table border=\"1\" class=\"dataframe\">\n",
       "  <thead>\n",
       "    <tr style=\"text-align: right;\">\n",
       "      <th></th>\n",
       "      <th>id</th>\n",
       "      <th>bedrooms</th>\n",
       "      <th>bathrooms</th>\n",
       "      <th>sqft</th>\n",
       "      <th>taxvalue</th>\n",
       "      <th>yearbuilt</th>\n",
       "      <th>taxamount</th>\n",
       "      <th>county</th>\n",
       "    </tr>\n",
       "  </thead>\n",
       "  <tbody>\n",
       "    <tr>\n",
       "      <th>4</th>\n",
       "      <td>20</td>\n",
       "      <td>4</td>\n",
       "      <td>2.0</td>\n",
       "      <td>3633</td>\n",
       "      <td>296425</td>\n",
       "      <td>2005</td>\n",
       "      <td>6941.39</td>\n",
       "      <td>LA</td>\n",
       "    </tr>\n",
       "    <tr>\n",
       "      <th>6</th>\n",
       "      <td>31</td>\n",
       "      <td>3</td>\n",
       "      <td>4.0</td>\n",
       "      <td>1620</td>\n",
       "      <td>847770</td>\n",
       "      <td>2011</td>\n",
       "      <td>10244.94</td>\n",
       "      <td>LA</td>\n",
       "    </tr>\n",
       "    <tr>\n",
       "      <th>7</th>\n",
       "      <td>33</td>\n",
       "      <td>3</td>\n",
       "      <td>2.0</td>\n",
       "      <td>2077</td>\n",
       "      <td>646760</td>\n",
       "      <td>1926</td>\n",
       "      <td>7924.68</td>\n",
       "      <td>LA</td>\n",
       "    </tr>\n",
       "    <tr>\n",
       "      <th>11</th>\n",
       "      <td>62</td>\n",
       "      <td>0</td>\n",
       "      <td>0.0</td>\n",
       "      <td>1200</td>\n",
       "      <td>5328</td>\n",
       "      <td>1972</td>\n",
       "      <td>91.60</td>\n",
       "      <td>LA</td>\n",
       "    </tr>\n",
       "    <tr>\n",
       "      <th>14</th>\n",
       "      <td>97</td>\n",
       "      <td>0</td>\n",
       "      <td>0.0</td>\n",
       "      <td>171</td>\n",
       "      <td>6920</td>\n",
       "      <td>1973</td>\n",
       "      <td>255.17</td>\n",
       "      <td>LA</td>\n",
       "    </tr>\n",
       "  </tbody>\n",
       "</table>\n",
       "</div>"
      ],
      "text/plain": [
       "    id  bedrooms  bathrooms  sqft  taxvalue  yearbuilt  taxamount county\n",
       "4   20         4        2.0  3633    296425       2005    6941.39     LA\n",
       "6   31         3        4.0  1620    847770       2011   10244.94     LA\n",
       "7   33         3        2.0  2077    646760       1926    7924.68     LA\n",
       "11  62         0        0.0  1200      5328       1972      91.60     LA\n",
       "14  97         0        0.0   171      6920       1973     255.17     LA"
      ]
     },
     "execution_count": 26,
     "metadata": {},
     "output_type": "execute_result"
    }
   ],
   "source": [
    "df = w.prep_zillow(w.get_zillow_data())\n",
    "df.head()"
   ]
  },
  {
   "cell_type": "code",
   "execution_count": 40,
   "id": "34d24e04-e65e-47a0-bc2e-10cfe6d6c833",
   "metadata": {
    "tags": []
   },
   "outputs": [
    {
     "data": {
      "image/png": "[encoded data removed]",
      "text/plain": [
       "<Figure size 1600x300 with 7 Axes>"
      ]
     },
     "metadata": {},
     "output_type": "display_data"
    }
   ],
   "source": [
    "plt.figure(figsize=(16, 3))\n",
    "\n",
    "# List of columns\n",
    "cols = ['bedrooms','bathrooms','sqft','taxvalue','yearbuilt','taxamount','county']\n",
    "\n",
    "for i, col in enumerate(cols):\n",
    "    \n",
    "    # i starts at 0, but plot no.s should start at 1\n",
    "    plot_number = i + 1 \n",
    "    \n",
    "    # Create subplot.\n",
    "    plt.subplot(1,8, plot_number)\n",
    "    \n",
    "    # Title with column name.\n",
    "    plt.title(col)\n",
    "    \n",
    "    # Display histogram for column.\n",
    "    df[col].hist(bins=10)\n",
    "    \n",
    "    # Hide gridlines.\n",
    "    plt.grid(False)"
   ]
  },
  {
   "cell_type": "code",
   "execution_count": 33,
   "id": "dddcf234-9507-419e-aa4c-09c98078961d",
   "metadata": {
    "tags": []
   },
   "outputs": [
    {
     "data": {
      "text/plain": [
       "((1284141, 8), (428047, 8), (428047, 8))"
      ]
     },
     "execution_count": 33,
     "metadata": {},
     "output_type": "execute_result"
    }
   ],
   "source": [
    "# split the data\n",
    "\n",
    "train, validate_and_test = train_test_split(df, train_size=.60, random_state=123)\n",
    "validate, test = train_test_split(validate_and_test, test_size=.50, random_state=123)\n",
    "\n",
    "train.shape, test.shape, validate.shape"
   ]
  },
  {
   "cell_type": "code",
   "execution_count": 34,
   "id": "9c19d72c-0e5c-4989-a096-1e5c525e1cc2",
   "metadata": {
    "tags": []
   },
   "outputs": [
    {
     "data": {
      "text/html": [
       "<style>#sk-container-id-2 {color: black;}#sk-container-id-2 pre{padding: 0;}#sk-container-id-2 div.sk-toggleable {background-color: white;}#sk-container-id-2 label.sk-toggleable__label {cursor: pointer;display: block;width: 100%;margin-bottom: 0;padding: 0.3em;box-sizing: border-box;text-align: center;}#sk-container-id-2 label.sk-toggleable__label-arrow:before {content: \"▸\";float: left;margin-right: 0.25em;color: #696969;}#sk-container-id-2 label.sk-toggleable__label-arrow:hover:before {color: black;}#sk-container-id-2 div.sk-estimator:hover label.sk-toggleable__label-arrow:before {color: black;}#sk-container-id-2 div.sk-toggleable__content {max-height: 0;max-width: 0;overflow: hidden;text-align: left;background-color: #f0f8ff;}#sk-container-id-2 div.sk-toggleable__content pre {margin: 0.2em;color: black;border-radius: 0.25em;background-color: #f0f8ff;}#sk-container-id-2 input.sk-toggleable__control:checked~div.sk-toggleable__content {max-height: 200px;max-width: 100%;overflow: auto;}#sk-container-id-2 input.sk-toggleable__control:checked~label.sk-toggleable__label-arrow:before {content: \"▾\";}#sk-container-id-2 div.sk-estimator input.sk-toggleable__control:checked~label.sk-toggleable__label {background-color: #d4ebff;}#sk-container-id-2 div.sk-label input.sk-toggleable__control:checked~label.sk-toggleable__label {background-color: #d4ebff;}#sk-container-id-2 input.sk-hidden--visually {border: 0;clip: rect(1px 1px 1px 1px);clip: rect(1px, 1px, 1px, 1px);height: 1px;margin: -1px;overflow: hidden;padding: 0;position: absolute;width: 1px;}#sk-container-id-2 div.sk-estimator {font-family: monospace;background-color: #f0f8ff;border: 1px dotted black;border-radius: 0.25em;box-sizing: border-box;margin-bottom: 0.5em;}#sk-container-id-2 div.sk-estimator:hover {background-color: #d4ebff;}#sk-container-id-2 div.sk-parallel-item::after {content: \"\";width: 100%;border-bottom: 1px solid gray;flex-grow: 1;}#sk-container-id-2 div.sk-label:hover label.sk-toggleable__label {background-color: #d4ebff;}#sk-container-id-2 div.sk-serial::before {content: \"\";position: absolute;border-left: 1px solid gray;box-sizing: border-box;top: 0;bottom: 0;left: 50%;z-index: 0;}#sk-container-id-2 div.sk-serial {display: flex;flex-direction: column;align-items: center;background-color: white;padding-right: 0.2em;padding-left: 0.2em;position: relative;}#sk-container-id-2 div.sk-item {position: relative;z-index: 1;}#sk-container-id-2 div.sk-parallel {display: flex;align-items: stretch;justify-content: center;background-color: white;position: relative;}#sk-container-id-2 div.sk-item::before, #sk-container-id-2 div.sk-parallel-item::before {content: \"\";position: absolute;border-left: 1px solid gray;box-sizing: border-box;top: 0;bottom: 0;left: 50%;z-index: -1;}#sk-container-id-2 div.sk-parallel-item {display: flex;flex-direction: column;z-index: 1;position: relative;background-color: white;}#sk-container-id-2 div.sk-parallel-item:first-child::after {align-self: flex-end;width: 50%;}#sk-container-id-2 div.sk-parallel-item:last-child::after {align-self: flex-start;width: 50%;}#sk-container-id-2 div.sk-parallel-item:only-child::after {width: 0;}#sk-container-id-2 div.sk-dashed-wrapped {border: 1px dashed gray;margin: 0 0.4em 0.5em 0.4em;box-sizing: border-box;padding-bottom: 0.4em;background-color: white;}#sk-container-id-2 div.sk-label label {font-family: monospace;font-weight: bold;display: inline-block;line-height: 1.2em;}#sk-container-id-2 div.sk-label-container {text-align: center;}#sk-container-id-2 div.sk-container {/* jupyter's `normalize.less` sets `[hidden] { display: none; }` but bootstrap.min.css set `[hidden] { display: none !important; }` so we also need the `!important` here to be able to override the default hidden behavior on the sphinx rendered scikit-learn.org. See: https://github.com/scikit-learn/scikit-learn/issues/21755 */display: inline-block !important;position: relative;}#sk-container-id-2 div.sk-text-repr-fallback {display: none;}</style><div id=\"sk-container-id-2\" class=\"sk-top-container\"><div class=\"sk-text-repr-fallback\"><pre>MinMaxScaler()</pre><b>In a Jupyter environment, please rerun this cell to show the HTML representation or trust the notebook. <br />On GitHub, the HTML representation is unable to render, please try loading this page with nbviewer.org.</b></div><div class=\"sk-container\" hidden><div class=\"sk-item\"><div class=\"sk-estimator sk-toggleable\"><input class=\"sk-toggleable__control sk-hidden--visually\" id=\"sk-estimator-id-2\" type=\"checkbox\" checked><label for=\"sk-estimator-id-2\" class=\"sk-toggleable__label sk-toggleable__label-arrow\">MinMaxScaler</label><div class=\"sk-toggleable__content\"><pre>MinMaxScaler()</pre></div></div></div></div></div>"
      ],
      "text/plain": [
       "MinMaxScaler()"
      ]
     },
     "execution_count": 34,
     "metadata": {},
     "output_type": "execute_result"
    }
   ],
   "source": [
    "# 1. create the object\n",
    "scaler = sklearn.preprocessing.MinMaxScaler()\n",
    "\n",
    "# 2. fit the object (learn the min and max value)\n",
    "scaler.fit(train[['bedrooms','bathrooms','yearbuilt','sqft', 'taxamount']])"
   ]
  },
  {
   "cell_type": "code",
   "execution_count": 35,
   "id": "aa54c9b6-0806-4f9a-a722-4339f8b94500",
   "metadata": {
    "tags": []
   },
   "outputs": [],
   "source": [
    "train_scaled = scaler.transform(train[['bedrooms','bathrooms','yearbuilt','sqft', 'taxamount']])"
   ]
  },
  {
   "cell_type": "code",
   "execution_count": 36,
   "id": "73b9b9a4-a17d-447c-b058-345550750f4c",
   "metadata": {
    "tags": []
   },
   "outputs": [],
   "source": [
    "# assign the scaled values as new columns in the train\n",
    "\n",
    "train[['bedrooms_scaled','bathrooms_scaled','yearbuilt_scaled','sqft_scaled', 'taxamount_scaled']] = train_scaled"
   ]
  },
  {
   "cell_type": "code",
   "execution_count": 37,
   "id": "4143b1c7-483c-48c7-b4d8-27f72c5691d6",
   "metadata": {
    "tags": []
   },
   "outputs": [],
   "source": [
    "# make new scaled columns for validate and test (transform only)\n",
    "\n",
    "validate[['bedrooms_scaled','bathrooms_scaled','yearbuilt_scaled','sqft_scaled', 'taxamount_scaled']] = scaler.transform(validate[['bedrooms','bathrooms','yearbuilt','sqft','taxamount']])\n",
    "test[['bedrooms_scaled','bathrooms_scaled','yearbuilt_scaled','sqft_scaled', 'taxamount_scaled']] = scaler.transform(test[['bedrooms','bathrooms','yearbuilt','sqft','taxamount']])"
   ]
  },
  {
   "cell_type": "code",
   "execution_count": 38,
   "id": "7f95dd2a-46e9-4494-b88d-76304b4c30b5",
   "metadata": {
    "tags": []
   },
   "outputs": [],
   "source": [
    "train=train.set_index('id')"
   ]
  },
  {
   "cell_type": "code",
   "execution_count": 39,
   "id": "9e6d036b-a697-4fc9-81cc-be24dce7161c",
   "metadata": {
    "tags": []
   },
   "outputs": [
    {
     "data": {
      "text/html": [
       "<div>\n",
       "<style scoped>\n",
       "    .dataframe tbody tr th:only-of-type {\n",
       "        vertical-align: middle;\n",
       "    }\n",
       "\n",
       "    .dataframe tbody tr th {\n",
       "        vertical-align: top;\n",
       "    }\n",
       "\n",
       "    .dataframe thead th {\n",
       "        text-align: right;\n",
       "    }\n",
       "</style>\n",
       "<table border=\"1\" class=\"dataframe\">\n",
       "  <thead>\n",
       "    <tr style=\"text-align: right;\">\n",
       "      <th></th>\n",
       "      <th>bedrooms</th>\n",
       "      <th>bathrooms</th>\n",
       "      <th>sqft</th>\n",
       "      <th>taxvalue</th>\n",
       "      <th>yearbuilt</th>\n",
       "      <th>taxamount</th>\n",
       "      <th>county</th>\n",
       "      <th>bedrooms_scaled</th>\n",
       "      <th>bathrooms_scaled</th>\n",
       "      <th>yearbuilt_scaled</th>\n",
       "      <th>sqft_scaled</th>\n",
       "      <th>taxamount_scaled</th>\n",
       "    </tr>\n",
       "    <tr>\n",
       "      <th>id</th>\n",
       "      <th></th>\n",
       "      <th></th>\n",
       "      <th></th>\n",
       "      <th></th>\n",
       "      <th></th>\n",
       "      <th></th>\n",
       "      <th></th>\n",
       "      <th></th>\n",
       "      <th></th>\n",
       "      <th></th>\n",
       "      <th></th>\n",
       "      <th></th>\n",
       "    </tr>\n",
       "  </thead>\n",
       "  <tbody>\n",
       "    <tr>\n",
       "      <th>640628</th>\n",
       "      <td>5</td>\n",
       "      <td>4.0</td>\n",
       "      <td>3011</td>\n",
       "      <td>710674</td>\n",
       "      <td>2005</td>\n",
       "      <td>7561.14</td>\n",
       "      <td>Ventura</td>\n",
       "      <td>0.277778</td>\n",
       "      <td>0.125000</td>\n",
       "      <td>0.948837</td>\n",
       "      <td>0.005667</td>\n",
       "      <td>0.007001</td>\n",
       "    </tr>\n",
       "    <tr>\n",
       "      <th>5509</th>\n",
       "      <td>3</td>\n",
       "      <td>2.0</td>\n",
       "      <td>1682</td>\n",
       "      <td>603333</td>\n",
       "      <td>1961</td>\n",
       "      <td>7086.19</td>\n",
       "      <td>LA</td>\n",
       "      <td>0.166667</td>\n",
       "      <td>0.062500</td>\n",
       "      <td>0.744186</td>\n",
       "      <td>0.003165</td>\n",
       "      <td>0.006561</td>\n",
       "    </tr>\n",
       "    <tr>\n",
       "      <th>1374308</th>\n",
       "      <td>4</td>\n",
       "      <td>2.0</td>\n",
       "      <td>1433</td>\n",
       "      <td>82804</td>\n",
       "      <td>1954</td>\n",
       "      <td>1134.83</td>\n",
       "      <td>LA</td>\n",
       "      <td>0.222222</td>\n",
       "      <td>0.062500</td>\n",
       "      <td>0.711628</td>\n",
       "      <td>0.002696</td>\n",
       "      <td>0.001040</td>\n",
       "    </tr>\n",
       "    <tr>\n",
       "      <th>431433</th>\n",
       "      <td>3</td>\n",
       "      <td>2.5</td>\n",
       "      <td>2001</td>\n",
       "      <td>355444</td>\n",
       "      <td>1999</td>\n",
       "      <td>4174.92</td>\n",
       "      <td>Ventura</td>\n",
       "      <td>0.166667</td>\n",
       "      <td>0.078125</td>\n",
       "      <td>0.920930</td>\n",
       "      <td>0.003766</td>\n",
       "      <td>0.003860</td>\n",
       "    </tr>\n",
       "    <tr>\n",
       "      <th>1091294</th>\n",
       "      <td>4</td>\n",
       "      <td>2.0</td>\n",
       "      <td>2277</td>\n",
       "      <td>571000</td>\n",
       "      <td>1962</td>\n",
       "      <td>7113.02</td>\n",
       "      <td>LA</td>\n",
       "      <td>0.222222</td>\n",
       "      <td>0.062500</td>\n",
       "      <td>0.748837</td>\n",
       "      <td>0.004285</td>\n",
       "      <td>0.006585</td>\n",
       "    </tr>\n",
       "  </tbody>\n",
       "</table>\n",
       "</div>"
      ],
      "text/plain": [
       "         bedrooms  bathrooms  sqft  taxvalue  yearbuilt  taxamount   county  \\\n",
       "id                                                                            \n",
       "640628          5        4.0  3011    710674       2005    7561.14  Ventura   \n",
       "5509            3        2.0  1682    603333       1961    7086.19       LA   \n",
       "1374308         4        2.0  1433     82804       1954    1134.83       LA   \n",
       "431433          3        2.5  2001    355444       1999    4174.92  Ventura   \n",
       "1091294         4        2.0  2277    571000       1962    7113.02       LA   \n",
       "\n",
       "         bedrooms_scaled  bathrooms_scaled  yearbuilt_scaled  sqft_scaled  \\\n",
       "id                                                                          \n",
       "640628          0.277778          0.125000          0.948837     0.005667   \n",
       "5509            0.166667          0.062500          0.744186     0.003165   \n",
       "1374308         0.222222          0.062500          0.711628     0.002696   \n",
       "431433          0.166667          0.078125          0.920930     0.003766   \n",
       "1091294         0.222222          0.062500          0.748837     0.004285   \n",
       "\n",
       "         taxamount_scaled  \n",
       "id                         \n",
       "640628           0.007001  \n",
       "5509             0.006561  \n",
       "1374308          0.001040  \n",
       "431433           0.003860  \n",
       "1091294          0.006585  "
      ]
     },
     "execution_count": 39,
     "metadata": {},
     "output_type": "execute_result"
    }
   ],
   "source": [
    "train.head()"
   ]
  },
  {
   "cell_type": "markdown",
   "id": "78e53064-1fb0-47ba-9b15-17e908449705",
   "metadata": {
    "tags": []
   },
   "source": [
    "## Hypotheses:\n",
    "\n",
    "### Q1. Is there a relationship between taxamount and taxvalue?\n",
    "\n",
    "#### both of my variables are continuous\n",
    "\n",
    "#### **check for correlation**\n",
    "\n",
    "#### $H_0$: There is no linear correlation between taxamount and taxvalue\n",
    "\n",
    "#### $H_a$: There is a linear correlation between taxamount and taxvalue"
   ]
  },
  {
   "cell_type": "code",
   "execution_count": 44,
   "id": "243ebae1-697e-457f-a345-64cf5da61e8b",
   "metadata": {
    "tags": []
   },
   "outputs": [
    {
     "data": {
      "text/html": [
       "<div>\n",
       "<style scoped>\n",
       "    .dataframe tbody tr th:only-of-type {\n",
       "        vertical-align: middle;\n",
       "    }\n",
       "\n",
       "    .dataframe tbody tr th {\n",
       "        vertical-align: top;\n",
       "    }\n",
       "\n",
       "    .dataframe thead th {\n",
       "        text-align: right;\n",
       "    }\n",
       "</style>\n",
       "<table border=\"1\" class=\"dataframe\">\n",
       "  <thead>\n",
       "    <tr style=\"text-align: right;\">\n",
       "      <th></th>\n",
       "      <th>taxvalue</th>\n",
       "      <th>bedrooms_scaled</th>\n",
       "      <th>bathrooms_scaled</th>\n",
       "      <th>yearbuilt_scaled</th>\n",
       "      <th>sqft_scaled</th>\n",
       "      <th>taxamount_scaled</th>\n",
       "    </tr>\n",
       "  </thead>\n",
       "  <tbody>\n",
       "    <tr>\n",
       "      <th>taxvalue</th>\n",
       "      <td>1.000000</td>\n",
       "      <td>0.295250</td>\n",
       "      <td>0.481949</td>\n",
       "      <td>0.289844</td>\n",
       "      <td>0.523634</td>\n",
       "      <td>0.978536</td>\n",
       "    </tr>\n",
       "    <tr>\n",
       "      <th>bedrooms_scaled</th>\n",
       "      <td>0.295250</td>\n",
       "      <td>1.000000</td>\n",
       "      <td>0.634233</td>\n",
       "      <td>0.425741</td>\n",
       "      <td>0.655474</td>\n",
       "      <td>0.296697</td>\n",
       "    </tr>\n",
       "    <tr>\n",
       "      <th>bathrooms_scaled</th>\n",
       "      <td>0.481949</td>\n",
       "      <td>0.634233</td>\n",
       "      <td>1.000000</td>\n",
       "      <td>0.569716</td>\n",
       "      <td>0.826175</td>\n",
       "      <td>0.481522</td>\n",
       "    </tr>\n",
       "    <tr>\n",
       "      <th>yearbuilt_scaled</th>\n",
       "      <td>0.289844</td>\n",
       "      <td>0.425741</td>\n",
       "      <td>0.569716</td>\n",
       "      <td>1.000000</td>\n",
       "      <td>0.511892</td>\n",
       "      <td>0.288215</td>\n",
       "    </tr>\n",
       "    <tr>\n",
       "      <th>sqft_scaled</th>\n",
       "      <td>0.523634</td>\n",
       "      <td>0.655474</td>\n",
       "      <td>0.826175</td>\n",
       "      <td>0.511892</td>\n",
       "      <td>1.000000</td>\n",
       "      <td>0.521115</td>\n",
       "    </tr>\n",
       "    <tr>\n",
       "      <th>taxamount_scaled</th>\n",
       "      <td>0.978536</td>\n",
       "      <td>0.296697</td>\n",
       "      <td>0.481522</td>\n",
       "      <td>0.288215</td>\n",
       "      <td>0.521115</td>\n",
       "      <td>1.000000</td>\n",
       "    </tr>\n",
       "  </tbody>\n",
       "</table>\n",
       "</div>"
      ],
      "text/plain": [
       "                  taxvalue  bedrooms_scaled  bathrooms_scaled  \\\n",
       "taxvalue          1.000000         0.295250          0.481949   \n",
       "bedrooms_scaled   0.295250         1.000000          0.634233   \n",
       "bathrooms_scaled  0.481949         0.634233          1.000000   \n",
       "yearbuilt_scaled  0.289844         0.425741          0.569716   \n",
       "sqft_scaled       0.523634         0.655474          0.826175   \n",
       "taxamount_scaled  0.978536         0.296697          0.481522   \n",
       "\n",
       "                  yearbuilt_scaled  sqft_scaled  taxamount_scaled  \n",
       "taxvalue                  0.289844     0.523634          0.978536  \n",
       "bedrooms_scaled           0.425741     0.655474          0.296697  \n",
       "bathrooms_scaled          0.569716     0.826175          0.481522  \n",
       "yearbuilt_scaled          1.000000     0.511892          0.288215  \n",
       "sqft_scaled               0.511892     1.000000          0.521115  \n",
       "taxamount_scaled          0.288215     0.521115          1.000000  "
      ]
     },
     "execution_count": 44,
     "metadata": {},
     "output_type": "execute_result"
    }
   ],
   "source": [
    "# We already determined that all of the columns were NOT normally distributed.\n",
    "\n",
    "# create the correlation matrix using pandas .corr()\n",
    "tax_corr = train.drop(columns=['bedrooms','bathrooms','yearbuilt','sqft', 'taxamount']).corr(method='spearman')\n",
    "tax_corr"
   ]
  },
  {
   "cell_type": "code",
   "execution_count": 45,
   "id": "6bde83f5-413a-4f93-a025-dbde0f73136f",
   "metadata": {
    "tags": []
   },
   "outputs": [
    {
     "data": {
      "image/png": "[encoded data removed]",
      "text/plain": [
       "<Figure size 640x480 with 2 Axes>"
      ]
     },
     "metadata": {},
     "output_type": "display_data"
    }
   ],
   "source": [
    "# pass my correlation matrix to Seaborn's heatmap with customization\n",
    "sns.heatmap(tax_corr, cmap='PRGn', annot=True, \n",
    "            mask=np.triu(tax_corr))\n",
    "plt.show()"
   ]
  },
  {
   "cell_type": "code",
   "execution_count": 73,
   "id": "27e8b04f-a2f0-4987-8eb7-2439a01f2be1",
   "metadata": {
    "tags": []
   },
   "outputs": [
    {
     "name": "stdout",
     "output_type": "stream",
     "text": [
      "We reject H₀, there is a monotonic relationship.\n",
      "            Spearman’s r: 0.978536\n",
      "            P-value: 0.0\n"
     ]
    }
   ],
   "source": [
    "# Since my variables are not normally distributed, \n",
    "# use scipy stats function spearmanr to calculate correlation and p-value \n",
    "α=0.05\n",
    "r, p = spearmanr(train.taxamount_scaled, train.taxvalue)\n",
    "if p < α:\n",
    "        print(f\"\"\"We reject H₀, there is a monotonic relationship.\n",
    "            Spearman’s r: {r:2f}\n",
    "            P-value: {p}\"\"\")\n",
    "else:\n",
    "        print(f\"\"\"We fail to reject H₀: that there is a monotonic relationship.\n",
    "                    Spearman’s r: {r:2f}\n",
    "                    P-value: {p}\"\"\")"
   ]
  },
  {
   "cell_type": "code",
   "execution_count": null,
   "id": "8b5ef623-7aa0-411c-8a2a-86b74b55ddb1",
   "metadata": {},
   "outputs": [],
   "source": []
  },
  {
   "cell_type": "code",
   "execution_count": null,
   "id": "d8c61597-f79f-4271-abfd-1880cf08a5b3",
   "metadata": {},
   "outputs": [],
   "source": []
  },
  {
   "cell_type": "markdown",
   "id": "a9615045-3585-4ca3-8d37-0fbe03004e43",
   "metadata": {
    "tags": []
   },
   "source": [
    "#### 1. Write a function named `plot_variable_pairs` that accepts a dataframe as input and plots all of the pairwise relationships along with the regression line for each pair."
   ]
  },
  {
   "cell_type": "code",
   "execution_count": null,
   "id": "0c5bf577-1fd0-4020-a78c-b80c8a392400",
   "metadata": {},
   "outputs": [],
   "source": [
    "\n",
    "    "
   ]
  },
  {
   "cell_type": "markdown",
   "id": "7b7d9360-62f7-49d1-b9b5-c665d7047a6d",
   "metadata": {},
   "source": [
    "#### 2. Write a function named `plot_categorical_and_continuous_vars` that accepts your dataframe and the name of the columns that hold the continuous and categorical features and outputs 3 different plots for visualizing a categorical variable and a continuous variable."
   ]
  },
  {
   "cell_type": "code",
   "execution_count": null,
   "id": "d51484d0-8cc8-4c66-a74e-739ea6360d4c",
   "metadata": {},
   "outputs": [],
   "source": []
  },
  {
   "cell_type": "markdown",
   "id": "5b7fc92d-d93c-457d-b092-81da745c6a87",
   "metadata": {},
   "source": [
    "#### 3. Save the functions you have written to create visualizations in your `explore.py` file. Rewrite your notebook code so that you are using the functions imported from this file."
   ]
  },
  {
   "cell_type": "code",
   "execution_count": null,
   "id": "d3997065-bea6-4d4c-a9ad-ebd980fd6942",
   "metadata": {},
   "outputs": [],
   "source": []
  },
  {
   "cell_type": "markdown",
   "id": "b4ade6ed-ae80-4661-a433-ca5aa7756db8",
   "metadata": {},
   "source": [
    "#### 4. Use the functions you created above to explore your Zillow train dataset in your `explore.ipynb` notebook."
   ]
  },
  {
   "cell_type": "code",
   "execution_count": null,
   "id": "e5c9bf0f-f230-4d4c-a2fb-872a0079d689",
   "metadata": {},
   "outputs": [],
   "source": []
  },
  {
   "cell_type": "markdown",
   "id": "d9f657fb-6bf7-4a9c-ab68-b2e46221eba1",
   "metadata": {},
   "source": [
    "#### 5. Come up with some initial hypotheses based on your goal of predicting property value."
   ]
  },
  {
   "cell_type": "code",
   "execution_count": null,
   "id": "2c32c4d8-e478-4c89-8a25-090a314109ae",
   "metadata": {},
   "outputs": [],
   "source": []
  },
  {
   "cell_type": "markdown",
   "id": "3ec7f9f7-60ff-4650-a790-95d1baef65a4",
   "metadata": {},
   "source": [
    "#### 6. Visualize all combinations of variables in some way."
   ]
  },
  {
   "cell_type": "code",
   "execution_count": null,
   "id": "a530067b-11c4-4fff-9c7d-3bfbca199c77",
   "metadata": {},
   "outputs": [],
   "source": []
  },
  {
   "cell_type": "markdown",
   "id": "9411430f-2cab-4ea2-ac01-5bfdbed6883d",
   "metadata": {},
   "source": [
    "#### 7. Run the appropriate statistical tests where needed."
   ]
  },
  {
   "cell_type": "code",
   "execution_count": null,
   "id": "e2eb6f3c-9586-47c7-ae1e-42ca68d31689",
   "metadata": {},
   "outputs": [],
   "source": []
  },
  {
   "cell_type": "markdown",
   "id": "838344b2-55c7-40bd-9a2c-778a9be8ba30",
   "metadata": {},
   "source": [
    "#### 8. What independent variables are correlated with the dependent variable, home value?"
   ]
  },
  {
   "cell_type": "code",
   "execution_count": null,
   "id": "35e3f8b9-8aae-47af-a02c-10494f0bab72",
   "metadata": {},
   "outputs": [],
   "source": []
  },
  {
   "cell_type": "markdown",
   "id": "2efedaf2-aba5-44a8-ade8-9f1f66d3ab37",
   "metadata": {},
   "source": [
    "#### 9. Which independent variables are correlated with other independent variables (bedrooms, bathrooms, year built, square feet)?"
   ]
  },
  {
   "cell_type": "code",
   "execution_count": null,
   "id": "46aaf1e7-1008-4c36-8748-fa690d5de575",
   "metadata": {},
   "outputs": [],
   "source": []
  },
  {
   "cell_type": "markdown",
   "id": "5b6ecae9-f219-47d7-9be9-f8a757acb090",
   "metadata": {},
   "source": [
    "#### 10. Make sure to document your takeaways from visualizations and statistical tests as well as the decisions you make throughout your process."
   ]
  },
  {
   "cell_type": "code",
   "execution_count": null,
   "id": "919c2c10-1abd-45ec-b2c6-1d9cbed25e96",
   "metadata": {},
   "outputs": [],
   "source": []
  },
  {
   "cell_type": "markdown",
   "id": "416473ab-dbaf-421a-91f9-951d7a62cee7",
   "metadata": {},
   "source": [
    "#### 11. Explore your dataset with any other visualizations you think will be helpful."
   ]
  },
  {
   "cell_type": "code",
   "execution_count": null,
   "id": "c1ca1580-80b8-47b1-bc30-c8f73ba2a7a1",
   "metadata": {},
   "outputs": [],
   "source": []
  },
  {
   "cell_type": "markdown",
   "id": "6c7b9ea9-1a15-4035-9be2-26d0a1b0c90f",
   "metadata": {},
   "source": [
    "### Bonus Exercise\n",
    "#### 1. In a separate notebook called `explore_mall`, use the functions you have developed in this exercise with the `mall_customers` dataset in the Codeup database server. You will need to write a sql query to acquire your data. Make `spending_score` your target variable."
   ]
  },
  {
   "cell_type": "code",
   "execution_count": null,
   "id": "e07ae770-27d8-4899-b084-492aa770075c",
   "metadata": {},
   "outputs": [],
   "source": []
  }
 ],
 "metadata": {
  "kernelspec": {
   "display_name": "Python 3 (ipykernel)",
   "language": "python",
   "name": "python3"
  },
  "language_info": {
   "codemirror_mode": {
    "name": "ipython",
    "version": 3
   },
   "file_extension": ".py",
   "mimetype": "text/x-python",
   "name": "python",
   "nbconvert_exporter": "python",
   "pygments_lexer": "ipython3",
   "version": "3.11.4"
  }
 },
 "nbformat": 4,
 "nbformat_minor": 5
}
