{
 "cells": [
  {
   "cell_type": "code",
   "execution_count": 1,
   "id": "325d9dc7-1080-4d37-a311-00b81187e318",
   "metadata": {
    "tags": []
   },
   "outputs": [],
   "source": [
    "#tabular data imports :\n",
    "import pandas as pd\n",
    "import numpy as np\n",
    "import env\n",
    "from env import user, password, host\n",
    "\n",
    "# visualization imports:\n",
    "import matplotlib.pyplot as plt\n",
    "import seaborn as sns\n",
    "\n",
    "from sklearn.model_selection import train_test_split\n",
    "\n",
    "import warnings\n",
    "warnings.filterwarnings(\"ignore\")\n",
    "import wrangle as w\n",
    "import os\n",
    "directory = os.getcwd()"
   ]
  },
  {
   "cell_type": "markdown",
   "id": "c5fee340-bb09-46d6-b930-e9654ac82646",
   "metadata": {},
   "source": [
    "### Exercises I\n",
    "\n",
    "#### Let's review the steps we take at the beginning of each new module.\n",
    "\n",
    "1. Create a new repository named regression-exercises in your GitHub; all of your Regression work will be housed here.\n",
    "2. Clone this repository within your local codeup-data-science directory.\n",
    "3. Create a .gitignore and make sure your list of 'files to ignore' includes your env.py file.\n",
    "4. Ceate a README.md file that outlines the contents and purpose of your repository.\n",
    "5. Add, commit, and push these two files.\n",
    "6. Now you can add your env.py file to this repository to access the Codeup database server.\n",
    "7. For these exercises, you will create wrangle.ipynb and wrangle.py files to hold necessary functions.\n",
    "8. As always, add, commit, and push your work often."
   ]
  },
  {
   "cell_type": "markdown",
   "id": "f1fef229-57f7-49a3-8009-681bb8dc5bdf",
   "metadata": {},
   "source": [
    "## Exercises II\n",
    "\n",
    "### Let's set up an example scenario as perspective for our regression exercises using the Zillow dataset.\n",
    "\n",
    "#### As a Codeup data science graduate, you want to show off your skills to the Zillow data science team in hopes of getting an interview for a position you saw pop up on LinkedIn. You thought it might look impressive to build an end-to-end project in which you use some of their Kaggle data to predict property values using some of their available features; who knows, you might even do some feature engineering to blow them away. Your goal is to predict the values of single unit properties using the observations from 2017.\n",
    "\n",
    "#### In these exercises, you will complete the first step toward the above goal: acquire and prepare the necessary Zillow data from the zillow database in the Codeup database server."
   ]
  },
  {
   "cell_type": "markdown",
   "id": "e6ea4294-aed3-465b-a65d-4012e62bc776",
   "metadata": {},
   "source": [
    "#### 1. Acquire `bedroomcnt`, `bathroomcnt`, `calculatedfinishedsquarefeet`, `taxvaluedollarcnt`, `yearbuilt`, `taxamount`, and `fips` from the zillow database for all 'Single Family Residential' properties."
   ]
  },
  {
   "cell_type": "code",
   "execution_count": 2,
   "id": "9386fa52-4a4e-47e7-9e5e-56a7e2dd80a4",
   "metadata": {
    "tags": []
   },
   "outputs": [
    {
     "data": {
      "text/html": [
       "<div>\n",
       "<style scoped>\n",
       "    .dataframe tbody tr th:only-of-type {\n",
       "        vertical-align: middle;\n",
       "    }\n",
       "\n",
       "    .dataframe tbody tr th {\n",
       "        vertical-align: top;\n",
       "    }\n",
       "\n",
       "    .dataframe thead th {\n",
       "        text-align: right;\n",
       "    }\n",
       "</style>\n",
       "<table border=\"1\" class=\"dataframe\">\n",
       "  <thead>\n",
       "    <tr style=\"text-align: right;\">\n",
       "      <th></th>\n",
       "      <th>id</th>\n",
       "      <th>bedroomcnt</th>\n",
       "      <th>bathroomcnt</th>\n",
       "      <th>calculatedfinishedsquarefeet</th>\n",
       "      <th>taxvaluedollarcnt</th>\n",
       "      <th>yearbuilt</th>\n",
       "      <th>taxamount</th>\n",
       "      <th>fips</th>\n",
       "    </tr>\n",
       "  </thead>\n",
       "  <tbody>\n",
       "    <tr>\n",
       "      <th>0</th>\n",
       "      <td>1</td>\n",
       "      <td>0.0</td>\n",
       "      <td>0.0</td>\n",
       "      <td>NaN</td>\n",
       "      <td>27516.0</td>\n",
       "      <td>NaN</td>\n",
       "      <td>NaN</td>\n",
       "      <td>6037.0</td>\n",
       "    </tr>\n",
       "    <tr>\n",
       "      <th>1</th>\n",
       "      <td>15</td>\n",
       "      <td>0.0</td>\n",
       "      <td>0.0</td>\n",
       "      <td>NaN</td>\n",
       "      <td>10.0</td>\n",
       "      <td>NaN</td>\n",
       "      <td>NaN</td>\n",
       "      <td>6037.0</td>\n",
       "    </tr>\n",
       "    <tr>\n",
       "      <th>2</th>\n",
       "      <td>16</td>\n",
       "      <td>0.0</td>\n",
       "      <td>0.0</td>\n",
       "      <td>NaN</td>\n",
       "      <td>10.0</td>\n",
       "      <td>NaN</td>\n",
       "      <td>NaN</td>\n",
       "      <td>6037.0</td>\n",
       "    </tr>\n",
       "    <tr>\n",
       "      <th>3</th>\n",
       "      <td>17</td>\n",
       "      <td>0.0</td>\n",
       "      <td>0.0</td>\n",
       "      <td>NaN</td>\n",
       "      <td>2108.0</td>\n",
       "      <td>NaN</td>\n",
       "      <td>174.21</td>\n",
       "      <td>6037.0</td>\n",
       "    </tr>\n",
       "    <tr>\n",
       "      <th>4</th>\n",
       "      <td>20</td>\n",
       "      <td>4.0</td>\n",
       "      <td>2.0</td>\n",
       "      <td>3633.0</td>\n",
       "      <td>296425.0</td>\n",
       "      <td>2005.0</td>\n",
       "      <td>6941.39</td>\n",
       "      <td>6037.0</td>\n",
       "    </tr>\n",
       "  </tbody>\n",
       "</table>\n",
       "</div>"
      ],
      "text/plain": [
       "   id  bedroomcnt  bathroomcnt  calculatedfinishedsquarefeet  \\\n",
       "0   1         0.0          0.0                           NaN   \n",
       "1  15         0.0          0.0                           NaN   \n",
       "2  16         0.0          0.0                           NaN   \n",
       "3  17         0.0          0.0                           NaN   \n",
       "4  20         4.0          2.0                        3633.0   \n",
       "\n",
       "   taxvaluedollarcnt  yearbuilt  taxamount    fips  \n",
       "0            27516.0        NaN        NaN  6037.0  \n",
       "1               10.0        NaN        NaN  6037.0  \n",
       "2               10.0        NaN        NaN  6037.0  \n",
       "3             2108.0        NaN     174.21  6037.0  \n",
       "4           296425.0     2005.0    6941.39  6037.0  "
      ]
     },
     "execution_count": 2,
     "metadata": {},
     "output_type": "execute_result"
    }
   ],
   "source": [
    "df = w.new_zillow_data()\n",
    "df.head()"
   ]
  },
  {
   "cell_type": "markdown",
   "id": "11c12b43-15aa-4364-8127-e870e215ff19",
   "metadata": {},
   "source": [
    "#### 2. Using your acquired Zillow data, walk through the summarization and cleaning steps in your `wrangle.ipynb` file like we did above. You may handle the missing values however you feel is appropriate and meaningful; remember to document your process and decisions using markdown and code commenting where helpful."
   ]
  },
  {
   "cell_type": "code",
   "execution_count": 3,
   "id": "ce154815-c1d7-4765-b151-96ba06b78f4a",
   "metadata": {
    "tags": []
   },
   "outputs": [
    {
     "data": {
      "text/plain": [
       "(2152863, 8)"
      ]
     },
     "execution_count": 3,
     "metadata": {},
     "output_type": "execute_result"
    }
   ],
   "source": [
    "df.shape"
   ]
  },
  {
   "cell_type": "code",
   "execution_count": 4,
   "id": "ee3160a0-0968-4128-a14f-30d99dbaf6f6",
   "metadata": {
    "tags": []
   },
   "outputs": [
    {
     "name": "stdout",
     "output_type": "stream",
     "text": [
      "<class 'pandas.core.frame.DataFrame'>\n",
      "RangeIndex: 2152863 entries, 0 to 2152862\n",
      "Data columns (total 8 columns):\n",
      " #   Column                        Non-Null Count    Dtype  \n",
      "---  ------                        --------------    -----  \n",
      " 0   id                            2152863 non-null  int64  \n",
      " 1   bedroomcnt                    2152852 non-null  float64\n",
      " 2   bathroomcnt                   2152852 non-null  float64\n",
      " 3   calculatedfinishedsquarefeet  2144379 non-null  float64\n",
      " 4   taxvaluedollarcnt             2152370 non-null  float64\n",
      " 5   yearbuilt                     2143526 non-null  float64\n",
      " 6   taxamount                     2148421 non-null  float64\n",
      " 7   fips                          2152863 non-null  float64\n",
      "dtypes: float64(7), int64(1)\n",
      "memory usage: 131.4 MB\n"
     ]
    }
   ],
   "source": [
    "df.info(show_counts=True)"
   ]
  },
  {
   "cell_type": "code",
   "execution_count": 5,
   "id": "f6d3543f-b561-4e2b-abae-5eda2c36698c",
   "metadata": {
    "tags": []
   },
   "outputs": [
    {
     "data": {
      "text/html": [
       "<div>\n",
       "<style scoped>\n",
       "    .dataframe tbody tr th:only-of-type {\n",
       "        vertical-align: middle;\n",
       "    }\n",
       "\n",
       "    .dataframe tbody tr th {\n",
       "        vertical-align: top;\n",
       "    }\n",
       "\n",
       "    .dataframe thead th {\n",
       "        text-align: right;\n",
       "    }\n",
       "</style>\n",
       "<table border=\"1\" class=\"dataframe\">\n",
       "  <thead>\n",
       "    <tr style=\"text-align: right;\">\n",
       "      <th></th>\n",
       "      <th>count</th>\n",
       "      <th>mean</th>\n",
       "      <th>std</th>\n",
       "      <th>min</th>\n",
       "      <th>25%</th>\n",
       "      <th>50%</th>\n",
       "      <th>75%</th>\n",
       "      <th>max</th>\n",
       "    </tr>\n",
       "  </thead>\n",
       "  <tbody>\n",
       "    <tr>\n",
       "      <th>id</th>\n",
       "      <td>2152863.0</td>\n",
       "      <td>1.490834e+06</td>\n",
       "      <td>860878.470977</td>\n",
       "      <td>1.00</td>\n",
       "      <td>745117.00</td>\n",
       "      <td>1490613.00</td>\n",
       "      <td>2235859.50</td>\n",
       "      <td>2982282.00</td>\n",
       "    </tr>\n",
       "    <tr>\n",
       "      <th>bedroomcnt</th>\n",
       "      <td>2152852.0</td>\n",
       "      <td>3.287196e+00</td>\n",
       "      <td>0.954754</td>\n",
       "      <td>0.00</td>\n",
       "      <td>3.00</td>\n",
       "      <td>3.00</td>\n",
       "      <td>4.00</td>\n",
       "      <td>25.00</td>\n",
       "    </tr>\n",
       "    <tr>\n",
       "      <th>bathroomcnt</th>\n",
       "      <td>2152852.0</td>\n",
       "      <td>2.230688e+00</td>\n",
       "      <td>0.999280</td>\n",
       "      <td>0.00</td>\n",
       "      <td>2.00</td>\n",
       "      <td>2.00</td>\n",
       "      <td>3.00</td>\n",
       "      <td>32.00</td>\n",
       "    </tr>\n",
       "    <tr>\n",
       "      <th>calculatedfinishedsquarefeet</th>\n",
       "      <td>2144379.0</td>\n",
       "      <td>1.862855e+03</td>\n",
       "      <td>1222.125124</td>\n",
       "      <td>1.00</td>\n",
       "      <td>1257.00</td>\n",
       "      <td>1623.00</td>\n",
       "      <td>2208.00</td>\n",
       "      <td>952576.00</td>\n",
       "    </tr>\n",
       "    <tr>\n",
       "      <th>taxvaluedollarcnt</th>\n",
       "      <td>2152370.0</td>\n",
       "      <td>4.618962e+05</td>\n",
       "      <td>699676.049600</td>\n",
       "      <td>1.00</td>\n",
       "      <td>188170.25</td>\n",
       "      <td>327671.00</td>\n",
       "      <td>534527.00</td>\n",
       "      <td>98428909.00</td>\n",
       "    </tr>\n",
       "    <tr>\n",
       "      <th>yearbuilt</th>\n",
       "      <td>2143526.0</td>\n",
       "      <td>1.960950e+03</td>\n",
       "      <td>22.162196</td>\n",
       "      <td>1801.00</td>\n",
       "      <td>1949.00</td>\n",
       "      <td>1958.00</td>\n",
       "      <td>1976.00</td>\n",
       "      <td>2016.00</td>\n",
       "    </tr>\n",
       "    <tr>\n",
       "      <th>taxamount</th>\n",
       "      <td>2148421.0</td>\n",
       "      <td>5.634866e+03</td>\n",
       "      <td>8178.910249</td>\n",
       "      <td>1.85</td>\n",
       "      <td>2534.98</td>\n",
       "      <td>4108.95</td>\n",
       "      <td>6414.32</td>\n",
       "      <td>1337755.86</td>\n",
       "    </tr>\n",
       "    <tr>\n",
       "      <th>fips</th>\n",
       "      <td>2152863.0</td>\n",
       "      <td>6.048377e+03</td>\n",
       "      <td>20.433292</td>\n",
       "      <td>6037.00</td>\n",
       "      <td>6037.00</td>\n",
       "      <td>6037.00</td>\n",
       "      <td>6059.00</td>\n",
       "      <td>6111.00</td>\n",
       "    </tr>\n",
       "  </tbody>\n",
       "</table>\n",
       "</div>"
      ],
      "text/plain": [
       "                                  count          mean            std      min  \\\n",
       "id                            2152863.0  1.490834e+06  860878.470977     1.00   \n",
       "bedroomcnt                    2152852.0  3.287196e+00       0.954754     0.00   \n",
       "bathroomcnt                   2152852.0  2.230688e+00       0.999280     0.00   \n",
       "calculatedfinishedsquarefeet  2144379.0  1.862855e+03    1222.125124     1.00   \n",
       "taxvaluedollarcnt             2152370.0  4.618962e+05  699676.049600     1.00   \n",
       "yearbuilt                     2143526.0  1.960950e+03      22.162196  1801.00   \n",
       "taxamount                     2148421.0  5.634866e+03    8178.910249     1.85   \n",
       "fips                          2152863.0  6.048377e+03      20.433292  6037.00   \n",
       "\n",
       "                                    25%         50%         75%          max  \n",
       "id                            745117.00  1490613.00  2235859.50   2982282.00  \n",
       "bedroomcnt                         3.00        3.00        4.00        25.00  \n",
       "bathroomcnt                        2.00        2.00        3.00        32.00  \n",
       "calculatedfinishedsquarefeet    1257.00     1623.00     2208.00    952576.00  \n",
       "taxvaluedollarcnt             188170.25   327671.00   534527.00  98428909.00  \n",
       "yearbuilt                       1949.00     1958.00     1976.00      2016.00  \n",
       "taxamount                       2534.98     4108.95     6414.32   1337755.86  \n",
       "fips                            6037.00     6037.00     6059.00      6111.00  "
      ]
     },
     "execution_count": 5,
     "metadata": {},
     "output_type": "execute_result"
    }
   ],
   "source": [
    "df.describe().T"
   ]
  },
  {
   "cell_type": "code",
   "execution_count": 6,
   "id": "9611df55-b208-4d2f-98f3-c4d4db1475ba",
   "metadata": {
    "tags": []
   },
   "outputs": [
    {
     "data": {
      "text/plain": [
       "id                                 0\n",
       "bedroomcnt                        11\n",
       "bathroomcnt                       11\n",
       "calculatedfinishedsquarefeet    8484\n",
       "taxvaluedollarcnt                493\n",
       "yearbuilt                       9337\n",
       "taxamount                       4442\n",
       "fips                               0\n",
       "dtype: int64"
      ]
     },
     "execution_count": 6,
     "metadata": {},
     "output_type": "execute_result"
    }
   ],
   "source": [
    "df.isnull().sum()"
   ]
  },
  {
   "cell_type": "code",
   "execution_count": 7,
   "id": "92989ca4-92be-4a8c-9c33-d02b0bc0883e",
   "metadata": {
    "tags": []
   },
   "outputs": [],
   "source": [
    "df = df.dropna()"
   ]
  },
  {
   "cell_type": "code",
   "execution_count": 8,
   "id": "552d42c9-ee3f-4f4f-b20c-422cee930f3a",
   "metadata": {
    "tags": []
   },
   "outputs": [
    {
     "data": {
      "text/plain": [
       "id                              0\n",
       "bedroomcnt                      0\n",
       "bathroomcnt                     0\n",
       "calculatedfinishedsquarefeet    0\n",
       "taxvaluedollarcnt               0\n",
       "yearbuilt                       0\n",
       "taxamount                       0\n",
       "fips                            0\n",
       "dtype: int64"
      ]
     },
     "execution_count": 8,
     "metadata": {},
     "output_type": "execute_result"
    }
   ],
   "source": [
    "df.isnull().sum()"
   ]
  },
  {
   "cell_type": "code",
   "execution_count": 9,
   "id": "2ad9ff15-4783-4b7a-ad77-084c42434a12",
   "metadata": {
    "tags": []
   },
   "outputs": [
    {
     "name": "stdout",
     "output_type": "stream",
     "text": [
      "<class 'pandas.core.frame.DataFrame'>\n",
      "Int64Index: 2140235 entries, 4 to 2152862\n",
      "Data columns (total 8 columns):\n",
      " #   Column                        Dtype  \n",
      "---  ------                        -----  \n",
      " 0   id                            int64  \n",
      " 1   bedroomcnt                    float64\n",
      " 2   bathroomcnt                   float64\n",
      " 3   calculatedfinishedsquarefeet  float64\n",
      " 4   taxvaluedollarcnt             float64\n",
      " 5   yearbuilt                     float64\n",
      " 6   taxamount                     float64\n",
      " 7   fips                          float64\n",
      "dtypes: float64(7), int64(1)\n",
      "memory usage: 147.0 MB\n"
     ]
    }
   ],
   "source": [
    "df.info()"
   ]
  },
  {
   "cell_type": "code",
   "execution_count": 10,
   "id": "59f575f8-d662-4042-b971-759e9dd7f9f3",
   "metadata": {
    "tags": []
   },
   "outputs": [
    {
     "data": {
      "text/plain": [
       "2.00     942463\n",
       "3.00     422398\n",
       "1.00     412582\n",
       "2.50     142827\n",
       "4.00      82039\n",
       "1.50      31157\n",
       "3.50      28464\n",
       "5.00      28306\n",
       "4.50      19474\n",
       "6.00      10717\n",
       "5.50       6201\n",
       "7.00       4381\n",
       "0.00       4274\n",
       "8.00       1681\n",
       "6.50       1330\n",
       "9.00        707\n",
       "7.50        382\n",
       "10.00       322\n",
       "11.00       145\n",
       "8.50        108\n",
       "12.00        73\n",
       "9.50         50\n",
       "13.00        39\n",
       "14.00        25\n",
       "15.00        17\n",
       "0.50         16\n",
       "10.50        14\n",
       "16.00        12\n",
       "18.00         8\n",
       "20.00         6\n",
       "17.00         4\n",
       "1.75          3\n",
       "12.50         3\n",
       "11.50         3\n",
       "19.50         1\n",
       "14.50         1\n",
       "32.00         1\n",
       "19.00         1\n",
       "Name: bathroomcnt, dtype: int64"
      ]
     },
     "execution_count": 10,
     "metadata": {},
     "output_type": "execute_result"
    }
   ],
   "source": [
    "df.bathroomcnt.value_counts()"
   ]
  },
  {
   "cell_type": "code",
   "execution_count": 11,
   "id": "d5d97197-27d1-45cd-a002-15eb4d313605",
   "metadata": {
    "tags": []
   },
   "outputs": [
    {
     "data": {
      "text/plain": [
       "3.0     962944\n",
       "4.0     633608\n",
       "2.0     334221\n",
       "5.0     150671\n",
       "6.0      25117\n",
       "1.0      22895\n",
       "7.0       4792\n",
       "0.0       4397\n",
       "8.0       1103\n",
       "9.0        290\n",
       "10.0       118\n",
       "11.0        34\n",
       "13.0        15\n",
       "12.0        12\n",
       "14.0         7\n",
       "15.0         5\n",
       "18.0         3\n",
       "16.0         2\n",
       "25.0         1\n",
       "Name: bedroomcnt, dtype: int64"
      ]
     },
     "execution_count": 11,
     "metadata": {},
     "output_type": "execute_result"
    }
   ],
   "source": [
    "df.bedroomcnt.value_counts()"
   ]
  },
  {
   "cell_type": "code",
   "execution_count": 12,
   "id": "9d12bb4e-9145-4578-b638-e42593d5ba0b",
   "metadata": {
    "tags": []
   },
   "outputs": [
    {
     "data": {
      "text/plain": [
       "153"
      ]
     },
     "execution_count": 12,
     "metadata": {},
     "output_type": "execute_result"
    }
   ],
   "source": [
    "df.yearbuilt.nunique()"
   ]
  },
  {
   "cell_type": "code",
   "execution_count": 13,
   "id": "28c747d8-7a57-4d22-a126-fca0d1b2f3e8",
   "metadata": {
    "tags": []
   },
   "outputs": [
    {
     "data": {
      "text/plain": [
       "2016.0"
      ]
     },
     "execution_count": 13,
     "metadata": {},
     "output_type": "execute_result"
    }
   ],
   "source": [
    "df.yearbuilt.max()"
   ]
  },
  {
   "cell_type": "code",
   "execution_count": 14,
   "id": "d4c9d1a3-15fa-4942-b5cb-ecb16d02215a",
   "metadata": {
    "tags": []
   },
   "outputs": [
    {
     "data": {
      "text/plain": [
       "1801.0"
      ]
     },
     "execution_count": 14,
     "metadata": {},
     "output_type": "execute_result"
    }
   ],
   "source": [
    "df.yearbuilt.min()"
   ]
  },
  {
   "cell_type": "code",
   "execution_count": 15,
   "id": "19d8e686-5637-457a-9641-321cef2dd25d",
   "metadata": {
    "tags": []
   },
   "outputs": [],
   "source": [
    "df.loc[:, 'yearbuilt'] = df.yearbuilt.astype(int)"
   ]
  },
  {
   "cell_type": "code",
   "execution_count": 16,
   "id": "feb1ea63-111b-43c9-9fae-d9b88949636b",
   "metadata": {
    "tags": []
   },
   "outputs": [
    {
     "data": {
      "text/html": [
       "<div>\n",
       "<style scoped>\n",
       "    .dataframe tbody tr th:only-of-type {\n",
       "        vertical-align: middle;\n",
       "    }\n",
       "\n",
       "    .dataframe tbody tr th {\n",
       "        vertical-align: top;\n",
       "    }\n",
       "\n",
       "    .dataframe thead th {\n",
       "        text-align: right;\n",
       "    }\n",
       "</style>\n",
       "<table border=\"1\" class=\"dataframe\">\n",
       "  <thead>\n",
       "    <tr style=\"text-align: right;\">\n",
       "      <th></th>\n",
       "      <th>id</th>\n",
       "      <th>bedroomcnt</th>\n",
       "      <th>bathroomcnt</th>\n",
       "      <th>calculatedfinishedsquarefeet</th>\n",
       "      <th>taxvaluedollarcnt</th>\n",
       "      <th>yearbuilt</th>\n",
       "      <th>taxamount</th>\n",
       "      <th>fips</th>\n",
       "    </tr>\n",
       "  </thead>\n",
       "  <tbody>\n",
       "    <tr>\n",
       "      <th>4</th>\n",
       "      <td>20</td>\n",
       "      <td>4.0</td>\n",
       "      <td>2.0</td>\n",
       "      <td>3633.0</td>\n",
       "      <td>296425.0</td>\n",
       "      <td>2005</td>\n",
       "      <td>6941.39</td>\n",
       "      <td>6037.0</td>\n",
       "    </tr>\n",
       "    <tr>\n",
       "      <th>6</th>\n",
       "      <td>31</td>\n",
       "      <td>3.0</td>\n",
       "      <td>4.0</td>\n",
       "      <td>1620.0</td>\n",
       "      <td>847770.0</td>\n",
       "      <td>2011</td>\n",
       "      <td>10244.94</td>\n",
       "      <td>6037.0</td>\n",
       "    </tr>\n",
       "    <tr>\n",
       "      <th>7</th>\n",
       "      <td>33</td>\n",
       "      <td>3.0</td>\n",
       "      <td>2.0</td>\n",
       "      <td>2077.0</td>\n",
       "      <td>646760.0</td>\n",
       "      <td>1926</td>\n",
       "      <td>7924.68</td>\n",
       "      <td>6037.0</td>\n",
       "    </tr>\n",
       "    <tr>\n",
       "      <th>11</th>\n",
       "      <td>62</td>\n",
       "      <td>0.0</td>\n",
       "      <td>0.0</td>\n",
       "      <td>1200.0</td>\n",
       "      <td>5328.0</td>\n",
       "      <td>1972</td>\n",
       "      <td>91.60</td>\n",
       "      <td>6037.0</td>\n",
       "    </tr>\n",
       "    <tr>\n",
       "      <th>14</th>\n",
       "      <td>97</td>\n",
       "      <td>0.0</td>\n",
       "      <td>0.0</td>\n",
       "      <td>171.0</td>\n",
       "      <td>6920.0</td>\n",
       "      <td>1973</td>\n",
       "      <td>255.17</td>\n",
       "      <td>6037.0</td>\n",
       "    </tr>\n",
       "  </tbody>\n",
       "</table>\n",
       "</div>"
      ],
      "text/plain": [
       "    id  bedroomcnt  bathroomcnt  calculatedfinishedsquarefeet  \\\n",
       "4   20         4.0          2.0                        3633.0   \n",
       "6   31         3.0          4.0                        1620.0   \n",
       "7   33         3.0          2.0                        2077.0   \n",
       "11  62         0.0          0.0                        1200.0   \n",
       "14  97         0.0          0.0                         171.0   \n",
       "\n",
       "    taxvaluedollarcnt  yearbuilt  taxamount    fips  \n",
       "4            296425.0       2005    6941.39  6037.0  \n",
       "6            847770.0       2011   10244.94  6037.0  \n",
       "7            646760.0       1926    7924.68  6037.0  \n",
       "11             5328.0       1972      91.60  6037.0  \n",
       "14             6920.0       1973     255.17  6037.0  "
      ]
     },
     "execution_count": 16,
     "metadata": {},
     "output_type": "execute_result"
    }
   ],
   "source": [
    "df.head()"
   ]
  },
  {
   "cell_type": "code",
   "execution_count": 17,
   "id": "abaf6541-c956-4fdb-95d6-66e024a1d7d1",
   "metadata": {
    "tags": []
   },
   "outputs": [
    {
     "name": "stdout",
     "output_type": "stream",
     "text": [
      "max tax value 90188462.0\n",
      " max square ft 952576.0\n"
     ]
    }
   ],
   "source": [
    "print(f'max tax value {df.taxvaluedollarcnt.max()}')\n",
    "print(f' max square ft {df.calculatedfinishedsquarefeet.max()}')"
   ]
  },
  {
   "cell_type": "code",
   "execution_count": 18,
   "id": "a4a880e3-20b5-4cc6-ae93-bdbf9b9f130a",
   "metadata": {
    "tags": []
   },
   "outputs": [
    {
     "data": {
      "text/plain": [
       "id                                735349.00\n",
       "bedroomcnt                            11.00\n",
       "bathroomcnt                           16.00\n",
       "calculatedfinishedsquarefeet       52503.00\n",
       "taxvaluedollarcnt               90188462.00\n",
       "yearbuilt                           1990.00\n",
       "taxamount                        1078101.87\n",
       "fips                                6037.00\n",
       "Name: 530834, dtype: float64"
      ]
     },
     "execution_count": 18,
     "metadata": {},
     "output_type": "execute_result"
    }
   ],
   "source": [
    "df.loc[df['taxvaluedollarcnt'].idxmax()]"
   ]
  },
  {
   "cell_type": "code",
   "execution_count": 19,
   "id": "c108aa1c-1041-4796-8113-8f3484113158",
   "metadata": {
    "tags": []
   },
   "outputs": [
    {
     "data": {
      "text/plain": [
       "22.0"
      ]
     },
     "execution_count": 19,
     "metadata": {},
     "output_type": "execute_result"
    }
   ],
   "source": [
    "df.taxvaluedollarcnt.min()"
   ]
  },
  {
   "cell_type": "code",
   "execution_count": 20,
   "id": "7715ed2c-9c82-4fc9-bed0-462d9ba6e0e7",
   "metadata": {
    "tags": []
   },
   "outputs": [
    {
     "data": {
      "text/plain": [
       "id                              789818.00\n",
       "bedroomcnt                           0.00\n",
       "bathroomcnt                          0.00\n",
       "calculatedfinishedsquarefeet        20.00\n",
       "taxvaluedollarcnt                   22.00\n",
       "yearbuilt                         2005.00\n",
       "taxamount                           24.92\n",
       "fips                              6037.00\n",
       "Name: 570504, dtype: float64"
      ]
     },
     "execution_count": 20,
     "metadata": {},
     "output_type": "execute_result"
    }
   ],
   "source": [
    "df.loc[df['taxvaluedollarcnt'].idxmin()]"
   ]
  },
  {
   "cell_type": "code",
   "execution_count": 21,
   "id": "49f7e469-30c1-4779-93af-d61cb28178ac",
   "metadata": {
    "tags": []
   },
   "outputs": [
    {
     "data": {
      "text/plain": [
       "Index(['id', 'bedroomcnt', 'bathroomcnt', 'calculatedfinishedsquarefeet',\n",
       "       'taxvaluedollarcnt', 'yearbuilt', 'taxamount', 'fips'],\n",
       "      dtype='object')"
      ]
     },
     "execution_count": 21,
     "metadata": {},
     "output_type": "execute_result"
    }
   ],
   "source": [
    "df.columns"
   ]
  },
  {
   "cell_type": "code",
   "execution_count": 22,
   "id": "fab9469f-9fde-4eb1-bc02-313a381572a2",
   "metadata": {},
   "outputs": [
    {
     "name": "stdout",
     "output_type": "stream",
     "text": [
      "id is good to go for int casting!\n",
      "============\n",
      "bedroomcnt is good to go for int casting!\n",
      "============\n",
      "bathroomcnt has data that is probably not interpretable as an int! It has 10.748072057507702 percent mismatched values!\n",
      "============\n",
      "calculatedfinishedsquarefeet is good to go for int casting!\n",
      "============\n",
      "taxvaluedollarcnt is good to go for int casting!\n",
      "============\n",
      "yearbuilt is good to go for int casting!\n",
      "============\n",
      "taxamount has data that is probably not interpretable as an int! It has 98.66299728768102 percent mismatched values!\n",
      "============\n",
      "fips is good to go for int casting!\n",
      "============\n"
     ]
    }
   ],
   "source": [
    "cast_to_int = []\n",
    "\n",
    "for col in df.columns:\n",
    "    sum_of_discord = (df[col] != df[col].astype(int)).sum()\n",
    "    if sum_of_discord > 0:\n",
    "        print(f'{col} has data that is probably not interpretable as an int! It has {sum_of_discord / df.shape[0] * 100} percent mismatched values!')\n",
    "    else:\n",
    "        print(f'{col} is good to go for int casting!')\n",
    "        cast_to_int.append(col)\n",
    "    print('============')"
   ]
  },
  {
   "cell_type": "code",
   "execution_count": 23,
   "id": "9b8120b2-4e1d-408f-8fdb-f0d4c5f0b4ed",
   "metadata": {},
   "outputs": [
    {
     "data": {
      "text/plain": [
       "['id',\n",
       " 'bedroomcnt',\n",
       " 'calculatedfinishedsquarefeet',\n",
       " 'taxvaluedollarcnt',\n",
       " 'yearbuilt',\n",
       " 'fips']"
      ]
     },
     "execution_count": 23,
     "metadata": {},
     "output_type": "execute_result"
    }
   ],
   "source": [
    "cast_to_int"
   ]
  },
  {
   "cell_type": "code",
   "execution_count": 24,
   "id": "317b05af-dbb3-43a6-9f5c-0c48e0a2d88b",
   "metadata": {},
   "outputs": [],
   "source": [
    "for col in cast_to_int:\n",
    "    df.loc[:,col] = df[col].astype(int)"
   ]
  },
  {
   "cell_type": "code",
   "execution_count": 25,
   "id": "84658728-1f66-44a0-95dc-927dadb9df47",
   "metadata": {
    "tags": []
   },
   "outputs": [],
   "source": [
    "# column names? we can probably clean these up a bit:\n",
    "df.columns\n",
    "df = df.rename(columns={\n",
    "    'bedroomcnt': 'bedrooms',\n",
    "    'bathroomcnt': 'bathrooms',\n",
    "    'calculatedfinishedsquarefeet': 'sqft',\n",
    "    'taxvaluedollarcnt': 'taxvalue',\n",
    "    'fips': 'county'\n",
    "})"
   ]
  },
  {
   "cell_type": "code",
   "execution_count": 26,
   "id": "351ad69e-1d74-4af9-9f52-859adeb35f1e",
   "metadata": {
    "tags": []
   },
   "outputs": [
    {
     "data": {
      "text/plain": [
       "6037    1425207\n",
       "6059     552057\n",
       "6111     162971\n",
       "Name: county, dtype: int64"
      ]
     },
     "execution_count": 26,
     "metadata": {},
     "output_type": "execute_result"
    }
   ],
   "source": [
    "df.county.value_counts()"
   ]
  },
  {
   "cell_type": "code",
   "execution_count": 27,
   "id": "82e0e253-885a-43da-95dc-549d4d809fdf",
   "metadata": {
    "tags": []
   },
   "outputs": [],
   "source": [
    "county_maps = {6037: 'LA',\n",
    "6059: 'Orange',\n",
    "6111: 'Ventura'\n",
    "}"
   ]
  },
  {
   "cell_type": "code",
   "execution_count": 28,
   "id": "8b0f08e9-98a4-4bfe-abfc-da4a2e111cbc",
   "metadata": {
    "tags": []
   },
   "outputs": [],
   "source": [
    "df['county'] = df.county.map(county_maps)"
   ]
  },
  {
   "cell_type": "code",
   "execution_count": null,
   "id": "baae0345-93ac-43c8-b13b-e54e7ab88ffb",
   "metadata": {},
   "outputs": [],
   "source": []
  },
  {
   "cell_type": "code",
   "execution_count": 29,
   "id": "248c479a-0773-4e98-b7b9-8c5a82c1025e",
   "metadata": {},
   "outputs": [],
   "source": [
    "# columns to remove : "
   ]
  },
  {
   "cell_type": "markdown",
   "id": "aa16f5dd-74c0-4c4f-84da-f1a104674537",
   "metadata": {},
   "source": [
    "#### 3. Write a function to split your data into train, validate, and test."
   ]
  },
  {
   "cell_type": "markdown",
   "id": "5e6997ba-9ad9-4441-a96b-af96fae70e69",
   "metadata": {},
   "source": [
    "train_val, test = train_test_split(df,\n",
    "                                  random_state=1349,\n",
    "                                  train_size=0.80)\n",
    "train, validate = train_test_split(train_val,\n",
    "                                  random_state=1349,\n",
    "                                  train_size=.70)\n"
   ]
  },
  {
   "cell_type": "markdown",
   "id": "b93195d5-103c-43ab-9621-f530c3f69b4e",
   "metadata": {},
   "source": [
    "#### 4. Store all of the necessary functions to automate your process from acquiring the data to returning a cleaned dataframe with no missing values in your `wrangle.py file`. Name your final function `wrangle_zillow`."
   ]
  },
  {
   "cell_type": "code",
   "execution_count": 32,
   "id": "8ce6518b-a375-4e7a-9539-726a03ccbb8c",
   "metadata": {
    "tags": []
   },
   "outputs": [
    {
     "data": {
      "text/html": [
       "<div>\n",
       "<style scoped>\n",
       "    .dataframe tbody tr th:only-of-type {\n",
       "        vertical-align: middle;\n",
       "    }\n",
       "\n",
       "    .dataframe tbody tr th {\n",
       "        vertical-align: top;\n",
       "    }\n",
       "\n",
       "    .dataframe thead th {\n",
       "        text-align: right;\n",
       "    }\n",
       "</style>\n",
       "<table border=\"1\" class=\"dataframe\">\n",
       "  <thead>\n",
       "    <tr style=\"text-align: right;\">\n",
       "      <th></th>\n",
       "      <th>id</th>\n",
       "      <th>bedrooms</th>\n",
       "      <th>bathrooms</th>\n",
       "      <th>sqft</th>\n",
       "      <th>taxvalue</th>\n",
       "      <th>yearbuilt</th>\n",
       "      <th>taxamount</th>\n",
       "      <th>county</th>\n",
       "    </tr>\n",
       "  </thead>\n",
       "  <tbody>\n",
       "    <tr>\n",
       "      <th>4</th>\n",
       "      <td>20</td>\n",
       "      <td>4</td>\n",
       "      <td>2.0</td>\n",
       "      <td>3633</td>\n",
       "      <td>296425</td>\n",
       "      <td>2005</td>\n",
       "      <td>6941.39</td>\n",
       "      <td>LA</td>\n",
       "    </tr>\n",
       "    <tr>\n",
       "      <th>6</th>\n",
       "      <td>31</td>\n",
       "      <td>3</td>\n",
       "      <td>4.0</td>\n",
       "      <td>1620</td>\n",
       "      <td>847770</td>\n",
       "      <td>2011</td>\n",
       "      <td>10244.94</td>\n",
       "      <td>LA</td>\n",
       "    </tr>\n",
       "    <tr>\n",
       "      <th>7</th>\n",
       "      <td>33</td>\n",
       "      <td>3</td>\n",
       "      <td>2.0</td>\n",
       "      <td>2077</td>\n",
       "      <td>646760</td>\n",
       "      <td>1926</td>\n",
       "      <td>7924.68</td>\n",
       "      <td>LA</td>\n",
       "    </tr>\n",
       "    <tr>\n",
       "      <th>11</th>\n",
       "      <td>62</td>\n",
       "      <td>0</td>\n",
       "      <td>0.0</td>\n",
       "      <td>1200</td>\n",
       "      <td>5328</td>\n",
       "      <td>1972</td>\n",
       "      <td>91.60</td>\n",
       "      <td>LA</td>\n",
       "    </tr>\n",
       "    <tr>\n",
       "      <th>14</th>\n",
       "      <td>97</td>\n",
       "      <td>0</td>\n",
       "      <td>0.0</td>\n",
       "      <td>171</td>\n",
       "      <td>6920</td>\n",
       "      <td>1973</td>\n",
       "      <td>255.17</td>\n",
       "      <td>LA</td>\n",
       "    </tr>\n",
       "  </tbody>\n",
       "</table>\n",
       "</div>"
      ],
      "text/plain": [
       "    id  bedrooms  bathrooms  sqft  taxvalue  yearbuilt  taxamount county\n",
       "4   20         4        2.0  3633    296425       2005    6941.39     LA\n",
       "6   31         3        4.0  1620    847770       2011   10244.94     LA\n",
       "7   33         3        2.0  2077    646760       1926    7924.68     LA\n",
       "11  62         0        0.0  1200      5328       1972      91.60     LA\n",
       "14  97         0        0.0   171      6920       1973     255.17     LA"
      ]
     },
     "execution_count": 32,
     "metadata": {},
     "output_type": "execute_result"
    }
   ],
   "source": [
    "df = w.prep_zillow(w.get_zillow_data())\n",
    "df.head()"
   ]
  },
  {
   "cell_type": "code",
   "execution_count": null,
   "id": "192395fb-c286-4b61-8cdb-90d1233a7ce9",
   "metadata": {},
   "outputs": [],
   "source": []
  }
 ],
 "metadata": {
  "kernelspec": {
   "display_name": "Python 3 (ipykernel)",
   "language": "python",
   "name": "python3"
  },
  "language_info": {
   "codemirror_mode": {
    "name": "ipython",
    "version": 3
   },
   "file_extension": ".py",
   "mimetype": "text/x-python",
   "name": "python",
   "nbconvert_exporter": "python",
   "pygments_lexer": "ipython3",
   "version": "3.11.4"
  }
 },
 "nbformat": 4,
 "nbformat_minor": 5
}
