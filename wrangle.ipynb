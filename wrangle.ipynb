{
 "cells": [
  {
   "cell_type": "code",
   "execution_count": null,
   "id": "2330a0d2-87d5-4e61-b019-4c3f944a141e",
   "metadata": {
    "tags": []
   },
   "outputs": [],
   "source": []
  },
  {
   "cell_type": "code",
   "execution_count": 1,
   "id": "325d9dc7-1080-4d37-a311-00b81187e318",
   "metadata": {
    "tags": []
   },
   "outputs": [],
   "source": [
    "#tabular data imports :\n",
    "import pandas as pd\n",
    "import numpy as np\n",
    "import env\n",
    "from env import user, password, host\n",
    "\n",
    "# visualization imports:\n",
    "import matplotlib.pyplot as plt\n",
    "import seaborn as sns\n",
    "\n",
    "from sklearn.model_selection import train_test_split\n",
    "\n",
    "import warnings\n",
    "warnings.filterwarnings(\"ignore\")\n",
    "import wrangle as w\n",
    "import os\n",
    "directory = os.getcwd()"
   ]
  },
  {
   "cell_type": "markdown",
   "id": "c5fee340-bb09-46d6-b930-e9654ac82646",
   "metadata": {},
   "source": [
    "### Exercises I\n",
    "\n",
    "#### Let's review the steps we take at the beginning of each new module.\n",
    "\n",
    "1. Create a new repository named regression-exercises in your GitHub; all of your Regression work will be housed here.\n",
    "2. Clone this repository within your local codeup-data-science directory.\n",
    "3. Create a .gitignore and make sure your list of 'files to ignore' includes your env.py file.\n",
    "4. Ceate a README.md file that outlines the contents and purpose of your repository.\n",
    "5. Add, commit, and push these two files.\n",
    "6. Now you can add your env.py file to this repository to access the Codeup database server.\n",
    "7. For these exercises, you will create wrangle.ipynb and wrangle.py files to hold necessary functions.\n",
    "8. As always, add, commit, and push your work often."
   ]
  },
  {
   "cell_type": "markdown",
   "id": "f1fef229-57f7-49a3-8009-681bb8dc5bdf",
   "metadata": {},
   "source": [
    "## Exercises II\n",
    "\n",
    "### Let's set up an example scenario as perspective for our regression exercises using the Zillow dataset.\n",
    "\n",
    "#### As a Codeup data science graduate, you want to show off your skills to the Zillow data science team in hopes of getting an interview for a position you saw pop up on LinkedIn. You thought it might look impressive to build an end-to-end project in which you use some of their Kaggle data to predict property values using some of their available features; who knows, you might even do some feature engineering to blow them away. Your goal is to predict the values of single unit properties using the observations from 2017.\n",
    "\n",
    "#### In these exercises, you will complete the first step toward the above goal: acquire and prepare the necessary Zillow data from the zillow database in the Codeup database server."
   ]
  },
  {
   "cell_type": "markdown",
   "id": "e6ea4294-aed3-465b-a65d-4012e62bc776",
   "metadata": {},
   "source": [
    "#### 1. Acquire `bedroomcnt`, `bathroomcnt`, `calculatedfinishedsquarefeet`, `taxvaluedollarcnt`, `yearbuilt`, `taxamount`, and `fips` from the zillow database for all 'Single Family Residential' properties."
   ]
  },
  {
   "cell_type": "code",
   "execution_count": 2,
   "id": "9386fa52-4a4e-47e7-9e5e-56a7e2dd80a4",
   "metadata": {
    "tags": []
   },
   "outputs": [
    {
     "data": {
      "text/html": [
       "<div>\n",
       "<style scoped>\n",
       "    .dataframe tbody tr th:only-of-type {\n",
       "        vertical-align: middle;\n",
       "    }\n",
       "\n",
       "    .dataframe tbody tr th {\n",
       "        vertical-align: top;\n",
       "    }\n",
       "\n",
       "    .dataframe thead th {\n",
       "        text-align: right;\n",
       "    }\n",
       "</style>\n",
       "<table border=\"1\" class=\"dataframe\">\n",
       "  <thead>\n",
       "    <tr style=\"text-align: right;\">\n",
       "      <th></th>\n",
       "      <th>id</th>\n",
       "      <th>bedroomcnt</th>\n",
       "      <th>bathroomcnt</th>\n",
       "      <th>calculatedfinishedsquarefeet</th>\n",
       "      <th>structuretaxvaluedollarcnt</th>\n",
       "      <th>landtaxvaluedollarcnt</th>\n",
       "      <th>taxvaluedollarcnt</th>\n",
       "      <th>yearbuilt</th>\n",
       "      <th>taxamount</th>\n",
       "      <th>fips</th>\n",
       "    </tr>\n",
       "  </thead>\n",
       "  <tbody>\n",
       "    <tr>\n",
       "      <th>0</th>\n",
       "      <td>20</td>\n",
       "      <td>4.0</td>\n",
       "      <td>2.0</td>\n",
       "      <td>3633.0</td>\n",
       "      <td>222321.0</td>\n",
       "      <td>74104.0</td>\n",
       "      <td>296425.0</td>\n",
       "      <td>2005.0</td>\n",
       "      <td>6941.39</td>\n",
       "      <td>6037.0</td>\n",
       "    </tr>\n",
       "    <tr>\n",
       "      <th>1</th>\n",
       "      <td>31</td>\n",
       "      <td>3.0</td>\n",
       "      <td>4.0</td>\n",
       "      <td>1620.0</td>\n",
       "      <td>339532.0</td>\n",
       "      <td>508238.0</td>\n",
       "      <td>847770.0</td>\n",
       "      <td>2011.0</td>\n",
       "      <td>10244.94</td>\n",
       "      <td>6037.0</td>\n",
       "    </tr>\n",
       "    <tr>\n",
       "      <th>2</th>\n",
       "      <td>33</td>\n",
       "      <td>3.0</td>\n",
       "      <td>2.0</td>\n",
       "      <td>2077.0</td>\n",
       "      <td>210192.0</td>\n",
       "      <td>436568.0</td>\n",
       "      <td>646760.0</td>\n",
       "      <td>1926.0</td>\n",
       "      <td>7924.68</td>\n",
       "      <td>6037.0</td>\n",
       "    </tr>\n",
       "    <tr>\n",
       "      <th>3</th>\n",
       "      <td>62</td>\n",
       "      <td>0.0</td>\n",
       "      <td>0.0</td>\n",
       "      <td>1200.0</td>\n",
       "      <td>595.0</td>\n",
       "      <td>4733.0</td>\n",
       "      <td>5328.0</td>\n",
       "      <td>1972.0</td>\n",
       "      <td>91.60</td>\n",
       "      <td>6037.0</td>\n",
       "    </tr>\n",
       "    <tr>\n",
       "      <th>4</th>\n",
       "      <td>97</td>\n",
       "      <td>0.0</td>\n",
       "      <td>0.0</td>\n",
       "      <td>171.0</td>\n",
       "      <td>NaN</td>\n",
       "      <td>6920.0</td>\n",
       "      <td>6920.0</td>\n",
       "      <td>1973.0</td>\n",
       "      <td>255.17</td>\n",
       "      <td>6037.0</td>\n",
       "    </tr>\n",
       "  </tbody>\n",
       "</table>\n",
       "</div>"
      ],
      "text/plain": [
       "   id  bedroomcnt  bathroomcnt  calculatedfinishedsquarefeet  \\\n",
       "0  20         4.0          2.0                        3633.0   \n",
       "1  31         3.0          4.0                        1620.0   \n",
       "2  33         3.0          2.0                        2077.0   \n",
       "3  62         0.0          0.0                        1200.0   \n",
       "4  97         0.0          0.0                         171.0   \n",
       "\n",
       "   structuretaxvaluedollarcnt  landtaxvaluedollarcnt  taxvaluedollarcnt  \\\n",
       "0                    222321.0                74104.0           296425.0   \n",
       "1                    339532.0               508238.0           847770.0   \n",
       "2                    210192.0               436568.0           646760.0   \n",
       "3                       595.0                 4733.0             5328.0   \n",
       "4                         NaN                 6920.0             6920.0   \n",
       "\n",
       "   yearbuilt  taxamount    fips  \n",
       "0     2005.0    6941.39  6037.0  \n",
       "1     2011.0   10244.94  6037.0  \n",
       "2     1926.0    7924.68  6037.0  \n",
       "3     1972.0      91.60  6037.0  \n",
       "4     1973.0     255.17  6037.0  "
      ]
     },
     "execution_count": 2,
     "metadata": {},
     "output_type": "execute_result"
    }
   ],
   "source": [
    "df = w.new_zillow_data()\n",
    "df.head()"
   ]
  },
  {
   "cell_type": "markdown",
   "id": "11c12b43-15aa-4364-8127-e870e215ff19",
   "metadata": {},
   "source": [
    "#### 2. Using your acquired Zillow data, walk through the summarization and cleaning steps in your `wrangle.ipynb` file like we did above. You may handle the missing values however you feel is appropriate and meaningful; remember to document your process and decisions using markdown and code commenting where helpful."
   ]
  },
  {
   "cell_type": "code",
   "execution_count": 3,
   "id": "ce154815-c1d7-4765-b151-96ba06b78f4a",
   "metadata": {
    "tags": []
   },
   "outputs": [
    {
     "data": {
      "text/plain": [
       "(2141862, 10)"
      ]
     },
     "execution_count": 3,
     "metadata": {},
     "output_type": "execute_result"
    }
   ],
   "source": [
    "df.shape"
   ]
  },
  {
   "cell_type": "code",
   "execution_count": 4,
   "id": "ee3160a0-0968-4128-a14f-30d99dbaf6f6",
   "metadata": {
    "tags": []
   },
   "outputs": [
    {
     "name": "stdout",
     "output_type": "stream",
     "text": [
      "<class 'pandas.core.frame.DataFrame'>\n",
      "RangeIndex: 2141862 entries, 0 to 2141861\n",
      "Data columns (total 10 columns):\n",
      " #   Column                        Non-Null Count    Dtype  \n",
      "---  ------                        --------------    -----  \n",
      " 0   id                            2141862 non-null  int64  \n",
      " 1   bedroomcnt                    2141862 non-null  float64\n",
      " 2   bathroomcnt                   2141862 non-null  float64\n",
      " 3   calculatedfinishedsquarefeet  2141272 non-null  float64\n",
      " 4   structuretaxvaluedollarcnt    2139241 non-null  float64\n",
      " 5   landtaxvaluedollarcnt         2141743 non-null  float64\n",
      " 6   taxvaluedollarcnt             2141745 non-null  float64\n",
      " 7   yearbuilt                     2141862 non-null  float64\n",
      " 8   taxamount                     2140184 non-null  float64\n",
      " 9   fips                          2141862 non-null  float64\n",
      "dtypes: float64(9), int64(1)\n",
      "memory usage: 163.4 MB\n"
     ]
    }
   ],
   "source": [
    "df.info(show_counts=True)"
   ]
  },
  {
   "cell_type": "code",
   "execution_count": 5,
   "id": "f6d3543f-b561-4e2b-abae-5eda2c36698c",
   "metadata": {
    "tags": []
   },
   "outputs": [
    {
     "data": {
      "text/html": [
       "<div>\n",
       "<style scoped>\n",
       "    .dataframe tbody tr th:only-of-type {\n",
       "        vertical-align: middle;\n",
       "    }\n",
       "\n",
       "    .dataframe tbody tr th {\n",
       "        vertical-align: top;\n",
       "    }\n",
       "\n",
       "    .dataframe thead th {\n",
       "        text-align: right;\n",
       "    }\n",
       "</style>\n",
       "<table border=\"1\" class=\"dataframe\">\n",
       "  <thead>\n",
       "    <tr style=\"text-align: right;\">\n",
       "      <th></th>\n",
       "      <th>count</th>\n",
       "      <th>mean</th>\n",
       "      <th>std</th>\n",
       "      <th>min</th>\n",
       "      <th>25%</th>\n",
       "      <th>50%</th>\n",
       "      <th>75%</th>\n",
       "      <th>max</th>\n",
       "    </tr>\n",
       "  </thead>\n",
       "  <tbody>\n",
       "    <tr>\n",
       "      <th>id</th>\n",
       "      <td>2141862.0</td>\n",
       "      <td>1.490818e+06</td>\n",
       "      <td>860842.293641</td>\n",
       "      <td>20.00</td>\n",
       "      <td>745163.5000</td>\n",
       "      <td>1490479.50</td>\n",
       "      <td>2.235774e+06</td>\n",
       "      <td>2982282.00</td>\n",
       "    </tr>\n",
       "    <tr>\n",
       "      <th>bedroomcnt</th>\n",
       "      <td>2141862.0</td>\n",
       "      <td>3.300068e+00</td>\n",
       "      <td>0.934358</td>\n",
       "      <td>0.00</td>\n",
       "      <td>3.0000</td>\n",
       "      <td>3.00</td>\n",
       "      <td>4.000000e+00</td>\n",
       "      <td>25.00</td>\n",
       "    </tr>\n",
       "    <tr>\n",
       "      <th>bathroomcnt</th>\n",
       "      <td>2141862.0</td>\n",
       "      <td>2.239199e+00</td>\n",
       "      <td>0.991065</td>\n",
       "      <td>0.00</td>\n",
       "      <td>2.0000</td>\n",
       "      <td>2.00</td>\n",
       "      <td>3.000000e+00</td>\n",
       "      <td>32.00</td>\n",
       "    </tr>\n",
       "    <tr>\n",
       "      <th>calculatedfinishedsquarefeet</th>\n",
       "      <td>2141272.0</td>\n",
       "      <td>1.862731e+03</td>\n",
       "      <td>1221.494286</td>\n",
       "      <td>1.00</td>\n",
       "      <td>1257.0000</td>\n",
       "      <td>1623.00</td>\n",
       "      <td>2.208000e+03</td>\n",
       "      <td>952576.00</td>\n",
       "    </tr>\n",
       "    <tr>\n",
       "      <th>structuretaxvaluedollarcnt</th>\n",
       "      <td>2139241.0</td>\n",
       "      <td>1.778313e+05</td>\n",
       "      <td>254024.397814</td>\n",
       "      <td>1.00</td>\n",
       "      <td>74191.0000</td>\n",
       "      <td>122421.00</td>\n",
       "      <td>2.035950e+05</td>\n",
       "      <td>63662444.00</td>\n",
       "    </tr>\n",
       "    <tr>\n",
       "      <th>landtaxvaluedollarcnt</th>\n",
       "      <td>2141743.0</td>\n",
       "      <td>2.826783e+05</td>\n",
       "      <td>487995.299453</td>\n",
       "      <td>1.00</td>\n",
       "      <td>80065.0000</td>\n",
       "      <td>184063.00</td>\n",
       "      <td>3.451850e+05</td>\n",
       "      <td>77665102.00</td>\n",
       "    </tr>\n",
       "    <tr>\n",
       "      <th>taxvaluedollarcnt</th>\n",
       "      <td>2141745.0</td>\n",
       "      <td>4.603013e+05</td>\n",
       "      <td>677119.872164</td>\n",
       "      <td>1.00</td>\n",
       "      <td>188821.0000</td>\n",
       "      <td>328000.00</td>\n",
       "      <td>5.342970e+05</td>\n",
       "      <td>90188462.00</td>\n",
       "    </tr>\n",
       "    <tr>\n",
       "      <th>yearbuilt</th>\n",
       "      <td>2141862.0</td>\n",
       "      <td>1.960956e+03</td>\n",
       "      <td>22.158185</td>\n",
       "      <td>1801.00</td>\n",
       "      <td>1949.0000</td>\n",
       "      <td>1958.00</td>\n",
       "      <td>1.976000e+03</td>\n",
       "      <td>2016.00</td>\n",
       "    </tr>\n",
       "    <tr>\n",
       "      <th>taxamount</th>\n",
       "      <td>2140184.0</td>\n",
       "      <td>5.615601e+03</td>\n",
       "      <td>7814.875940</td>\n",
       "      <td>6.34</td>\n",
       "      <td>2540.1975</td>\n",
       "      <td>4110.86</td>\n",
       "      <td>6.410892e+03</td>\n",
       "      <td>1078101.87</td>\n",
       "    </tr>\n",
       "    <tr>\n",
       "      <th>fips</th>\n",
       "      <td>2141862.0</td>\n",
       "      <td>6.048303e+03</td>\n",
       "      <td>20.339323</td>\n",
       "      <td>6037.00</td>\n",
       "      <td>6037.0000</td>\n",
       "      <td>6037.00</td>\n",
       "      <td>6.059000e+03</td>\n",
       "      <td>6111.00</td>\n",
       "    </tr>\n",
       "  </tbody>\n",
       "</table>\n",
       "</div>"
      ],
      "text/plain": [
       "                                  count          mean            std      min  \\\n",
       "id                            2141862.0  1.490818e+06  860842.293641    20.00   \n",
       "bedroomcnt                    2141862.0  3.300068e+00       0.934358     0.00   \n",
       "bathroomcnt                   2141862.0  2.239199e+00       0.991065     0.00   \n",
       "calculatedfinishedsquarefeet  2141272.0  1.862731e+03    1221.494286     1.00   \n",
       "structuretaxvaluedollarcnt    2139241.0  1.778313e+05  254024.397814     1.00   \n",
       "landtaxvaluedollarcnt         2141743.0  2.826783e+05  487995.299453     1.00   \n",
       "taxvaluedollarcnt             2141745.0  4.603013e+05  677119.872164     1.00   \n",
       "yearbuilt                     2141862.0  1.960956e+03      22.158185  1801.00   \n",
       "taxamount                     2140184.0  5.615601e+03    7814.875940     6.34   \n",
       "fips                          2141862.0  6.048303e+03      20.339323  6037.00   \n",
       "\n",
       "                                      25%         50%           75%  \\\n",
       "id                            745163.5000  1490479.50  2.235774e+06   \n",
       "bedroomcnt                         3.0000        3.00  4.000000e+00   \n",
       "bathroomcnt                        2.0000        2.00  3.000000e+00   \n",
       "calculatedfinishedsquarefeet    1257.0000     1623.00  2.208000e+03   \n",
       "structuretaxvaluedollarcnt     74191.0000   122421.00  2.035950e+05   \n",
       "landtaxvaluedollarcnt          80065.0000   184063.00  3.451850e+05   \n",
       "taxvaluedollarcnt             188821.0000   328000.00  5.342970e+05   \n",
       "yearbuilt                       1949.0000     1958.00  1.976000e+03   \n",
       "taxamount                       2540.1975     4110.86  6.410892e+03   \n",
       "fips                            6037.0000     6037.00  6.059000e+03   \n",
       "\n",
       "                                      max  \n",
       "id                             2982282.00  \n",
       "bedroomcnt                          25.00  \n",
       "bathroomcnt                         32.00  \n",
       "calculatedfinishedsquarefeet    952576.00  \n",
       "structuretaxvaluedollarcnt    63662444.00  \n",
       "landtaxvaluedollarcnt         77665102.00  \n",
       "taxvaluedollarcnt             90188462.00  \n",
       "yearbuilt                         2016.00  \n",
       "taxamount                      1078101.87  \n",
       "fips                              6111.00  "
      ]
     },
     "execution_count": 5,
     "metadata": {},
     "output_type": "execute_result"
    }
   ],
   "source": [
    "df.describe().T"
   ]
  },
  {
   "cell_type": "code",
   "execution_count": 6,
   "id": "9611df55-b208-4d2f-98f3-c4d4db1475ba",
   "metadata": {
    "tags": []
   },
   "outputs": [
    {
     "data": {
      "text/plain": [
       "id                                 0\n",
       "bedroomcnt                         0\n",
       "bathroomcnt                        0\n",
       "calculatedfinishedsquarefeet     590\n",
       "structuretaxvaluedollarcnt      2621\n",
       "landtaxvaluedollarcnt            119\n",
       "taxvaluedollarcnt                117\n",
       "yearbuilt                          0\n",
       "taxamount                       1678\n",
       "fips                               0\n",
       "dtype: int64"
      ]
     },
     "execution_count": 6,
     "metadata": {},
     "output_type": "execute_result"
    }
   ],
   "source": [
    "df.isnull().sum()"
   ]
  },
  {
   "cell_type": "code",
   "execution_count": 7,
   "id": "92989ca4-92be-4a8c-9c33-d02b0bc0883e",
   "metadata": {
    "tags": []
   },
   "outputs": [],
   "source": [
    "df = df.dropna()"
   ]
  },
  {
   "cell_type": "code",
   "execution_count": 8,
   "id": "552d42c9-ee3f-4f4f-b20c-422cee930f3a",
   "metadata": {
    "tags": []
   },
   "outputs": [
    {
     "data": {
      "text/plain": [
       "id                              0\n",
       "bedroomcnt                      0\n",
       "bathroomcnt                     0\n",
       "calculatedfinishedsquarefeet    0\n",
       "structuretaxvaluedollarcnt      0\n",
       "landtaxvaluedollarcnt           0\n",
       "taxvaluedollarcnt               0\n",
       "yearbuilt                       0\n",
       "taxamount                       0\n",
       "fips                            0\n",
       "dtype: int64"
      ]
     },
     "execution_count": 8,
     "metadata": {},
     "output_type": "execute_result"
    }
   ],
   "source": [
    "df.isnull().sum()"
   ]
  },
  {
   "cell_type": "code",
   "execution_count": 9,
   "id": "2ad9ff15-4783-4b7a-ad77-084c42434a12",
   "metadata": {
    "tags": []
   },
   "outputs": [
    {
     "name": "stdout",
     "output_type": "stream",
     "text": [
      "<class 'pandas.core.frame.DataFrame'>\n",
      "Int64Index: 2138437 entries, 0 to 2141861\n",
      "Data columns (total 10 columns):\n",
      " #   Column                        Dtype  \n",
      "---  ------                        -----  \n",
      " 0   id                            int64  \n",
      " 1   bedroomcnt                    float64\n",
      " 2   bathroomcnt                   float64\n",
      " 3   calculatedfinishedsquarefeet  float64\n",
      " 4   structuretaxvaluedollarcnt    float64\n",
      " 5   landtaxvaluedollarcnt         float64\n",
      " 6   taxvaluedollarcnt             float64\n",
      " 7   yearbuilt                     float64\n",
      " 8   taxamount                     float64\n",
      " 9   fips                          float64\n",
      "dtypes: float64(9), int64(1)\n",
      "memory usage: 179.5 MB\n"
     ]
    }
   ],
   "source": [
    "df.info()"
   ]
  },
  {
   "cell_type": "code",
   "execution_count": 10,
   "id": "59f575f8-d662-4042-b971-759e9dd7f9f3",
   "metadata": {
    "tags": []
   },
   "outputs": [
    {
     "data": {
      "text/plain": [
       "2.00     941988\n",
       "3.00     422108\n",
       "1.00     412039\n",
       "2.50     142805\n",
       "4.00      81840\n",
       "1.50      31148\n",
       "3.50      28451\n",
       "5.00      28244\n",
       "4.50      19471\n",
       "6.00      10692\n",
       "5.50       6196\n",
       "7.00       4369\n",
       "0.00       4148\n",
       "8.00       1675\n",
       "6.50       1328\n",
       "9.00        702\n",
       "7.50        382\n",
       "10.00       321\n",
       "11.00       145\n",
       "8.50        108\n",
       "12.00        73\n",
       "9.50         50\n",
       "13.00        39\n",
       "14.00        25\n",
       "15.00        17\n",
       "0.50         16\n",
       "10.50        14\n",
       "16.00        12\n",
       "18.00         8\n",
       "20.00         6\n",
       "17.00         4\n",
       "1.75          3\n",
       "12.50         3\n",
       "11.50         3\n",
       "19.50         1\n",
       "14.50         1\n",
       "32.00         1\n",
       "19.00         1\n",
       "Name: bathroomcnt, dtype: int64"
      ]
     },
     "execution_count": 10,
     "metadata": {},
     "output_type": "execute_result"
    }
   ],
   "source": [
    "df.bathroomcnt.value_counts()"
   ]
  },
  {
   "cell_type": "code",
   "execution_count": 11,
   "id": "d5d97197-27d1-45cd-a002-15eb4d313605",
   "metadata": {
    "tags": []
   },
   "outputs": [
    {
     "data": {
      "text/plain": [
       "3.0     962382\n",
       "4.0     633219\n",
       "2.0     333768\n",
       "5.0     150555\n",
       "6.0      25095\n",
       "1.0      22789\n",
       "7.0       4781\n",
       "0.0       4267\n",
       "8.0       1097\n",
       "9.0        288\n",
       "10.0       117\n",
       "11.0        34\n",
       "13.0        15\n",
       "12.0        12\n",
       "14.0         7\n",
       "15.0         5\n",
       "18.0         3\n",
       "16.0         2\n",
       "25.0         1\n",
       "Name: bedroomcnt, dtype: int64"
      ]
     },
     "execution_count": 11,
     "metadata": {},
     "output_type": "execute_result"
    }
   ],
   "source": [
    "df.bedroomcnt.value_counts()"
   ]
  },
  {
   "cell_type": "code",
   "execution_count": 12,
   "id": "9d12bb4e-9145-4578-b638-e42593d5ba0b",
   "metadata": {
    "tags": []
   },
   "outputs": [
    {
     "data": {
      "text/plain": [
       "153"
      ]
     },
     "execution_count": 12,
     "metadata": {},
     "output_type": "execute_result"
    }
   ],
   "source": [
    "df.yearbuilt.nunique()"
   ]
  },
  {
   "cell_type": "code",
   "execution_count": 13,
   "id": "28c747d8-7a57-4d22-a126-fca0d1b2f3e8",
   "metadata": {
    "tags": []
   },
   "outputs": [
    {
     "data": {
      "text/plain": [
       "2016.0"
      ]
     },
     "execution_count": 13,
     "metadata": {},
     "output_type": "execute_result"
    }
   ],
   "source": [
    "df.yearbuilt.max()"
   ]
  },
  {
   "cell_type": "code",
   "execution_count": 14,
   "id": "d4c9d1a3-15fa-4942-b5cb-ecb16d02215a",
   "metadata": {
    "tags": []
   },
   "outputs": [
    {
     "data": {
      "text/plain": [
       "1801.0"
      ]
     },
     "execution_count": 14,
     "metadata": {},
     "output_type": "execute_result"
    }
   ],
   "source": [
    "df.yearbuilt.min()"
   ]
  },
  {
   "cell_type": "code",
   "execution_count": 15,
   "id": "19d8e686-5637-457a-9641-321cef2dd25d",
   "metadata": {
    "tags": []
   },
   "outputs": [],
   "source": [
    "df.loc[:, 'yearbuilt'] = df.yearbuilt.astype(int)"
   ]
  },
  {
   "cell_type": "code",
   "execution_count": 16,
   "id": "feb1ea63-111b-43c9-9fae-d9b88949636b",
   "metadata": {
    "tags": []
   },
   "outputs": [
    {
     "data": {
      "text/html": [
       "<div>\n",
       "<style scoped>\n",
       "    .dataframe tbody tr th:only-of-type {\n",
       "        vertical-align: middle;\n",
       "    }\n",
       "\n",
       "    .dataframe tbody tr th {\n",
       "        vertical-align: top;\n",
       "    }\n",
       "\n",
       "    .dataframe thead th {\n",
       "        text-align: right;\n",
       "    }\n",
       "</style>\n",
       "<table border=\"1\" class=\"dataframe\">\n",
       "  <thead>\n",
       "    <tr style=\"text-align: right;\">\n",
       "      <th></th>\n",
       "      <th>id</th>\n",
       "      <th>bedroomcnt</th>\n",
       "      <th>bathroomcnt</th>\n",
       "      <th>calculatedfinishedsquarefeet</th>\n",
       "      <th>structuretaxvaluedollarcnt</th>\n",
       "      <th>landtaxvaluedollarcnt</th>\n",
       "      <th>taxvaluedollarcnt</th>\n",
       "      <th>yearbuilt</th>\n",
       "      <th>taxamount</th>\n",
       "      <th>fips</th>\n",
       "    </tr>\n",
       "  </thead>\n",
       "  <tbody>\n",
       "    <tr>\n",
       "      <th>0</th>\n",
       "      <td>20</td>\n",
       "      <td>4.0</td>\n",
       "      <td>2.0</td>\n",
       "      <td>3633.0</td>\n",
       "      <td>222321.0</td>\n",
       "      <td>74104.0</td>\n",
       "      <td>296425.0</td>\n",
       "      <td>2005</td>\n",
       "      <td>6941.39</td>\n",
       "      <td>6037.0</td>\n",
       "    </tr>\n",
       "    <tr>\n",
       "      <th>1</th>\n",
       "      <td>31</td>\n",
       "      <td>3.0</td>\n",
       "      <td>4.0</td>\n",
       "      <td>1620.0</td>\n",
       "      <td>339532.0</td>\n",
       "      <td>508238.0</td>\n",
       "      <td>847770.0</td>\n",
       "      <td>2011</td>\n",
       "      <td>10244.94</td>\n",
       "      <td>6037.0</td>\n",
       "    </tr>\n",
       "    <tr>\n",
       "      <th>2</th>\n",
       "      <td>33</td>\n",
       "      <td>3.0</td>\n",
       "      <td>2.0</td>\n",
       "      <td>2077.0</td>\n",
       "      <td>210192.0</td>\n",
       "      <td>436568.0</td>\n",
       "      <td>646760.0</td>\n",
       "      <td>1926</td>\n",
       "      <td>7924.68</td>\n",
       "      <td>6037.0</td>\n",
       "    </tr>\n",
       "    <tr>\n",
       "      <th>3</th>\n",
       "      <td>62</td>\n",
       "      <td>0.0</td>\n",
       "      <td>0.0</td>\n",
       "      <td>1200.0</td>\n",
       "      <td>595.0</td>\n",
       "      <td>4733.0</td>\n",
       "      <td>5328.0</td>\n",
       "      <td>1972</td>\n",
       "      <td>91.60</td>\n",
       "      <td>6037.0</td>\n",
       "    </tr>\n",
       "    <tr>\n",
       "      <th>5</th>\n",
       "      <td>99</td>\n",
       "      <td>0.0</td>\n",
       "      <td>0.0</td>\n",
       "      <td>203.0</td>\n",
       "      <td>7083.0</td>\n",
       "      <td>7083.0</td>\n",
       "      <td>14166.0</td>\n",
       "      <td>1960</td>\n",
       "      <td>163.79</td>\n",
       "      <td>6037.0</td>\n",
       "    </tr>\n",
       "  </tbody>\n",
       "</table>\n",
       "</div>"
      ],
      "text/plain": [
       "   id  bedroomcnt  bathroomcnt  calculatedfinishedsquarefeet  \\\n",
       "0  20         4.0          2.0                        3633.0   \n",
       "1  31         3.0          4.0                        1620.0   \n",
       "2  33         3.0          2.0                        2077.0   \n",
       "3  62         0.0          0.0                        1200.0   \n",
       "5  99         0.0          0.0                         203.0   \n",
       "\n",
       "   structuretaxvaluedollarcnt  landtaxvaluedollarcnt  taxvaluedollarcnt  \\\n",
       "0                    222321.0                74104.0           296425.0   \n",
       "1                    339532.0               508238.0           847770.0   \n",
       "2                    210192.0               436568.0           646760.0   \n",
       "3                       595.0                 4733.0             5328.0   \n",
       "5                      7083.0                 7083.0            14166.0   \n",
       "\n",
       "   yearbuilt  taxamount    fips  \n",
       "0       2005    6941.39  6037.0  \n",
       "1       2011   10244.94  6037.0  \n",
       "2       1926    7924.68  6037.0  \n",
       "3       1972      91.60  6037.0  \n",
       "5       1960     163.79  6037.0  "
      ]
     },
     "execution_count": 16,
     "metadata": {},
     "output_type": "execute_result"
    }
   ],
   "source": [
    "df.head()"
   ]
  },
  {
   "cell_type": "code",
   "execution_count": 17,
   "id": "abaf6541-c956-4fdb-95d6-66e024a1d7d1",
   "metadata": {
    "tags": []
   },
   "outputs": [
    {
     "name": "stdout",
     "output_type": "stream",
     "text": [
      "max tax value 90188462.0\n",
      " max square ft 952576.0\n"
     ]
    }
   ],
   "source": [
    "print(f'max tax value {df.taxvaluedollarcnt.max()}')\n",
    "print(f' max square ft {df.calculatedfinishedsquarefeet.max()}')"
   ]
  },
  {
   "cell_type": "code",
   "execution_count": 18,
   "id": "a4a880e3-20b5-4cc6-ae93-bdbf9b9f130a",
   "metadata": {
    "tags": []
   },
   "outputs": [
    {
     "data": {
      "text/plain": [
       "id                                735349.00\n",
       "bedroomcnt                            11.00\n",
       "bathroomcnt                           16.00\n",
       "calculatedfinishedsquarefeet       52503.00\n",
       "structuretaxvaluedollarcnt      63662444.00\n",
       "landtaxvaluedollarcnt           26526018.00\n",
       "taxvaluedollarcnt               90188462.00\n",
       "yearbuilt                           1990.00\n",
       "taxamount                        1078101.87\n",
       "fips                                6037.00\n",
       "Name: 528072, dtype: float64"
      ]
     },
     "execution_count": 18,
     "metadata": {},
     "output_type": "execute_result"
    }
   ],
   "source": [
    "df.loc[df['taxvaluedollarcnt'].idxmax()]"
   ]
  },
  {
   "cell_type": "code",
   "execution_count": 19,
   "id": "c108aa1c-1041-4796-8113-8f3484113158",
   "metadata": {
    "tags": []
   },
   "outputs": [
    {
     "data": {
      "text/plain": [
       "23.0"
      ]
     },
     "execution_count": 19,
     "metadata": {},
     "output_type": "execute_result"
    }
   ],
   "source": [
    "df.taxvaluedollarcnt.min()"
   ]
  },
  {
   "cell_type": "code",
   "execution_count": 20,
   "id": "7715ed2c-9c82-4fc9-bed0-462d9ba6e0e7",
   "metadata": {
    "tags": []
   },
   "outputs": [
    {
     "data": {
      "text/plain": [
       "id                              584853.00\n",
       "bedroomcnt                           0.00\n",
       "bathroomcnt                          0.00\n",
       "calculatedfinishedsquarefeet       800.00\n",
       "structuretaxvaluedollarcnt          10.00\n",
       "landtaxvaluedollarcnt               13.00\n",
       "taxvaluedollarcnt                   23.00\n",
       "yearbuilt                         1985.00\n",
       "taxamount                           99.24\n",
       "fips                              6037.00\n",
       "Name: 419905, dtype: float64"
      ]
     },
     "execution_count": 20,
     "metadata": {},
     "output_type": "execute_result"
    }
   ],
   "source": [
    "df.loc[df['taxvaluedollarcnt'].idxmin()]"
   ]
  },
  {
   "cell_type": "code",
   "execution_count": 21,
   "id": "49f7e469-30c1-4779-93af-d61cb28178ac",
   "metadata": {
    "tags": []
   },
   "outputs": [
    {
     "data": {
      "text/plain": [
       "Index(['id', 'bedroomcnt', 'bathroomcnt', 'calculatedfinishedsquarefeet',\n",
       "       'structuretaxvaluedollarcnt', 'landtaxvaluedollarcnt',\n",
       "       'taxvaluedollarcnt', 'yearbuilt', 'taxamount', 'fips'],\n",
       "      dtype='object')"
      ]
     },
     "execution_count": 21,
     "metadata": {},
     "output_type": "execute_result"
    }
   ],
   "source": [
    "df.columns"
   ]
  },
  {
   "cell_type": "code",
   "execution_count": 22,
   "id": "fab9469f-9fde-4eb1-bc02-313a381572a2",
   "metadata": {},
   "outputs": [
    {
     "name": "stdout",
     "output_type": "stream",
     "text": [
      "id is good to go for int casting!\n",
      "============\n",
      "bedroomcnt is good to go for int casting!\n",
      "============\n",
      "bathroomcnt has data that is probably not interpretable as an int! It has 10.754583838569946 percent mismatched values!\n",
      "============\n",
      "calculatedfinishedsquarefeet is good to go for int casting!\n",
      "============\n",
      "structuretaxvaluedollarcnt is good to go for int casting!\n",
      "============\n",
      "landtaxvaluedollarcnt is good to go for int casting!\n",
      "============\n",
      "taxvaluedollarcnt is good to go for int casting!\n",
      "============\n",
      "yearbuilt is good to go for int casting!\n",
      "============\n",
      "taxamount has data that is probably not interpretable as an int! It has 98.66276163384752 percent mismatched values!\n",
      "============\n",
      "fips is good to go for int casting!\n",
      "============\n"
     ]
    }
   ],
   "source": [
    "cast_to_int = []\n",
    "\n",
    "for col in df.columns:\n",
    "    sum_of_discord = (df[col] != df[col].astype(int)).sum()\n",
    "    if sum_of_discord > 0:\n",
    "        print(f'{col} has data that is probably not interpretable as an int! It has {sum_of_discord / df.shape[0] * 100} percent mismatched values!')\n",
    "    else:\n",
    "        print(f'{col} is good to go for int casting!')\n",
    "        cast_to_int.append(col)\n",
    "    print('============')"
   ]
  },
  {
   "cell_type": "code",
   "execution_count": 23,
   "id": "9b8120b2-4e1d-408f-8fdb-f0d4c5f0b4ed",
   "metadata": {},
   "outputs": [
    {
     "data": {
      "text/plain": [
       "['id',\n",
       " 'bedroomcnt',\n",
       " 'calculatedfinishedsquarefeet',\n",
       " 'structuretaxvaluedollarcnt',\n",
       " 'landtaxvaluedollarcnt',\n",
       " 'taxvaluedollarcnt',\n",
       " 'yearbuilt',\n",
       " 'fips']"
      ]
     },
     "execution_count": 23,
     "metadata": {},
     "output_type": "execute_result"
    }
   ],
   "source": [
    "cast_to_int"
   ]
  },
  {
   "cell_type": "code",
   "execution_count": 24,
   "id": "317b05af-dbb3-43a6-9f5c-0c48e0a2d88b",
   "metadata": {},
   "outputs": [],
   "source": [
    "for col in cast_to_int:\n",
    "    df.loc[:,col] = df[col].astype(int)"
   ]
  },
  {
   "cell_type": "code",
   "execution_count": 25,
   "id": "84658728-1f66-44a0-95dc-927dadb9df47",
   "metadata": {
    "tags": []
   },
   "outputs": [],
   "source": [
    "# column names? we can probably clean these up a bit:\n",
    "df.columns\n",
    "df = df.rename(columns={\n",
    "    'bedroomcnt': 'bedrooms',\n",
    "    'bathroomcnt': 'bathrooms',\n",
    "    'calculatedfinishedsquarefeet': 'sqft',\n",
    "    'taxvaluedollarcnt': 'taxvalue',\n",
    "    'fips': 'county'\n",
    "})"
   ]
  },
  {
   "cell_type": "code",
   "execution_count": 26,
   "id": "351ad69e-1d74-4af9-9f52-859adeb35f1e",
   "metadata": {
    "tags": []
   },
   "outputs": [
    {
     "data": {
      "text/plain": [
       "6037    1423810\n",
       "6059     551759\n",
       "6111     162868\n",
       "Name: county, dtype: int64"
      ]
     },
     "execution_count": 26,
     "metadata": {},
     "output_type": "execute_result"
    }
   ],
   "source": [
    "df.county.value_counts()"
   ]
  },
  {
   "cell_type": "code",
   "execution_count": 27,
   "id": "82e0e253-885a-43da-95dc-549d4d809fdf",
   "metadata": {
    "tags": []
   },
   "outputs": [],
   "source": [
    "county_maps = {6037: 'LA',\n",
    "6059: 'Orange',\n",
    "6111: 'Ventura'\n",
    "}"
   ]
  },
  {
   "cell_type": "code",
   "execution_count": 28,
   "id": "8b0f08e9-98a4-4bfe-abfc-da4a2e111cbc",
   "metadata": {
    "tags": []
   },
   "outputs": [],
   "source": [
    "df['county'] = df.county.map(county_maps)"
   ]
  },
  {
   "cell_type": "code",
   "execution_count": null,
   "id": "baae0345-93ac-43c8-b13b-e54e7ab88ffb",
   "metadata": {},
   "outputs": [],
   "source": []
  },
  {
   "cell_type": "code",
   "execution_count": 29,
   "id": "248c479a-0773-4e98-b7b9-8c5a82c1025e",
   "metadata": {},
   "outputs": [],
   "source": [
    "# columns to remove : "
   ]
  },
  {
   "cell_type": "markdown",
   "id": "aa16f5dd-74c0-4c4f-84da-f1a104674537",
   "metadata": {},
   "source": [
    "#### 3. Write a function to split your data into train, validate, and test."
   ]
  },
  {
   "cell_type": "code",
   "execution_count": 30,
   "id": "e231749d-70d5-4abc-be0a-9fad552b7a63",
   "metadata": {},
   "outputs": [],
   "source": [
    "train_val, test = train_test_split(df,\n",
    "                                  random_state=1349,\n",
    "                                  train_size=0.80)\n",
    "train, validate = train_test_split(train_val,\n",
    "                                  random_state=1349,\n",
    "                                  train_size=.70)\n"
   ]
  },
  {
   "cell_type": "markdown",
   "id": "b93195d5-103c-43ab-9621-f530c3f69b4e",
   "metadata": {},
   "source": [
    "#### 4. Store all of the necessary functions to automate your process from acquiring the data to returning a cleaned dataframe with no missing values in your `wrangle.py file`. Name your final function `wrangle_zillow`."
   ]
  },
  {
   "cell_type": "code",
   "execution_count": 31,
   "id": "8ce6518b-a375-4e7a-9539-726a03ccbb8c",
   "metadata": {
    "tags": []
   },
   "outputs": [
    {
     "data": {
      "text/html": [
       "<div>\n",
       "<style scoped>\n",
       "    .dataframe tbody tr th:only-of-type {\n",
       "        vertical-align: middle;\n",
       "    }\n",
       "\n",
       "    .dataframe tbody tr th {\n",
       "        vertical-align: top;\n",
       "    }\n",
       "\n",
       "    .dataframe thead th {\n",
       "        text-align: right;\n",
       "    }\n",
       "</style>\n",
       "<table border=\"1\" class=\"dataframe\">\n",
       "  <thead>\n",
       "    <tr style=\"text-align: right;\">\n",
       "      <th></th>\n",
       "      <th>id</th>\n",
       "      <th>bedrooms</th>\n",
       "      <th>bathrooms</th>\n",
       "      <th>sqft</th>\n",
       "      <th>tax_structure</th>\n",
       "      <th>tax_land</th>\n",
       "      <th>taxvalue</th>\n",
       "      <th>yearbuilt</th>\n",
       "      <th>taxamount</th>\n",
       "      <th>county</th>\n",
       "    </tr>\n",
       "  </thead>\n",
       "  <tbody>\n",
       "    <tr>\n",
       "      <th>0</th>\n",
       "      <td>20</td>\n",
       "      <td>4</td>\n",
       "      <td>2.0</td>\n",
       "      <td>3633</td>\n",
       "      <td>222321.0</td>\n",
       "      <td>74104.0</td>\n",
       "      <td>296425</td>\n",
       "      <td>2005</td>\n",
       "      <td>6941.39</td>\n",
       "      <td>LA</td>\n",
       "    </tr>\n",
       "    <tr>\n",
       "      <th>1</th>\n",
       "      <td>31</td>\n",
       "      <td>3</td>\n",
       "      <td>4.0</td>\n",
       "      <td>1620</td>\n",
       "      <td>339532.0</td>\n",
       "      <td>508238.0</td>\n",
       "      <td>847770</td>\n",
       "      <td>2011</td>\n",
       "      <td>10244.94</td>\n",
       "      <td>LA</td>\n",
       "    </tr>\n",
       "    <tr>\n",
       "      <th>2</th>\n",
       "      <td>33</td>\n",
       "      <td>3</td>\n",
       "      <td>2.0</td>\n",
       "      <td>2077</td>\n",
       "      <td>210192.0</td>\n",
       "      <td>436568.0</td>\n",
       "      <td>646760</td>\n",
       "      <td>1926</td>\n",
       "      <td>7924.68</td>\n",
       "      <td>LA</td>\n",
       "    </tr>\n",
       "    <tr>\n",
       "      <th>3</th>\n",
       "      <td>62</td>\n",
       "      <td>0</td>\n",
       "      <td>0.0</td>\n",
       "      <td>1200</td>\n",
       "      <td>595.0</td>\n",
       "      <td>4733.0</td>\n",
       "      <td>5328</td>\n",
       "      <td>1972</td>\n",
       "      <td>91.60</td>\n",
       "      <td>LA</td>\n",
       "    </tr>\n",
       "    <tr>\n",
       "      <th>5</th>\n",
       "      <td>99</td>\n",
       "      <td>0</td>\n",
       "      <td>0.0</td>\n",
       "      <td>203</td>\n",
       "      <td>7083.0</td>\n",
       "      <td>7083.0</td>\n",
       "      <td>14166</td>\n",
       "      <td>1960</td>\n",
       "      <td>163.79</td>\n",
       "      <td>LA</td>\n",
       "    </tr>\n",
       "  </tbody>\n",
       "</table>\n",
       "</div>"
      ],
      "text/plain": [
       "   id  bedrooms  bathrooms  sqft  tax_structure  tax_land  taxvalue  \\\n",
       "0  20         4        2.0  3633       222321.0   74104.0    296425   \n",
       "1  31         3        4.0  1620       339532.0  508238.0    847770   \n",
       "2  33         3        2.0  2077       210192.0  436568.0    646760   \n",
       "3  62         0        0.0  1200          595.0    4733.0      5328   \n",
       "5  99         0        0.0   203         7083.0    7083.0     14166   \n",
       "\n",
       "   yearbuilt  taxamount county  \n",
       "0       2005    6941.39     LA  \n",
       "1       2011   10244.94     LA  \n",
       "2       1926    7924.68     LA  \n",
       "3       1972      91.60     LA  \n",
       "5       1960     163.79     LA  "
      ]
     },
     "execution_count": 31,
     "metadata": {},
     "output_type": "execute_result"
    }
   ],
   "source": [
    "\n",
    "df = w.prep_zillow(w.get_zillow_data())\n",
    "df.head()"
   ]
  },
  {
   "cell_type": "markdown",
   "id": "4a629f41-17e0-4c17-920d-c3314f44f532",
   "metadata": {},
   "source": [
    "### I decided to only call for single-family houses build before 2017 and that were 'assesmentyear' = 2016. As i understand it, if the property is not new, the property has been assesed by the government to pay a specific amount based on the property and structure. Therefore i can use taxamount fairly."
   ]
  },
  {
   "cell_type": "code",
   "execution_count": null,
   "id": "e967cef8-4313-4fdc-af58-6eead17d8fc3",
   "metadata": {},
   "outputs": [],
   "source": []
  }
 ],
 "metadata": {
  "kernelspec": {
   "display_name": "Python 3 (ipykernel)",
   "language": "python",
   "name": "python3"
  },
  "language_info": {
   "codemirror_mode": {
    "name": "ipython",
    "version": 3
   },
   "file_extension": ".py",
   "mimetype": "text/x-python",
   "name": "python",
   "nbconvert_exporter": "python",
   "pygments_lexer": "ipython3",
   "version": "3.11.4"
  }
 },
 "nbformat": 4,
 "nbformat_minor": 5
}
