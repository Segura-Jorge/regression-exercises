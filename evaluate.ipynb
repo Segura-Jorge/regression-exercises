{
 "cells": [
  {
   "cell_type": "code",
   "execution_count": 1,
   "id": "9ab03ae9-0414-46a1-a698-cfd513334e5c",
   "metadata": {
    "tags": []
   },
   "outputs": [],
   "source": [
    "#tabular data imports :\n",
    "import pandas as pd\n",
    "import numpy as np\n",
    "import env\n",
    "from env import user, password, host\n",
    "\n",
    "# visualization imports:\n",
    "import matplotlib.pyplot as plt\n",
    "import seaborn as sns\n",
    "import sklearn.preprocessing\n",
    "from sklearn.model_selection import train_test_split\n",
    "from sklearn.linear_model import LinearRegression\n",
    "from sklearn.metrics import mean_squared_error, r2_score\n",
    "\n",
    "from scipy.stats import pearsonr, spearmanr\n",
    "from scipy.stats import shapiro\n",
    "\n",
    "import warnings\n",
    "warnings.filterwarnings(\"ignore\")\n",
    "import wrangle as w\n",
    "import explore as e\n",
    "import os\n",
    "directory = os.getcwd()"
   ]
  },
  {
   "cell_type": "markdown",
   "id": "8e847814-f8a0-421f-9f83-e9140c3c5c01",
   "metadata": {},
   "source": [
    "## Exercises\n",
    "\n",
    "### Do you work for this exercise in either a jupyter notebook named evaluate within your regression-exercises repository. By the end of this exercise you will also create a python script named evaluate, so the overall deliverables for this exercise are the python script and jupyter notebook both with the name evaluate within your regression-exercises repo.\n",
    "\n",
    "### 1. Load your zillow dataset."
   ]
  },
  {
   "cell_type": "code",
   "execution_count": 2,
   "id": "a2856373-9afa-494f-9144-7c038c399c61",
   "metadata": {
    "tags": []
   },
   "outputs": [
    {
     "data": {
      "text/html": [
       "<div>\n",
       "<style scoped>\n",
       "    .dataframe tbody tr th:only-of-type {\n",
       "        vertical-align: middle;\n",
       "    }\n",
       "\n",
       "    .dataframe tbody tr th {\n",
       "        vertical-align: top;\n",
       "    }\n",
       "\n",
       "    .dataframe thead th {\n",
       "        text-align: right;\n",
       "    }\n",
       "</style>\n",
       "<table border=\"1\" class=\"dataframe\">\n",
       "  <thead>\n",
       "    <tr style=\"text-align: right;\">\n",
       "      <th></th>\n",
       "      <th>id</th>\n",
       "      <th>bedrooms</th>\n",
       "      <th>bathrooms</th>\n",
       "      <th>sqft</th>\n",
       "      <th>tax_structure</th>\n",
       "      <th>tax_land</th>\n",
       "      <th>taxvalue</th>\n",
       "      <th>yearbuilt</th>\n",
       "      <th>taxamount</th>\n",
       "      <th>county</th>\n",
       "    </tr>\n",
       "  </thead>\n",
       "  <tbody>\n",
       "    <tr>\n",
       "      <th>0</th>\n",
       "      <td>20</td>\n",
       "      <td>4</td>\n",
       "      <td>2.0</td>\n",
       "      <td>3633</td>\n",
       "      <td>222321.0</td>\n",
       "      <td>74104.0</td>\n",
       "      <td>296425</td>\n",
       "      <td>2005</td>\n",
       "      <td>6941.39</td>\n",
       "      <td>LA</td>\n",
       "    </tr>\n",
       "    <tr>\n",
       "      <th>1</th>\n",
       "      <td>31</td>\n",
       "      <td>3</td>\n",
       "      <td>4.0</td>\n",
       "      <td>1620</td>\n",
       "      <td>339532.0</td>\n",
       "      <td>508238.0</td>\n",
       "      <td>847770</td>\n",
       "      <td>2011</td>\n",
       "      <td>10244.94</td>\n",
       "      <td>LA</td>\n",
       "    </tr>\n",
       "    <tr>\n",
       "      <th>2</th>\n",
       "      <td>33</td>\n",
       "      <td>3</td>\n",
       "      <td>2.0</td>\n",
       "      <td>2077</td>\n",
       "      <td>210192.0</td>\n",
       "      <td>436568.0</td>\n",
       "      <td>646760</td>\n",
       "      <td>1926</td>\n",
       "      <td>7924.68</td>\n",
       "      <td>LA</td>\n",
       "    </tr>\n",
       "    <tr>\n",
       "      <th>3</th>\n",
       "      <td>62</td>\n",
       "      <td>0</td>\n",
       "      <td>0.0</td>\n",
       "      <td>1200</td>\n",
       "      <td>595.0</td>\n",
       "      <td>4733.0</td>\n",
       "      <td>5328</td>\n",
       "      <td>1972</td>\n",
       "      <td>91.60</td>\n",
       "      <td>LA</td>\n",
       "    </tr>\n",
       "    <tr>\n",
       "      <th>5</th>\n",
       "      <td>99</td>\n",
       "      <td>0</td>\n",
       "      <td>0.0</td>\n",
       "      <td>203</td>\n",
       "      <td>7083.0</td>\n",
       "      <td>7083.0</td>\n",
       "      <td>14166</td>\n",
       "      <td>1960</td>\n",
       "      <td>163.79</td>\n",
       "      <td>LA</td>\n",
       "    </tr>\n",
       "  </tbody>\n",
       "</table>\n",
       "</div>"
      ],
      "text/plain": [
       "   id  bedrooms  bathrooms  sqft  tax_structure  tax_land  taxvalue  \\\n",
       "0  20         4        2.0  3633       222321.0   74104.0    296425   \n",
       "1  31         3        4.0  1620       339532.0  508238.0    847770   \n",
       "2  33         3        2.0  2077       210192.0  436568.0    646760   \n",
       "3  62         0        0.0  1200          595.0    4733.0      5328   \n",
       "5  99         0        0.0   203         7083.0    7083.0     14166   \n",
       "\n",
       "   yearbuilt  taxamount county  \n",
       "0       2005    6941.39     LA  \n",
       "1       2011   10244.94     LA  \n",
       "2       1926    7924.68     LA  \n",
       "3       1972      91.60     LA  \n",
       "5       1960     163.79     LA  "
      ]
     },
     "execution_count": 2,
     "metadata": {},
     "output_type": "execute_result"
    }
   ],
   "source": [
    "df = w.prep_zillow(w.get_zillow_data())\n",
    "df.head()"
   ]
  },
  {
   "cell_type": "code",
   "execution_count": 3,
   "id": "cb9d37c0-6e9b-4c93-94a3-61cabb50c393",
   "metadata": {
    "tags": []
   },
   "outputs": [
    {
     "data": {
      "text/plain": [
       "((1283062, 10), (427687, 10), (427688, 10))"
      ]
     },
     "execution_count": 3,
     "metadata": {},
     "output_type": "execute_result"
    }
   ],
   "source": [
    "# split the data\n",
    "\n",
    "train, validate_and_test = train_test_split(df, train_size=.60, random_state=123)\n",
    "validate, test = train_test_split(validate_and_test, test_size=.50, random_state=123)\n",
    "\n",
    "train.shape, validate.shape, test.shape"
   ]
  },
  {
   "cell_type": "code",
   "execution_count": 4,
   "id": "d46dd5fa-ca0c-4a3f-a72e-ee691647f9db",
   "metadata": {
    "tags": []
   },
   "outputs": [
    {
     "data": {
      "text/html": [
       "<div>\n",
       "<style scoped>\n",
       "    .dataframe tbody tr th:only-of-type {\n",
       "        vertical-align: middle;\n",
       "    }\n",
       "\n",
       "    .dataframe tbody tr th {\n",
       "        vertical-align: top;\n",
       "    }\n",
       "\n",
       "    .dataframe thead th {\n",
       "        text-align: right;\n",
       "    }\n",
       "</style>\n",
       "<table border=\"1\" class=\"dataframe\">\n",
       "  <thead>\n",
       "    <tr style=\"text-align: right;\">\n",
       "      <th></th>\n",
       "      <th>id</th>\n",
       "      <th>bedrooms</th>\n",
       "      <th>bathrooms</th>\n",
       "      <th>sqft</th>\n",
       "      <th>tax_structure</th>\n",
       "      <th>tax_land</th>\n",
       "      <th>yearbuilt</th>\n",
       "      <th>taxamount</th>\n",
       "    </tr>\n",
       "  </thead>\n",
       "  <tbody>\n",
       "    <tr>\n",
       "      <th>926160</th>\n",
       "      <td>1289383</td>\n",
       "      <td>4</td>\n",
       "      <td>3.0</td>\n",
       "      <td>2010</td>\n",
       "      <td>97093.0</td>\n",
       "      <td>22343.0</td>\n",
       "      <td>1947</td>\n",
       "      <td>1958.36</td>\n",
       "    </tr>\n",
       "    <tr>\n",
       "      <th>1083249</th>\n",
       "      <td>1508166</td>\n",
       "      <td>3</td>\n",
       "      <td>2.0</td>\n",
       "      <td>1315</td>\n",
       "      <td>101222.0</td>\n",
       "      <td>404892.0</td>\n",
       "      <td>1940</td>\n",
       "      <td>6192.70</td>\n",
       "    </tr>\n",
       "    <tr>\n",
       "      <th>613062</th>\n",
       "      <td>853501</td>\n",
       "      <td>3</td>\n",
       "      <td>3.0</td>\n",
       "      <td>2130</td>\n",
       "      <td>238800.0</td>\n",
       "      <td>38200.0</td>\n",
       "      <td>1988</td>\n",
       "      <td>4074.81</td>\n",
       "    </tr>\n",
       "    <tr>\n",
       "      <th>320744</th>\n",
       "      <td>446343</td>\n",
       "      <td>3</td>\n",
       "      <td>2.5</td>\n",
       "      <td>1893</td>\n",
       "      <td>193557.0</td>\n",
       "      <td>187240.0</td>\n",
       "      <td>2000</td>\n",
       "      <td>4466.86</td>\n",
       "    </tr>\n",
       "    <tr>\n",
       "      <th>632541</th>\n",
       "      <td>880703</td>\n",
       "      <td>4</td>\n",
       "      <td>2.0</td>\n",
       "      <td>2133</td>\n",
       "      <td>370672.0</td>\n",
       "      <td>370672.0</td>\n",
       "      <td>1964</td>\n",
       "      <td>7822.74</td>\n",
       "    </tr>\n",
       "    <tr>\n",
       "      <th>...</th>\n",
       "      <td>...</td>\n",
       "      <td>...</td>\n",
       "      <td>...</td>\n",
       "      <td>...</td>\n",
       "      <td>...</td>\n",
       "      <td>...</td>\n",
       "      <td>...</td>\n",
       "      <td>...</td>\n",
       "    </tr>\n",
       "    <tr>\n",
       "      <th>1958034</th>\n",
       "      <td>2725440</td>\n",
       "      <td>3</td>\n",
       "      <td>2.0</td>\n",
       "      <td>1973</td>\n",
       "      <td>112543.0</td>\n",
       "      <td>559457.0</td>\n",
       "      <td>1974</td>\n",
       "      <td>7857.04</td>\n",
       "    </tr>\n",
       "    <tr>\n",
       "      <th>1242967</th>\n",
       "      <td>1730916</td>\n",
       "      <td>4</td>\n",
       "      <td>2.0</td>\n",
       "      <td>1650</td>\n",
       "      <td>139714.0</td>\n",
       "      <td>12640.0</td>\n",
       "      <td>1976</td>\n",
       "      <td>1765.26</td>\n",
       "    </tr>\n",
       "    <tr>\n",
       "      <th>28082</th>\n",
       "      <td>39008</td>\n",
       "      <td>4</td>\n",
       "      <td>3.0</td>\n",
       "      <td>2340</td>\n",
       "      <td>79094.0</td>\n",
       "      <td>24621.0</td>\n",
       "      <td>1969</td>\n",
       "      <td>1560.96</td>\n",
       "    </tr>\n",
       "    <tr>\n",
       "      <th>278295</th>\n",
       "      <td>387115</td>\n",
       "      <td>4</td>\n",
       "      <td>2.0</td>\n",
       "      <td>1407</td>\n",
       "      <td>203964.0</td>\n",
       "      <td>203964.0</td>\n",
       "      <td>1973</td>\n",
       "      <td>5013.10</td>\n",
       "    </tr>\n",
       "    <tr>\n",
       "      <th>774830</th>\n",
       "      <td>1078667</td>\n",
       "      <td>3</td>\n",
       "      <td>3.0</td>\n",
       "      <td>1803</td>\n",
       "      <td>164046.0</td>\n",
       "      <td>141015.0</td>\n",
       "      <td>1960</td>\n",
       "      <td>3967.17</td>\n",
       "    </tr>\n",
       "  </tbody>\n",
       "</table>\n",
       "<p>1283062 rows × 8 columns</p>\n",
       "</div>"
      ],
      "text/plain": [
       "              id  bedrooms  bathrooms  sqft  tax_structure  tax_land  \\\n",
       "926160   1289383         4        3.0  2010        97093.0   22343.0   \n",
       "1083249  1508166         3        2.0  1315       101222.0  404892.0   \n",
       "613062    853501         3        3.0  2130       238800.0   38200.0   \n",
       "320744    446343         3        2.5  1893       193557.0  187240.0   \n",
       "632541    880703         4        2.0  2133       370672.0  370672.0   \n",
       "...          ...       ...        ...   ...            ...       ...   \n",
       "1958034  2725440         3        2.0  1973       112543.0  559457.0   \n",
       "1242967  1730916         4        2.0  1650       139714.0   12640.0   \n",
       "28082      39008         4        3.0  2340        79094.0   24621.0   \n",
       "278295    387115         4        2.0  1407       203964.0  203964.0   \n",
       "774830   1078667         3        3.0  1803       164046.0  141015.0   \n",
       "\n",
       "         yearbuilt  taxamount  \n",
       "926160        1947    1958.36  \n",
       "1083249       1940    6192.70  \n",
       "613062        1988    4074.81  \n",
       "320744        2000    4466.86  \n",
       "632541        1964    7822.74  \n",
       "...            ...        ...  \n",
       "1958034       1974    7857.04  \n",
       "1242967       1976    1765.26  \n",
       "28082         1969    1560.96  \n",
       "278295        1973    5013.10  \n",
       "774830        1960    3967.17  \n",
       "\n",
       "[1283062 rows x 8 columns]"
      ]
     },
     "execution_count": 4,
     "metadata": {},
     "output_type": "execute_result"
    }
   ],
   "source": [
    "Xtrain = train.drop(columns=['taxvalue','county'])\n",
    "Xvalidate = train.drop(columns=['taxvalue','county'])\n",
    "Xtest = test.drop(columns=['taxvalue','county'])\n",
    "ytrain = train.taxvalue\n",
    "yvalidate = validate.taxvalue\n",
    "ytest = test.taxvalue\n",
    "\n",
    "Xtrain"
   ]
  },
  {
   "cell_type": "code",
   "execution_count": 5,
   "id": "b5207631-111a-45da-b3af-b56f5323f6a9",
   "metadata": {
    "tags": []
   },
   "outputs": [
    {
     "data": {
      "text/plain": [
       "926160     119436\n",
       "1083249    506114\n",
       "613062     277000\n",
       "320744     380797\n",
       "632541     741344\n",
       "            ...  \n",
       "1958034    672000\n",
       "1242967    152354\n",
       "28082      103715\n",
       "278295     407928\n",
       "774830     305061\n",
       "Name: taxvalue, Length: 1283062, dtype: int64"
      ]
     },
     "execution_count": 5,
     "metadata": {},
     "output_type": "execute_result"
    }
   ],
   "source": [
    "y = ytrain\n",
    "y"
   ]
  },
  {
   "cell_type": "code",
   "execution_count": 6,
   "id": "85405a43-026a-49e7-a17b-37fd798e1d26",
   "metadata": {},
   "outputs": [],
   "source": [
    "# X -> set of all ind features (just one here)\n",
    "# y -> dependent variable, target.\n",
    "X = train[['sqft']]\n",
    "y = train['taxvalue']"
   ]
  },
  {
   "cell_type": "markdown",
   "id": "56668454-26f6-4404-a75d-9a0814a497c4",
   "metadata": {
    "tags": []
   },
   "source": [
    "### 2. Fit a linear regression model (ordinary least squares) and compute yhat, predictions of taxvaluedollarcnt using only calculatedfinishedsqft.\n",
    "Here is some sample code to get you started:"
   ]
  },
  {
   "cell_type": "code",
   "execution_count": 7,
   "id": "c38b64e5-02f8-4067-9bf3-6b92d8e8d61b",
   "metadata": {
    "tags": []
   },
   "outputs": [
    {
     "data": {
      "text/plain": [
       "459847.1029007172"
      ]
     },
     "execution_count": 7,
     "metadata": {},
     "output_type": "execute_result"
    }
   ],
   "source": [
    "baseline_mean = ytrain.mean()\n",
    "baseline_mean"
   ]
  },
  {
   "cell_type": "code",
   "execution_count": 8,
   "id": "37598409-2702-40b6-8270-a7e2dd814a3a",
   "metadata": {
    "tags": []
   },
   "outputs": [
    {
     "data": {
      "text/plain": [
       "328215.5"
      ]
     },
     "execution_count": 8,
     "metadata": {},
     "output_type": "execute_result"
    }
   ],
   "source": [
    "baseline_med = ytrain.median()\n",
    "baseline_med"
   ]
  },
  {
   "cell_type": "code",
   "execution_count": 9,
   "id": "9235a759-c687-43f3-bc36-859de150572a",
   "metadata": {
    "tags": []
   },
   "outputs": [],
   "source": [
    "# make an object\n",
    "lm = LinearRegression()\n",
    "# fit an object\n",
    "lm.fit(X, ytrain)\n",
    "# use an object\n",
    "yhat = lm.predict(X)"
   ]
  },
  {
   "cell_type": "code",
   "execution_count": 10,
   "id": "1afe262d-38f7-4992-a2db-25af10183508",
   "metadata": {
    "tags": []
   },
   "outputs": [],
   "source": [
    "mean_baseline = y.mean()\n",
    "med_baseline = y.median()"
   ]
  },
  {
   "cell_type": "code",
   "execution_count": 11,
   "id": "91d770e6-7e2b-49fa-8eaf-8e6b043dfc84",
   "metadata": {
    "tags": []
   },
   "outputs": [],
   "source": [
    "predictions_df = pd.DataFrame(\n",
    "{\n",
    "    'y_act': y.values,\n",
    "    'yhat': yhat,\n",
    "    'mean_baseline' : mean_baseline,\n",
    "    'med_baseline': med_baseline\n",
    "}, index=train.index)"
   ]
  },
  {
   "cell_type": "code",
   "execution_count": null,
   "id": "a547212b-a9ce-46d2-be65-02d7006e830c",
   "metadata": {},
   "outputs": [],
   "source": []
  },
  {
   "cell_type": "code",
   "execution_count": null,
   "id": "93f79707-4d8e-4a17-9926-ede5673a0fb3",
   "metadata": {},
   "outputs": [],
   "source": []
  },
  {
   "cell_type": "markdown",
   "id": "98499bd5-f2ea-4464-9ed1-485e2910c37e",
   "metadata": {},
   "source": [
    "### 3. Plot the residuals for the linear regression model that you made."
   ]
  },
  {
   "cell_type": "code",
   "execution_count": 12,
   "id": "e992d499-b9f3-426f-b7bc-106ad72c07db",
   "metadata": {
    "tags": []
   },
   "outputs": [
    {
     "data": {
      "image/png": "[encoded data removed]",
      "text/plain": [
       "<Figure size 1600x1600 with 1 Axes>"
      ]
     },
     "metadata": {},
     "output_type": "display_data"
    }
   ],
   "source": [
    "# plot residuals the first way\n",
    "plt.figure(figsize=(16,16))\n",
    "plt.scatter(y, yhat, marker='.')\n",
    "plt.plot(y,y, ls=':',linewidth=1, color='r')\n",
    "plt.title('Predicted Home Price as Actual Home Price Increases')\n",
    "plt.show()"
   ]
  },
  {
   "cell_type": "markdown",
   "id": "4dcecbff-77d9-46c5-88f1-4c3dda64f70b",
   "metadata": {
    "tags": []
   },
   "source": [
    "# plot them the other way"
   ]
  },
  {
   "cell_type": "code",
   "execution_count": 13,
   "id": "00c94955-31df-4441-84d4-4d28f853e733",
   "metadata": {
    "tags": []
   },
   "outputs": [
    {
     "data": {
      "image/png": "[encoded data removed]",
      "text/plain": [
       "<Figure size 1500x1500 with 1 Axes>"
      ]
     },
     "metadata": {},
     "output_type": "display_data"
    }
   ],
   "source": [
    "plt.figure(figsize=(15,15))\n",
    "plt.scatter(y, (y-yhat), marker='.')\n",
    "plt.axhline(0,ls=':',linewidth=1, color='r')\n",
    "plt.title('Residuals as Home Price Increases')\n",
    "plt.xlabel('Home Price In USD')\n",
    "plt.ylabel('Residual')\n",
    "plt.show()"
   ]
  },
  {
   "cell_type": "markdown",
   "id": "12599e89-5acd-4297-92e3-88532e8c0346",
   "metadata": {},
   "source": [
    "### 4. Calculate the sum of squared errors, explained sum of squares, total sum of squares, mean squared error, and root mean squared error for your model."
   ]
  },
  {
   "cell_type": "markdown",
   "id": "6ca38595-8f19-4d0e-b6d1-7324413a2113",
   "metadata": {},
   "source": [
    "#### Variables\n",
    "\n",
    "#### x: sqft\n",
    "#### y: actual taxvalue\n",
    "#### baselinemean: sqft baseline prediction\n",
    "#### yhat: taxvalue OLS prediction"
   ]
  },
  {
   "cell_type": "code",
   "execution_count": 14,
   "id": "c4e909ae-777e-4a38-a441-420b0a605728",
   "metadata": {
    "tags": []
   },
   "outputs": [
    {
     "data": {
      "text/plain": [
       "Index(['y_act', 'yhat', 'mean_baseline', 'med_baseline'], dtype='object')"
      ]
     },
     "execution_count": 14,
     "metadata": {},
     "output_type": "execute_result"
    }
   ],
   "source": [
    "predictions_df.columns"
   ]
  },
  {
   "cell_type": "code",
   "execution_count": 15,
   "id": "39dd442f-7b90-41f0-8e66-5ea1287897c4",
   "metadata": {
    "tags": []
   },
   "outputs": [],
   "source": [
    "# compute the error on these two baselines:\n",
    "mean_baseline_rmse = mean_squared_error(predictions_df.mean_baseline, y) ** (1/2)\n",
    "med_baseline_rmse = mean_squared_error(predictions_df.med_baseline, y) ** (1/2)"
   ]
  },
  {
   "cell_type": "code",
   "execution_count": 16,
   "id": "78ff574f-9710-4aad-ace1-b2cac7795ddb",
   "metadata": {
    "tags": []
   },
   "outputs": [
    {
     "data": {
      "text/plain": [
       "True"
      ]
     },
     "execution_count": 16,
     "metadata": {},
     "output_type": "execute_result"
    }
   ],
   "source": [
    "mean_baseline_rmse < med_baseline_rmse"
   ]
  },
  {
   "cell_type": "code",
   "execution_count": 17,
   "id": "26d90bf6-2c65-4c29-9da1-8dde2afaf735",
   "metadata": {
    "tags": []
   },
   "outputs": [
    {
     "name": "stdout",
     "output_type": "stream",
     "text": [
      "Root mean squared error for the mean value of home price is $671258.349.\n"
     ]
    }
   ],
   "source": [
    "#  mean providees our best baseline,\n",
    "print(f'Root mean squared error for the mean value of home price is ${round(mean_baseline_rmse, 3)}.')"
   ]
  },
  {
   "cell_type": "code",
   "execution_count": null,
   "id": "6bb2376d-756d-4b4d-b096-18cf0e9c3b90",
   "metadata": {},
   "outputs": [],
   "source": []
  },
  {
   "cell_type": "markdown",
   "id": "2d2e4a58-ac61-4e10-8781-b2eaaafaaa08",
   "metadata": {},
   "source": [
    "### 5. Calculate the sum of squared errors, mean squared error, and root mean squared error for the baseline model (i.e. a model that always predicts the average taxvaluedollarcnt amount)."
   ]
  },
  {
   "cell_type": "code",
   "execution_count": 18,
   "id": "ed815cb7-fafe-46c7-891d-6fedc7f0282e",
   "metadata": {
    "tags": []
   },
   "outputs": [],
   "source": [
    "from sklearn.metrics import mean_squared_error"
   ]
  },
  {
   "cell_type": "code",
   "execution_count": 19,
   "id": "6c2f065a-93f5-499a-ac18-65b5b56e0e4e",
   "metadata": {
    "tags": []
   },
   "outputs": [],
   "source": [
    "# Squared Errors, \n",
    "# residuals squared\n",
    "squared_errors = (predictions_df['y_act'] - predictions_df['yhat']) ** 2\n",
    "# Sum of Squared Error, \n",
    "sse = squared_errors.sum()\n",
    "# Mean Squared error, \n",
    "mse = sse / train.shape[0] #alternatively, len(train), y_pred.shape[0]\n",
    "# Root mean Squared Error\n",
    "# square root the mean squared error!\n",
    "rmse = mse**0.5"
   ]
  },
  {
   "cell_type": "code",
   "execution_count": 20,
   "id": "b9c96bb9-68ed-47e4-b2c8-c85fe9b69487",
   "metadata": {},
   "outputs": [
    {
     "data": {
      "text/plain": [
       "560727.5898448818"
      ]
     },
     "execution_count": 20,
     "metadata": {},
     "output_type": "execute_result"
    }
   ],
   "source": [
    "rmse"
   ]
  },
  {
   "cell_type": "code",
   "execution_count": 21,
   "id": "7ef9bd59-b7c2-497b-97fc-15537183ff42",
   "metadata": {
    "tags": []
   },
   "outputs": [
    {
     "data": {
      "text/plain": [
       "4.034144904636605e+17"
      ]
     },
     "execution_count": 21,
     "metadata": {},
     "output_type": "execute_result"
    }
   ],
   "source": [
    "sse"
   ]
  },
  {
   "cell_type": "markdown",
   "id": "0cbe8f44-06a8-41d4-91d4-c84e3dad3556",
   "metadata": {},
   "source": [
    "### 6. Write python code that compares the sum of squared errors for your model against the sum of squared errors for the baseline model and outputs whether or not your model performs better than the baseline model."
   ]
  },
  {
   "cell_type": "code",
   "execution_count": 22,
   "id": "cd094afe-f84b-40a4-89e0-1b6db2d18051",
   "metadata": {
    "tags": []
   },
   "outputs": [
    {
     "data": {
      "text/plain": [
       "Index(['y_act', 'yhat', 'mean_baseline', 'med_baseline'], dtype='object')"
      ]
     },
     "execution_count": 22,
     "metadata": {},
     "output_type": "execute_result"
    }
   ],
   "source": [
    "predictions_df.columns"
   ]
  },
  {
   "cell_type": "code",
   "execution_count": 23,
   "id": "bb791c88-71fb-4a1c-a13b-ac66367513c3",
   "metadata": {
    "tags": []
   },
   "outputs": [],
   "source": [
    "# do that calculation again for our baseline\n",
    "# Squared Errors, \n",
    "# residuals squared\n",
    "squared_errors_bl = (predictions_df['y_act'] - predictions_df['mean_baseline']) ** 2\n",
    "# Sum of Squared Error, \n",
    "sse_bl = squared_errors_bl.sum()"
   ]
  },
  {
   "cell_type": "code",
   "execution_count": 24,
   "id": "12c6afd3-f532-432d-aef9-a6f0c008531e",
   "metadata": {
    "tags": []
   },
   "outputs": [
    {
     "data": {
      "text/plain": [
       "(4.034144904636605e+17, 5.781320460656855e+17)"
      ]
     },
     "execution_count": 24,
     "metadata": {},
     "output_type": "execute_result"
    }
   ],
   "source": [
    "sse, sse_bl"
   ]
  },
  {
   "cell_type": "code",
   "execution_count": 25,
   "id": "84e4eecc-6ea9-4b4a-a7ed-d58763291484",
   "metadata": {
    "tags": []
   },
   "outputs": [
    {
     "data": {
      "text/plain": [
       "True"
      ]
     },
     "execution_count": 25,
     "metadata": {},
     "output_type": "execute_result"
    }
   ],
   "source": [
    "sse_bl > sse"
   ]
  },
  {
   "cell_type": "markdown",
   "id": "09679f12-7d26-475e-aa7b-3cac1bc1c7d0",
   "metadata": {},
   "source": [
    "### 7. What is the amount of variance explained in your model?"
   ]
  },
  {
   "cell_type": "code",
   "execution_count": 26,
   "id": "4be821b5-855d-4189-b101-af66bba1ec46",
   "metadata": {},
   "outputs": [
    {
     "data": {
      "text/plain": [
       "1.747175556022442e+17"
      ]
     },
     "execution_count": 26,
     "metadata": {},
     "output_type": "execute_result"
    }
   ],
   "source": [
    "# ESS = Δ(y_pred, y_mean)\n",
    "ESS = ((predictions_df['yhat'] - predictions_df['mean_baseline']) ** 2).sum()\n",
    "ESS"
   ]
  },
  {
   "cell_type": "code",
   "execution_count": 27,
   "id": "b0cc162c-ac85-4924-a4ed-ec63cfa8f25d",
   "metadata": {},
   "outputs": [
    {
     "data": {
      "text/plain": [
       "0.3022104669533007"
      ]
     },
     "execution_count": 27,
     "metadata": {},
     "output_type": "execute_result"
    }
   ],
   "source": [
    "ESS / (ESS + sse)"
   ]
  },
  {
   "cell_type": "code",
   "execution_count": 28,
   "id": "2b3cc804-7eda-41a5-ad49-8e37dc30fcfa",
   "metadata": {},
   "outputs": [
    {
     "data": {
      "text/plain": [
       "0.3022104669530361"
      ]
     },
     "execution_count": 28,
     "metadata": {},
     "output_type": "execute_result"
    }
   ],
   "source": [
    "# actual r_squared score\n",
    "r2_score(y, predictions_df['yhat'])"
   ]
  },
  {
   "cell_type": "code",
   "execution_count": null,
   "id": "b3d4a71f-ac57-4c1b-84f7-48d05e424335",
   "metadata": {},
   "outputs": [],
   "source": []
  },
  {
   "cell_type": "markdown",
   "id": "8f83a2c2-ec13-451b-8762-97a77a75658d",
   "metadata": {},
   "source": [
    "### 8. Is your model better than the baseline model?"
   ]
  },
  {
   "cell_type": "code",
   "execution_count": 29,
   "id": "aa995014-7cfe-4718-a9b8-345487442267",
   "metadata": {},
   "outputs": [
    {
     "data": {
      "text/plain": [
       "True"
      ]
     },
     "execution_count": 29,
     "metadata": {},
     "output_type": "execute_result"
    }
   ],
   "source": [
    "mean_baseline_rmse > mean_squared_error(y, predictions_df['yhat'], squared=False)"
   ]
  },
  {
   "cell_type": "code",
   "execution_count": 30,
   "id": "dce360b0-0a2f-4465-ba19-09e11799b950",
   "metadata": {},
   "outputs": [
    {
     "data": {
      "text/plain": [
       "671258.3485934747"
      ]
     },
     "execution_count": 30,
     "metadata": {},
     "output_type": "execute_result"
    }
   ],
   "source": [
    "mean_baseline_rmse"
   ]
  },
  {
   "cell_type": "code",
   "execution_count": 31,
   "id": "537b8d23-c1c7-453a-a5a4-11aff02f5def",
   "metadata": {},
   "outputs": [
    {
     "data": {
      "text/plain": [
       "560727.5898448818"
      ]
     },
     "execution_count": 31,
     "metadata": {},
     "output_type": "execute_result"
    }
   ],
   "source": [
    "mean_squared_error(y, predictions_df['yhat'], squared=False)"
   ]
  },
  {
   "cell_type": "markdown",
   "id": "ba478544-f830-4bf7-8131-89c519253de9",
   "metadata": {},
   "source": [
    "#### we have a reduction of error from our baseline to our \n",
    "#### actual linear regression model.\n",
    "#### visualuzation of our residuals do not quite match up to a perfect\n",
    "#### idea of a regression, and we have significant amount of trend to capture"
   ]
  },
  {
   "cell_type": "markdown",
   "id": "1960cc65-cdcf-4a17-a7e8-6f60caf49461",
   "metadata": {},
   "source": [
    "### 9. Create a file named evaluate.py that contains the following functions.\n",
    "- plot_residuals(y, yhat): creates a residual plot\n",
    "- regression_errors(y, yhat): returns the following values:\n",
    "    - sum of squared errors (SSE)\n",
    "    - explained sum of squares (ESS)\n",
    "    - total sum of squares (TSS)\n",
    "    - mean squared error (MSE)\n",
    "    - root mean squared error (RMSE)\n",
    "- baseline_mean_errors(y): computes the SSE, MSE, and RMSE for the baseline model\n",
    "- better_than_baseline(y, yhat): returns true if your model performs better than the baseline, otherwise false"
   ]
  },
  {
   "cell_type": "code",
   "execution_count": 32,
   "id": "7bdbc3a0-1bc8-4165-a9e0-7afdab7c0d95",
   "metadata": {},
   "outputs": [],
   "source": [
    "def plot_residuals(y, yhat):\n",
    "    plt.figure(figsize=(15,15))\n",
    "    plt.scatter(y, (y-yhat),marker='.')\n",
    "    plt.axhline(0,ls=':', linewidth=1, color='r')\n",
    "    plt.title('Residuals as Home Price Increases')\n",
    "    plt.xlabel('Home Price In USD')\n",
    "    plt.ylabel('Residual')\n",
    "    plt.show()"
   ]
  },
  {
   "cell_type": "code",
   "execution_count": 33,
   "id": "98a36286-7e23-426a-ac51-b8fb286b1ba9",
   "metadata": {},
   "outputs": [
    {
     "data": {
      "image/png": "[encoded data removed]",
      "text/plain": [
       "<Figure size 1500x1500 with 1 Axes>"
      ]
     },
     "metadata": {},
     "output_type": "display_data"
    }
   ],
   "source": [
    "plot_residuals(y, yhat)"
   ]
  },
  {
   "cell_type": "code",
   "execution_count": 34,
   "id": "5cf06c58-5fc8-45e4-9072-da126ab03a30",
   "metadata": {},
   "outputs": [],
   "source": [
    "def regression_errors(y, yhat):\n",
    "    preds = pd.DataFrame({\n",
    "        'y': y,\n",
    "        'yhat': yhat,\n",
    "        'mean': y.mean()\n",
    "    })\n",
    "    \n",
    "    squared_errors = (preds['y'] - preds['yhat']) ** 2\n",
    "    # Sum of Squared Error, \n",
    "    sse = squared_errors.sum()\n",
    "    mse = sse / len(preds)\n",
    "    rmse = mse ** 0.5\n",
    "    ess = ((preds['yhat'] - preds['mean']) **2).sum()\n",
    "    tss = ess + sse\n",
    "    return sse, ess, tss, mse, rmse"
   ]
  },
  {
   "cell_type": "code",
   "execution_count": 35,
   "id": "c2a762fd-86f0-467d-99fb-b670cb1dacc7",
   "metadata": {},
   "outputs": [
    {
     "data": {
      "text/plain": [
       "(4.034144904636605e+17,\n",
       " 1.747175556022442e+17,\n",
       " 5.781320460659046e+17,\n",
       " 314415430013.24994,\n",
       " 560727.5898448818)"
      ]
     },
     "execution_count": 35,
     "metadata": {},
     "output_type": "execute_result"
    }
   ],
   "source": [
    "regression_errors(y, yhat)"
   ]
  },
  {
   "cell_type": "code",
   "execution_count": 36,
   "id": "f6c7129c-2e4d-4992-9945-4b15259cd0db",
   "metadata": {},
   "outputs": [],
   "source": [
    "def baseline_mean_errors(y):\n",
    "    preds = pd.DataFrame({\n",
    "        'y': y,\n",
    "        'mean': y.mean()\n",
    "    })\n",
    "    \n",
    "    squared_errors_bl = (preds['y'] - preds['mean']) ** 2\n",
    "    # Sum of Squared Error, \n",
    "    sse = squared_errors_bl.sum()\n",
    "    mse = sse / len(preds)\n",
    "    rmse = mse ** 0.5\n",
    "    return sse, mse, rmse"
   ]
  },
  {
   "cell_type": "code",
   "execution_count": 37,
   "id": "3e54626d-a9b9-4669-ab0b-e16abd1d1f7a",
   "metadata": {
    "tags": []
   },
   "outputs": [
    {
     "data": {
      "text/plain": [
       "(5.781320460656855e+17, 450587770556.43884, 671258.3485934747)"
      ]
     },
     "execution_count": 37,
     "metadata": {},
     "output_type": "execute_result"
    }
   ],
   "source": [
    "baseline_mean_errors(y)"
   ]
  },
  {
   "cell_type": "code",
   "execution_count": 38,
   "id": "ca5e787f-1de8-499c-bc0a-2bf567cf8ae5",
   "metadata": {
    "tags": []
   },
   "outputs": [],
   "source": [
    "def better_than_baseline(y, yhat):\n",
    "    '''\n",
    "    return a boolean for if the model beats the baseline prediction\n",
    "    '''\n",
    "    rmse_model = mean_squared_error(y, yhat, squared=False)\n",
    "    sse, mse, rmse_baseline = baseline_mean_errors(y)\n",
    "    return (rmse_model < rmse_baseline)"
   ]
  },
  {
   "cell_type": "code",
   "execution_count": 39,
   "id": "5339f43f-96e9-42f2-a044-10b78933d918",
   "metadata": {
    "tags": []
   },
   "outputs": [
    {
     "data": {
      "text/plain": [
       "True"
      ]
     },
     "execution_count": 39,
     "metadata": {},
     "output_type": "execute_result"
    }
   ],
   "source": [
    "better_than_baseline(y, yhat)"
   ]
  }
 ],
 "metadata": {
  "kernelspec": {
   "display_name": "Python 3 (ipykernel)",
   "language": "python",
   "name": "python3"
  },
  "language_info": {
   "codemirror_mode": {
    "name": "ipython",
    "version": 3
   },
   "file_extension": ".py",
   "mimetype": "text/x-python",
   "name": "python",
   "nbconvert_exporter": "python",
   "pygments_lexer": "ipython3",
   "version": "3.11.4"
  }
 },
 "nbformat": 4,
 "nbformat_minor": 5
}
