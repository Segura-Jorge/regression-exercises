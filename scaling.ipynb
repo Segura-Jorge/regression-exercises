{
 "cells": [
  {
   "cell_type": "code",
   "execution_count": 1,
   "id": "c76241ad-ac9c-4af7-8c46-191bb34b2279",
   "metadata": {
    "tags": []
   },
   "outputs": [],
   "source": [
    "#tabular data imports :\n",
    "import pandas as pd\n",
    "import numpy as np\n",
    "import env\n",
    "from env import user, password, host\n",
    "\n",
    "# visualization imports:\n",
    "import matplotlib.pyplot as plt\n",
    "import seaborn as sns\n",
    "import sklearn.preprocessing\n",
    "from sklearn.model_selection import train_test_split\n",
    "\n",
    "import warnings\n",
    "warnings.filterwarnings(\"ignore\")\n",
    "import wrangle as w\n",
    "import os\n",
    "directory = os.getcwd()"
   ]
  },
  {
   "cell_type": "markdown",
   "id": "ec832bd6-b9aa-4832-be29-0c2023eec5cf",
   "metadata": {},
   "source": [
    "# Scaling Numeric Data\n",
    "\n",
    "### Do your work for these exercises in a jupyter notebook named `scaling`. Use the zillow dataset you acquired and prepped in previous lesson. Once you are finished, you may wish to repeat the exercises on another dataset for additional practice."
   ]
  },
  {
   "cell_type": "markdown",
   "id": "91757f15-b7c0-486f-8352-aaebc5c35332",
   "metadata": {},
   "source": [
    "#### 1. Apply the scalers we talked about in this lesson to your data and visualize the results for the unscaled and scaled distribution ."
   ]
  },
  {
   "cell_type": "code",
   "execution_count": 2,
   "id": "00b7e7c3-a1ac-47ff-af61-3ad1058f4ff8",
   "metadata": {
    "tags": []
   },
   "outputs": [
    {
     "data": {
      "text/html": [
       "<div>\n",
       "<style scoped>\n",
       "    .dataframe tbody tr th:only-of-type {\n",
       "        vertical-align: middle;\n",
       "    }\n",
       "\n",
       "    .dataframe tbody tr th {\n",
       "        vertical-align: top;\n",
       "    }\n",
       "\n",
       "    .dataframe thead th {\n",
       "        text-align: right;\n",
       "    }\n",
       "</style>\n",
       "<table border=\"1\" class=\"dataframe\">\n",
       "  <thead>\n",
       "    <tr style=\"text-align: right;\">\n",
       "      <th></th>\n",
       "      <th>id</th>\n",
       "      <th>bedrooms</th>\n",
       "      <th>bathrooms</th>\n",
       "      <th>sqft</th>\n",
       "      <th>taxvalue</th>\n",
       "      <th>yearbuilt</th>\n",
       "      <th>taxamount</th>\n",
       "      <th>county</th>\n",
       "    </tr>\n",
       "  </thead>\n",
       "  <tbody>\n",
       "    <tr>\n",
       "      <th>4</th>\n",
       "      <td>20</td>\n",
       "      <td>4</td>\n",
       "      <td>2.0</td>\n",
       "      <td>3633</td>\n",
       "      <td>296425</td>\n",
       "      <td>2005</td>\n",
       "      <td>6941.39</td>\n",
       "      <td>LA</td>\n",
       "    </tr>\n",
       "    <tr>\n",
       "      <th>6</th>\n",
       "      <td>31</td>\n",
       "      <td>3</td>\n",
       "      <td>4.0</td>\n",
       "      <td>1620</td>\n",
       "      <td>847770</td>\n",
       "      <td>2011</td>\n",
       "      <td>10244.94</td>\n",
       "      <td>LA</td>\n",
       "    </tr>\n",
       "    <tr>\n",
       "      <th>7</th>\n",
       "      <td>33</td>\n",
       "      <td>3</td>\n",
       "      <td>2.0</td>\n",
       "      <td>2077</td>\n",
       "      <td>646760</td>\n",
       "      <td>1926</td>\n",
       "      <td>7924.68</td>\n",
       "      <td>LA</td>\n",
       "    </tr>\n",
       "    <tr>\n",
       "      <th>11</th>\n",
       "      <td>62</td>\n",
       "      <td>0</td>\n",
       "      <td>0.0</td>\n",
       "      <td>1200</td>\n",
       "      <td>5328</td>\n",
       "      <td>1972</td>\n",
       "      <td>91.60</td>\n",
       "      <td>LA</td>\n",
       "    </tr>\n",
       "    <tr>\n",
       "      <th>14</th>\n",
       "      <td>97</td>\n",
       "      <td>0</td>\n",
       "      <td>0.0</td>\n",
       "      <td>171</td>\n",
       "      <td>6920</td>\n",
       "      <td>1973</td>\n",
       "      <td>255.17</td>\n",
       "      <td>LA</td>\n",
       "    </tr>\n",
       "  </tbody>\n",
       "</table>\n",
       "</div>"
      ],
      "text/plain": [
       "    id  bedrooms  bathrooms  sqft  taxvalue  yearbuilt  taxamount county\n",
       "4   20         4        2.0  3633    296425       2005    6941.39     LA\n",
       "6   31         3        4.0  1620    847770       2011   10244.94     LA\n",
       "7   33         3        2.0  2077    646760       1926    7924.68     LA\n",
       "11  62         0        0.0  1200      5328       1972      91.60     LA\n",
       "14  97         0        0.0   171      6920       1973     255.17     LA"
      ]
     },
     "execution_count": 2,
     "metadata": {},
     "output_type": "execute_result"
    }
   ],
   "source": [
    "df = w.prep_zillow(w.get_zillow_data())\n",
    "df.head()"
   ]
  },
  {
   "cell_type": "code",
   "execution_count": 3,
   "id": "539869c0-bcf4-4097-becb-e4c349eff3aa",
   "metadata": {
    "tags": []
   },
   "outputs": [
    {
     "data": {
      "text/plain": [
       "((1284141, 8), (428047, 8), (428047, 8))"
      ]
     },
     "execution_count": 3,
     "metadata": {},
     "output_type": "execute_result"
    }
   ],
   "source": [
    "# split the data\n",
    "\n",
    "train, validate_and_test = train_test_split(df, train_size=.60, random_state=123)\n",
    "validate, test = train_test_split(validate_and_test, test_size=.50, random_state=123)\n",
    "\n",
    "train.shape, test.shape, validate.shape"
   ]
  },
  {
   "cell_type": "code",
   "execution_count": 4,
   "id": "92b39f94-27ca-4aac-b2b8-19f3cda2e9d6",
   "metadata": {
    "tags": []
   },
   "outputs": [
    {
     "data": {
      "text/html": [
       "<style>#sk-container-id-1 {color: black;}#sk-container-id-1 pre{padding: 0;}#sk-container-id-1 div.sk-toggleable {background-color: white;}#sk-container-id-1 label.sk-toggleable__label {cursor: pointer;display: block;width: 100%;margin-bottom: 0;padding: 0.3em;box-sizing: border-box;text-align: center;}#sk-container-id-1 label.sk-toggleable__label-arrow:before {content: \"▸\";float: left;margin-right: 0.25em;color: #696969;}#sk-container-id-1 label.sk-toggleable__label-arrow:hover:before {color: black;}#sk-container-id-1 div.sk-estimator:hover label.sk-toggleable__label-arrow:before {color: black;}#sk-container-id-1 div.sk-toggleable__content {max-height: 0;max-width: 0;overflow: hidden;text-align: left;background-color: #f0f8ff;}#sk-container-id-1 div.sk-toggleable__content pre {margin: 0.2em;color: black;border-radius: 0.25em;background-color: #f0f8ff;}#sk-container-id-1 input.sk-toggleable__control:checked~div.sk-toggleable__content {max-height: 200px;max-width: 100%;overflow: auto;}#sk-container-id-1 input.sk-toggleable__control:checked~label.sk-toggleable__label-arrow:before {content: \"▾\";}#sk-container-id-1 div.sk-estimator input.sk-toggleable__control:checked~label.sk-toggleable__label {background-color: #d4ebff;}#sk-container-id-1 div.sk-label input.sk-toggleable__control:checked~label.sk-toggleable__label {background-color: #d4ebff;}#sk-container-id-1 input.sk-hidden--visually {border: 0;clip: rect(1px 1px 1px 1px);clip: rect(1px, 1px, 1px, 1px);height: 1px;margin: -1px;overflow: hidden;padding: 0;position: absolute;width: 1px;}#sk-container-id-1 div.sk-estimator {font-family: monospace;background-color: #f0f8ff;border: 1px dotted black;border-radius: 0.25em;box-sizing: border-box;margin-bottom: 0.5em;}#sk-container-id-1 div.sk-estimator:hover {background-color: #d4ebff;}#sk-container-id-1 div.sk-parallel-item::after {content: \"\";width: 100%;border-bottom: 1px solid gray;flex-grow: 1;}#sk-container-id-1 div.sk-label:hover label.sk-toggleable__label {background-color: #d4ebff;}#sk-container-id-1 div.sk-serial::before {content: \"\";position: absolute;border-left: 1px solid gray;box-sizing: border-box;top: 0;bottom: 0;left: 50%;z-index: 0;}#sk-container-id-1 div.sk-serial {display: flex;flex-direction: column;align-items: center;background-color: white;padding-right: 0.2em;padding-left: 0.2em;position: relative;}#sk-container-id-1 div.sk-item {position: relative;z-index: 1;}#sk-container-id-1 div.sk-parallel {display: flex;align-items: stretch;justify-content: center;background-color: white;position: relative;}#sk-container-id-1 div.sk-item::before, #sk-container-id-1 div.sk-parallel-item::before {content: \"\";position: absolute;border-left: 1px solid gray;box-sizing: border-box;top: 0;bottom: 0;left: 50%;z-index: -1;}#sk-container-id-1 div.sk-parallel-item {display: flex;flex-direction: column;z-index: 1;position: relative;background-color: white;}#sk-container-id-1 div.sk-parallel-item:first-child::after {align-self: flex-end;width: 50%;}#sk-container-id-1 div.sk-parallel-item:last-child::after {align-self: flex-start;width: 50%;}#sk-container-id-1 div.sk-parallel-item:only-child::after {width: 0;}#sk-container-id-1 div.sk-dashed-wrapped {border: 1px dashed gray;margin: 0 0.4em 0.5em 0.4em;box-sizing: border-box;padding-bottom: 0.4em;background-color: white;}#sk-container-id-1 div.sk-label label {font-family: monospace;font-weight: bold;display: inline-block;line-height: 1.2em;}#sk-container-id-1 div.sk-label-container {text-align: center;}#sk-container-id-1 div.sk-container {/* jupyter's `normalize.less` sets `[hidden] { display: none; }` but bootstrap.min.css set `[hidden] { display: none !important; }` so we also need the `!important` here to be able to override the default hidden behavior on the sphinx rendered scikit-learn.org. See: https://github.com/scikit-learn/scikit-learn/issues/21755 */display: inline-block !important;position: relative;}#sk-container-id-1 div.sk-text-repr-fallback {display: none;}</style><div id=\"sk-container-id-1\" class=\"sk-top-container\"><div class=\"sk-text-repr-fallback\"><pre>MinMaxScaler()</pre><b>In a Jupyter environment, please rerun this cell to show the HTML representation or trust the notebook. <br />On GitHub, the HTML representation is unable to render, please try loading this page with nbviewer.org.</b></div><div class=\"sk-container\" hidden><div class=\"sk-item\"><div class=\"sk-estimator sk-toggleable\"><input class=\"sk-toggleable__control sk-hidden--visually\" id=\"sk-estimator-id-1\" type=\"checkbox\" checked><label for=\"sk-estimator-id-1\" class=\"sk-toggleable__label sk-toggleable__label-arrow\">MinMaxScaler</label><div class=\"sk-toggleable__content\"><pre>MinMaxScaler()</pre></div></div></div></div></div>"
      ],
      "text/plain": [
       "MinMaxScaler()"
      ]
     },
     "execution_count": 4,
     "metadata": {},
     "output_type": "execute_result"
    }
   ],
   "source": [
    "# 1. create the object\n",
    "scaler = sklearn.preprocessing.MinMaxScaler()\n",
    "\n",
    "# 2. fit the object (learn the min and max value)\n",
    "scaler.fit(train[['bedrooms','bathrooms','yearbuilt','sqft', 'taxamount']])"
   ]
  },
  {
   "cell_type": "code",
   "execution_count": 5,
   "id": "e2527a30-70e9-4bd8-bed7-91df16c7662b",
   "metadata": {
    "tags": []
   },
   "outputs": [],
   "source": [
    "train_scaled = scaler.transform(train[['bedrooms','bathrooms','yearbuilt','sqft', 'taxamount']])"
   ]
  },
  {
   "cell_type": "code",
   "execution_count": 6,
   "id": "6d589697-fc83-4461-9597-96ea7e5f14c1",
   "metadata": {
    "tags": []
   },
   "outputs": [],
   "source": [
    "# assign the scaled values as new columns in the train\n",
    "\n",
    "train[['bedrooms_scaled','bathrooms_scaled','yearbuilt_scaled','sqft_scaled', 'taxamount_scaled']] = train_scaled"
   ]
  },
  {
   "cell_type": "code",
   "execution_count": 7,
   "id": "83f6c097-df1b-4de8-9ad1-1463801f4972",
   "metadata": {
    "tags": []
   },
   "outputs": [
    {
     "data": {
      "text/html": [
       "<div>\n",
       "<style scoped>\n",
       "    .dataframe tbody tr th:only-of-type {\n",
       "        vertical-align: middle;\n",
       "    }\n",
       "\n",
       "    .dataframe tbody tr th {\n",
       "        vertical-align: top;\n",
       "    }\n",
       "\n",
       "    .dataframe thead th {\n",
       "        text-align: right;\n",
       "    }\n",
       "</style>\n",
       "<table border=\"1\" class=\"dataframe\">\n",
       "  <thead>\n",
       "    <tr style=\"text-align: right;\">\n",
       "      <th></th>\n",
       "      <th>id</th>\n",
       "      <th>bedrooms</th>\n",
       "      <th>bathrooms</th>\n",
       "      <th>sqft</th>\n",
       "      <th>taxvalue</th>\n",
       "      <th>yearbuilt</th>\n",
       "      <th>taxamount</th>\n",
       "      <th>county</th>\n",
       "      <th>bedrooms_scaled</th>\n",
       "      <th>bathrooms_scaled</th>\n",
       "      <th>yearbuilt_scaled</th>\n",
       "      <th>sqft_scaled</th>\n",
       "      <th>taxamount_scaled</th>\n",
       "    </tr>\n",
       "  </thead>\n",
       "  <tbody>\n",
       "    <tr>\n",
       "      <th>462820</th>\n",
       "      <td>640628</td>\n",
       "      <td>5</td>\n",
       "      <td>4.0</td>\n",
       "      <td>3011</td>\n",
       "      <td>710674</td>\n",
       "      <td>2005</td>\n",
       "      <td>7561.14</td>\n",
       "      <td>Ventura</td>\n",
       "      <td>0.277778</td>\n",
       "      <td>0.125000</td>\n",
       "      <td>0.948837</td>\n",
       "      <td>0.005667</td>\n",
       "      <td>0.007001</td>\n",
       "    </tr>\n",
       "    <tr>\n",
       "      <th>3880</th>\n",
       "      <td>5509</td>\n",
       "      <td>3</td>\n",
       "      <td>2.0</td>\n",
       "      <td>1682</td>\n",
       "      <td>603333</td>\n",
       "      <td>1961</td>\n",
       "      <td>7086.19</td>\n",
       "      <td>LA</td>\n",
       "      <td>0.166667</td>\n",
       "      <td>0.062500</td>\n",
       "      <td>0.744186</td>\n",
       "      <td>0.003165</td>\n",
       "      <td>0.006561</td>\n",
       "    </tr>\n",
       "    <tr>\n",
       "      <th>992263</th>\n",
       "      <td>1374308</td>\n",
       "      <td>4</td>\n",
       "      <td>2.0</td>\n",
       "      <td>1433</td>\n",
       "      <td>82804</td>\n",
       "      <td>1954</td>\n",
       "      <td>1134.83</td>\n",
       "      <td>LA</td>\n",
       "      <td>0.222222</td>\n",
       "      <td>0.062500</td>\n",
       "      <td>0.711628</td>\n",
       "      <td>0.002696</td>\n",
       "      <td>0.001040</td>\n",
       "    </tr>\n",
       "    <tr>\n",
       "      <th>311722</th>\n",
       "      <td>431433</td>\n",
       "      <td>3</td>\n",
       "      <td>2.5</td>\n",
       "      <td>2001</td>\n",
       "      <td>355444</td>\n",
       "      <td>1999</td>\n",
       "      <td>4174.92</td>\n",
       "      <td>Ventura</td>\n",
       "      <td>0.166667</td>\n",
       "      <td>0.078125</td>\n",
       "      <td>0.920930</td>\n",
       "      <td>0.003766</td>\n",
       "      <td>0.003860</td>\n",
       "    </tr>\n",
       "    <tr>\n",
       "      <th>787985</th>\n",
       "      <td>1091294</td>\n",
       "      <td>4</td>\n",
       "      <td>2.0</td>\n",
       "      <td>2277</td>\n",
       "      <td>571000</td>\n",
       "      <td>1962</td>\n",
       "      <td>7113.02</td>\n",
       "      <td>LA</td>\n",
       "      <td>0.222222</td>\n",
       "      <td>0.062500</td>\n",
       "      <td>0.748837</td>\n",
       "      <td>0.004285</td>\n",
       "      <td>0.006585</td>\n",
       "    </tr>\n",
       "  </tbody>\n",
       "</table>\n",
       "</div>"
      ],
      "text/plain": [
       "             id  bedrooms  bathrooms  sqft  taxvalue  yearbuilt  taxamount  \\\n",
       "462820   640628         5        4.0  3011    710674       2005    7561.14   \n",
       "3880       5509         3        2.0  1682    603333       1961    7086.19   \n",
       "992263  1374308         4        2.0  1433     82804       1954    1134.83   \n",
       "311722   431433         3        2.5  2001    355444       1999    4174.92   \n",
       "787985  1091294         4        2.0  2277    571000       1962    7113.02   \n",
       "\n",
       "         county  bedrooms_scaled  bathrooms_scaled  yearbuilt_scaled  \\\n",
       "462820  Ventura         0.277778          0.125000          0.948837   \n",
       "3880         LA         0.166667          0.062500          0.744186   \n",
       "992263       LA         0.222222          0.062500          0.711628   \n",
       "311722  Ventura         0.166667          0.078125          0.920930   \n",
       "787985       LA         0.222222          0.062500          0.748837   \n",
       "\n",
       "        sqft_scaled  taxamount_scaled  \n",
       "462820     0.005667          0.007001  \n",
       "3880       0.003165          0.006561  \n",
       "992263     0.002696          0.001040  \n",
       "311722     0.003766          0.003860  \n",
       "787985     0.004285          0.006585  "
      ]
     },
     "execution_count": 7,
     "metadata": {},
     "output_type": "execute_result"
    }
   ],
   "source": [
    "train.head()"
   ]
  },
  {
   "cell_type": "code",
   "execution_count": 8,
   "id": "53e576cb-a3e0-467f-8e34-5835c49bac00",
   "metadata": {
    "tags": []
   },
   "outputs": [],
   "source": [
    "# make new scaled columns for validate and test (transform only)\n",
    "\n",
    "validate[['bedrooms_scaled','bathrooms_scaled','yearbuilt_scaled','sqft_scaled', 'taxamount_scaled']] = scaler.transform(validate[['bedrooms','bathrooms','yearbuilt','sqft','taxamount']])\n",
    "test[['bedrooms_scaled','bathrooms_scaled','yearbuilt_scaled','sqft_scaled', 'taxamount_scaled']] = scaler.transform(test[['bedrooms','bathrooms','yearbuilt','sqft','taxamount']])"
   ]
  },
  {
   "cell_type": "code",
   "execution_count": 9,
   "id": "a6e5a2a8-2ae5-4031-8a83-6b310aeb7ac2",
   "metadata": {},
   "outputs": [
    {
     "data": {
      "image/png": "[encoded data removed]",
      "text/plain": [
       "<Figure size 1300x600 with 2 Axes>"
      ]
     },
     "metadata": {},
     "output_type": "display_data"
    }
   ],
   "source": [
    "# Visualize the un-scaled and scaled distribution for total_bill\n",
    "\n",
    "plt.figure(figsize=(13, 6))\n",
    "\n",
    "# subplot 1\n",
    "plt.subplot(121)\n",
    "train.bedrooms.plot.hist(title='Original')\n",
    "\n",
    "#subplot 2\n",
    "plt.subplot(122)\n",
    "train.bedrooms_scaled.plot.hist(title='Min-Max Scaled');"
   ]
  },
  {
   "cell_type": "code",
   "execution_count": null,
   "id": "90947669-0243-48f7-aa2a-06d889f14e27",
   "metadata": {},
   "outputs": [],
   "source": []
  },
  {
   "cell_type": "code",
   "execution_count": null,
   "id": "59c27705-c6fc-46c0-b968-e0767817dc4b",
   "metadata": {},
   "outputs": [],
   "source": []
  },
  {
   "cell_type": "code",
   "execution_count": null,
   "id": "4ad4036a-f28c-40cb-b94c-22736feb4e54",
   "metadata": {},
   "outputs": [],
   "source": []
  },
  {
   "cell_type": "code",
   "execution_count": null,
   "id": "f19bf46f-13dc-4396-b3e3-e6aa3fb44965",
   "metadata": {},
   "outputs": [],
   "source": []
  },
  {
   "cell_type": "markdown",
   "id": "c2218709-e4e1-4f74-bc77-1ff2d96f490b",
   "metadata": {},
   "source": [
    "#### 2. Apply the `.inverse_transform` method to your scaled data. Is the resulting dataset the exact same as the original data?"
   ]
  },
  {
   "cell_type": "code",
   "execution_count": 10,
   "id": "b8b01c48-0604-4965-91c3-4e1453cdfa80",
   "metadata": {
    "tags": []
   },
   "outputs": [
    {
     "data": {
      "text/html": [
       "<div>\n",
       "<style scoped>\n",
       "    .dataframe tbody tr th:only-of-type {\n",
       "        vertical-align: middle;\n",
       "    }\n",
       "\n",
       "    .dataframe tbody tr th {\n",
       "        vertical-align: top;\n",
       "    }\n",
       "\n",
       "    .dataframe thead th {\n",
       "        text-align: right;\n",
       "    }\n",
       "</style>\n",
       "<table border=\"1\" class=\"dataframe\">\n",
       "  <thead>\n",
       "    <tr style=\"text-align: right;\">\n",
       "      <th></th>\n",
       "      <th>bedrooms</th>\n",
       "      <th>bathrooms</th>\n",
       "      <th>yearbuilt</th>\n",
       "      <th>sqft</th>\n",
       "      <th>taxamount</th>\n",
       "    </tr>\n",
       "  </thead>\n",
       "  <tbody>\n",
       "    <tr>\n",
       "      <th>0</th>\n",
       "      <td>5.0</td>\n",
       "      <td>4.0</td>\n",
       "      <td>2005.0</td>\n",
       "      <td>3011.0</td>\n",
       "      <td>7561.14</td>\n",
       "    </tr>\n",
       "    <tr>\n",
       "      <th>1</th>\n",
       "      <td>3.0</td>\n",
       "      <td>2.0</td>\n",
       "      <td>1961.0</td>\n",
       "      <td>1682.0</td>\n",
       "      <td>7086.19</td>\n",
       "    </tr>\n",
       "    <tr>\n",
       "      <th>2</th>\n",
       "      <td>4.0</td>\n",
       "      <td>2.0</td>\n",
       "      <td>1954.0</td>\n",
       "      <td>1433.0</td>\n",
       "      <td>1134.83</td>\n",
       "    </tr>\n",
       "    <tr>\n",
       "      <th>3</th>\n",
       "      <td>3.0</td>\n",
       "      <td>2.5</td>\n",
       "      <td>1999.0</td>\n",
       "      <td>2001.0</td>\n",
       "      <td>4174.92</td>\n",
       "    </tr>\n",
       "    <tr>\n",
       "      <th>4</th>\n",
       "      <td>4.0</td>\n",
       "      <td>2.0</td>\n",
       "      <td>1962.0</td>\n",
       "      <td>2277.0</td>\n",
       "      <td>7113.02</td>\n",
       "    </tr>\n",
       "    <tr>\n",
       "      <th>...</th>\n",
       "      <td>...</td>\n",
       "      <td>...</td>\n",
       "      <td>...</td>\n",
       "      <td>...</td>\n",
       "      <td>...</td>\n",
       "    </tr>\n",
       "    <tr>\n",
       "      <th>1284136</th>\n",
       "      <td>3.0</td>\n",
       "      <td>2.0</td>\n",
       "      <td>1963.0</td>\n",
       "      <td>1452.0</td>\n",
       "      <td>4009.01</td>\n",
       "    </tr>\n",
       "    <tr>\n",
       "      <th>1284137</th>\n",
       "      <td>4.0</td>\n",
       "      <td>3.0</td>\n",
       "      <td>1979.0</td>\n",
       "      <td>2674.0</td>\n",
       "      <td>4248.88</td>\n",
       "    </tr>\n",
       "    <tr>\n",
       "      <th>1284138</th>\n",
       "      <td>5.0</td>\n",
       "      <td>3.0</td>\n",
       "      <td>1965.0</td>\n",
       "      <td>1903.0</td>\n",
       "      <td>3924.33</td>\n",
       "    </tr>\n",
       "    <tr>\n",
       "      <th>1284139</th>\n",
       "      <td>4.0</td>\n",
       "      <td>4.5</td>\n",
       "      <td>2001.0</td>\n",
       "      <td>3672.0</td>\n",
       "      <td>13029.86</td>\n",
       "    </tr>\n",
       "    <tr>\n",
       "      <th>1284140</th>\n",
       "      <td>2.0</td>\n",
       "      <td>1.0</td>\n",
       "      <td>1939.0</td>\n",
       "      <td>820.0</td>\n",
       "      <td>849.93</td>\n",
       "    </tr>\n",
       "  </tbody>\n",
       "</table>\n",
       "<p>1284141 rows × 5 columns</p>\n",
       "</div>"
      ],
      "text/plain": [
       "         bedrooms  bathrooms  yearbuilt    sqft  taxamount\n",
       "0             5.0        4.0     2005.0  3011.0    7561.14\n",
       "1             3.0        2.0     1961.0  1682.0    7086.19\n",
       "2             4.0        2.0     1954.0  1433.0    1134.83\n",
       "3             3.0        2.5     1999.0  2001.0    4174.92\n",
       "4             4.0        2.0     1962.0  2277.0    7113.02\n",
       "...           ...        ...        ...     ...        ...\n",
       "1284136       3.0        2.0     1963.0  1452.0    4009.01\n",
       "1284137       4.0        3.0     1979.0  2674.0    4248.88\n",
       "1284138       5.0        3.0     1965.0  1903.0    3924.33\n",
       "1284139       4.0        4.5     2001.0  3672.0   13029.86\n",
       "1284140       2.0        1.0     1939.0   820.0     849.93\n",
       "\n",
       "[1284141 rows x 5 columns]"
      ]
     },
     "execution_count": 10,
     "metadata": {},
     "output_type": "execute_result"
    }
   ],
   "source": [
    "# Now let's revert the scaled data back to its original range\n",
    "original_data = scaler.inverse_transform(train_scaled)\n",
    "\n",
    "pd.DataFrame(original_data, columns=['bedrooms','bathrooms','yearbuilt','sqft', 'taxamount'])"
   ]
  },
  {
   "cell_type": "markdown",
   "id": "5dd217f0-b66d-48ff-a8d6-cfd6bd91e213",
   "metadata": {},
   "source": [
    "#### 3. Read the documentation for sklearn's `QuantileTransformer`. Use `normal` for the `output_distribution` and apply this scaler to your data. Visualize the result of your data scaling."
   ]
  },
  {
   "cell_type": "code",
   "execution_count": 11,
   "id": "078e8203-80e1-4bc2-b3f3-e897d31f68f3",
   "metadata": {
    "tags": []
   },
   "outputs": [
    {
     "data": {
      "text/html": [
       "<style>#sk-container-id-2 {color: black;}#sk-container-id-2 pre{padding: 0;}#sk-container-id-2 div.sk-toggleable {background-color: white;}#sk-container-id-2 label.sk-toggleable__label {cursor: pointer;display: block;width: 100%;margin-bottom: 0;padding: 0.3em;box-sizing: border-box;text-align: center;}#sk-container-id-2 label.sk-toggleable__label-arrow:before {content: \"▸\";float: left;margin-right: 0.25em;color: #696969;}#sk-container-id-2 label.sk-toggleable__label-arrow:hover:before {color: black;}#sk-container-id-2 div.sk-estimator:hover label.sk-toggleable__label-arrow:before {color: black;}#sk-container-id-2 div.sk-toggleable__content {max-height: 0;max-width: 0;overflow: hidden;text-align: left;background-color: #f0f8ff;}#sk-container-id-2 div.sk-toggleable__content pre {margin: 0.2em;color: black;border-radius: 0.25em;background-color: #f0f8ff;}#sk-container-id-2 input.sk-toggleable__control:checked~div.sk-toggleable__content {max-height: 200px;max-width: 100%;overflow: auto;}#sk-container-id-2 input.sk-toggleable__control:checked~label.sk-toggleable__label-arrow:before {content: \"▾\";}#sk-container-id-2 div.sk-estimator input.sk-toggleable__control:checked~label.sk-toggleable__label {background-color: #d4ebff;}#sk-container-id-2 div.sk-label input.sk-toggleable__control:checked~label.sk-toggleable__label {background-color: #d4ebff;}#sk-container-id-2 input.sk-hidden--visually {border: 0;clip: rect(1px 1px 1px 1px);clip: rect(1px, 1px, 1px, 1px);height: 1px;margin: -1px;overflow: hidden;padding: 0;position: absolute;width: 1px;}#sk-container-id-2 div.sk-estimator {font-family: monospace;background-color: #f0f8ff;border: 1px dotted black;border-radius: 0.25em;box-sizing: border-box;margin-bottom: 0.5em;}#sk-container-id-2 div.sk-estimator:hover {background-color: #d4ebff;}#sk-container-id-2 div.sk-parallel-item::after {content: \"\";width: 100%;border-bottom: 1px solid gray;flex-grow: 1;}#sk-container-id-2 div.sk-label:hover label.sk-toggleable__label {background-color: #d4ebff;}#sk-container-id-2 div.sk-serial::before {content: \"\";position: absolute;border-left: 1px solid gray;box-sizing: border-box;top: 0;bottom: 0;left: 50%;z-index: 0;}#sk-container-id-2 div.sk-serial {display: flex;flex-direction: column;align-items: center;background-color: white;padding-right: 0.2em;padding-left: 0.2em;position: relative;}#sk-container-id-2 div.sk-item {position: relative;z-index: 1;}#sk-container-id-2 div.sk-parallel {display: flex;align-items: stretch;justify-content: center;background-color: white;position: relative;}#sk-container-id-2 div.sk-item::before, #sk-container-id-2 div.sk-parallel-item::before {content: \"\";position: absolute;border-left: 1px solid gray;box-sizing: border-box;top: 0;bottom: 0;left: 50%;z-index: -1;}#sk-container-id-2 div.sk-parallel-item {display: flex;flex-direction: column;z-index: 1;position: relative;background-color: white;}#sk-container-id-2 div.sk-parallel-item:first-child::after {align-self: flex-end;width: 50%;}#sk-container-id-2 div.sk-parallel-item:last-child::after {align-self: flex-start;width: 50%;}#sk-container-id-2 div.sk-parallel-item:only-child::after {width: 0;}#sk-container-id-2 div.sk-dashed-wrapped {border: 1px dashed gray;margin: 0 0.4em 0.5em 0.4em;box-sizing: border-box;padding-bottom: 0.4em;background-color: white;}#sk-container-id-2 div.sk-label label {font-family: monospace;font-weight: bold;display: inline-block;line-height: 1.2em;}#sk-container-id-2 div.sk-label-container {text-align: center;}#sk-container-id-2 div.sk-container {/* jupyter's `normalize.less` sets `[hidden] { display: none; }` but bootstrap.min.css set `[hidden] { display: none !important; }` so we also need the `!important` here to be able to override the default hidden behavior on the sphinx rendered scikit-learn.org. See: https://github.com/scikit-learn/scikit-learn/issues/21755 */display: inline-block !important;position: relative;}#sk-container-id-2 div.sk-text-repr-fallback {display: none;}</style><div id=\"sk-container-id-2\" class=\"sk-top-container\"><div class=\"sk-text-repr-fallback\"><pre>QuantileTransformer(output_distribution=&#x27;normal&#x27;)</pre><b>In a Jupyter environment, please rerun this cell to show the HTML representation or trust the notebook. <br />On GitHub, the HTML representation is unable to render, please try loading this page with nbviewer.org.</b></div><div class=\"sk-container\" hidden><div class=\"sk-item\"><div class=\"sk-estimator sk-toggleable\"><input class=\"sk-toggleable__control sk-hidden--visually\" id=\"sk-estimator-id-2\" type=\"checkbox\" checked><label for=\"sk-estimator-id-2\" class=\"sk-toggleable__label sk-toggleable__label-arrow\">QuantileTransformer</label><div class=\"sk-toggleable__content\"><pre>QuantileTransformer(output_distribution=&#x27;normal&#x27;)</pre></div></div></div></div></div>"
      ],
      "text/plain": [
       "QuantileTransformer(output_distribution='normal')"
      ]
     },
     "execution_count": 11,
     "metadata": {},
     "output_type": "execute_result"
    }
   ],
   "source": [
    "### sklearn.preprocessing.QuantileTransformer(\n",
    "### *, n_quantiles=1000, output_distribution='uniform', \n",
    "### ignore_implicit_zeros=False, subsample=10000, random_state=None, copy=True)\n",
    "# 1. create the object\n",
    "scaler2 = sklearn.preprocessing.QuantileTransformer(output_distribution='normal')\n",
    "\n",
    "# 2. fit the object (learn the min and max value)\n",
    "scaler2.fit(train[['bedrooms','bathrooms','yearbuilt','sqft', 'taxamount']])"
   ]
  },
  {
   "cell_type": "code",
   "execution_count": 12,
   "id": "52bc7284-fa21-4a31-866b-ec7962575d79",
   "metadata": {
    "tags": []
   },
   "outputs": [
    {
     "data": {
      "text/html": [
       "<div>\n",
       "<style scoped>\n",
       "    .dataframe tbody tr th:only-of-type {\n",
       "        vertical-align: middle;\n",
       "    }\n",
       "\n",
       "    .dataframe tbody tr th {\n",
       "        vertical-align: top;\n",
       "    }\n",
       "\n",
       "    .dataframe thead th {\n",
       "        text-align: right;\n",
       "    }\n",
       "</style>\n",
       "<table border=\"1\" class=\"dataframe\">\n",
       "  <thead>\n",
       "    <tr style=\"text-align: right;\">\n",
       "      <th></th>\n",
       "      <th>id</th>\n",
       "      <th>bedrooms</th>\n",
       "      <th>bathrooms</th>\n",
       "      <th>sqft</th>\n",
       "      <th>taxvalue</th>\n",
       "      <th>yearbuilt</th>\n",
       "      <th>taxamount</th>\n",
       "      <th>county</th>\n",
       "      <th>bedrooms_scaled</th>\n",
       "      <th>bathrooms_scaled</th>\n",
       "      <th>yearbuilt_scaled</th>\n",
       "      <th>sqft_scaled</th>\n",
       "      <th>taxamount_scaled</th>\n",
       "    </tr>\n",
       "  </thead>\n",
       "  <tbody>\n",
       "    <tr>\n",
       "      <th>462820</th>\n",
       "      <td>640628</td>\n",
       "      <td>5</td>\n",
       "      <td>4.0</td>\n",
       "      <td>3011</td>\n",
       "      <td>710674</td>\n",
       "      <td>2005</td>\n",
       "      <td>7561.14</td>\n",
       "      <td>Ventura</td>\n",
       "      <td>1.654145</td>\n",
       "      <td>1.611333</td>\n",
       "      <td>1.887753</td>\n",
       "      <td>1.307801</td>\n",
       "      <td>0.902088</td>\n",
       "    </tr>\n",
       "    <tr>\n",
       "      <th>3880</th>\n",
       "      <td>5509</td>\n",
       "      <td>3</td>\n",
       "      <td>2.0</td>\n",
       "      <td>1682</td>\n",
       "      <td>603333</td>\n",
       "      <td>1961</td>\n",
       "      <td>7086.19</td>\n",
       "      <td>LA</td>\n",
       "      <td>-0.276998</td>\n",
       "      <td>-0.177827</td>\n",
       "      <td>0.132113</td>\n",
       "      <td>0.068372</td>\n",
       "      <td>0.813944</td>\n",
       "    </tr>\n",
       "    <tr>\n",
       "      <th>992263</th>\n",
       "      <td>1374308</td>\n",
       "      <td>4</td>\n",
       "      <td>2.0</td>\n",
       "      <td>1433</td>\n",
       "      <td>82804</td>\n",
       "      <td>1954</td>\n",
       "      <td>1134.83</td>\n",
       "      <td>LA</td>\n",
       "      <td>0.728240</td>\n",
       "      <td>-0.177827</td>\n",
       "      <td>-0.308427</td>\n",
       "      <td>-0.340163</td>\n",
       "      <td>-1.443731</td>\n",
       "    </tr>\n",
       "    <tr>\n",
       "      <th>311722</th>\n",
       "      <td>431433</td>\n",
       "      <td>3</td>\n",
       "      <td>2.5</td>\n",
       "      <td>2001</td>\n",
       "      <td>355444</td>\n",
       "      <td>1999</td>\n",
       "      <td>4174.92</td>\n",
       "      <td>Ventura</td>\n",
       "      <td>-0.276998</td>\n",
       "      <td>0.489307</td>\n",
       "      <td>1.505747</td>\n",
       "      <td>0.447305</td>\n",
       "      <td>0.034354</td>\n",
       "    </tr>\n",
       "    <tr>\n",
       "      <th>787985</th>\n",
       "      <td>1091294</td>\n",
       "      <td>4</td>\n",
       "      <td>2.0</td>\n",
       "      <td>2277</td>\n",
       "      <td>571000</td>\n",
       "      <td>1962</td>\n",
       "      <td>7113.02</td>\n",
       "      <td>LA</td>\n",
       "      <td>0.728240</td>\n",
       "      <td>-0.177827</td>\n",
       "      <td>0.181652</td>\n",
       "      <td>0.713599</td>\n",
       "      <td>0.819519</td>\n",
       "    </tr>\n",
       "  </tbody>\n",
       "</table>\n",
       "</div>"
      ],
      "text/plain": [
       "             id  bedrooms  bathrooms  sqft  taxvalue  yearbuilt  taxamount  \\\n",
       "462820   640628         5        4.0  3011    710674       2005    7561.14   \n",
       "3880       5509         3        2.0  1682    603333       1961    7086.19   \n",
       "992263  1374308         4        2.0  1433     82804       1954    1134.83   \n",
       "311722   431433         3        2.5  2001    355444       1999    4174.92   \n",
       "787985  1091294         4        2.0  2277    571000       1962    7113.02   \n",
       "\n",
       "         county  bedrooms_scaled  bathrooms_scaled  yearbuilt_scaled  \\\n",
       "462820  Ventura         1.654145          1.611333          1.887753   \n",
       "3880         LA        -0.276998         -0.177827          0.132113   \n",
       "992263       LA         0.728240         -0.177827         -0.308427   \n",
       "311722  Ventura        -0.276998          0.489307          1.505747   \n",
       "787985       LA         0.728240         -0.177827          0.181652   \n",
       "\n",
       "        sqft_scaled  taxamount_scaled  \n",
       "462820     1.307801          0.902088  \n",
       "3880       0.068372          0.813944  \n",
       "992263    -0.340163         -1.443731  \n",
       "311722     0.447305          0.034354  \n",
       "787985     0.713599          0.819519  "
      ]
     },
     "execution_count": 12,
     "metadata": {},
     "output_type": "execute_result"
    }
   ],
   "source": [
    "train_scaled2 = scaler2.transform(train[['bedrooms','bathrooms','yearbuilt','sqft', 'taxamount']])\n",
    "\n",
    "# assign the scaled values as new columns in the train\n",
    "\n",
    "train[['bedrooms_scaled','bathrooms_scaled','yearbuilt_scaled','sqft_scaled', 'taxamount_scaled']] = train_scaled2\n",
    "\n",
    "train.head()"
   ]
  },
  {
   "cell_type": "code",
   "execution_count": 23,
   "id": "c7a1970c-675f-4889-8d0d-a3fb4b4f8ad7",
   "metadata": {},
   "outputs": [
    {
     "data": {
      "image/png": "[encoded data removed]",
      "text/plain": [
       "<Figure size 1300x600 with 2 Axes>"
      ]
     },
     "metadata": {},
     "output_type": "display_data"
    }
   ],
   "source": [
    "# Visualize the un-scaled and scaled distribution for total_bill\n",
    "\n",
    "plt.figure(figsize=(13, 6))\n",
    "\n",
    "# subplot 1\n",
    "plt.subplot(121)\n",
    "train.bedrooms.plot.hist(title='Original', bins= 10)\n",
    "\n",
    "#subplot 2\n",
    "plt.subplot(122)\n",
    "train.bedrooms_scaled.plot.hist(title='QuantileTransformer Scaled', bins= 10);"
   ]
  },
  {
   "cell_type": "code",
   "execution_count": null,
   "id": "4c6bda9e-aed7-4eea-b2f1-83fa83f35ce4",
   "metadata": {
    "tags": []
   },
   "outputs": [],
   "source": [
    "train.head()"
   ]
  },
  {
   "cell_type": "code",
   "execution_count": null,
   "id": "f6d4f5b2-b293-4717-82b2-20ecba8bec1e",
   "metadata": {},
   "outputs": [],
   "source": []
  },
  {
   "cell_type": "markdown",
   "id": "bf43ab7d-6f0f-4ba5-bc3a-5fc30607d82d",
   "metadata": {},
   "source": [
    "#### 4. Use the `QuantileTransformer`, but omit the `output_distribution` argument. Visualize your results. What do you notice?"
   ]
  },
  {
   "cell_type": "code",
   "execution_count": 14,
   "id": "1f92f745-7c3d-4511-b0b8-92254098194b",
   "metadata": {
    "tags": []
   },
   "outputs": [
    {
     "data": {
      "text/html": [
       "<style>#sk-container-id-3 {color: black;}#sk-container-id-3 pre{padding: 0;}#sk-container-id-3 div.sk-toggleable {background-color: white;}#sk-container-id-3 label.sk-toggleable__label {cursor: pointer;display: block;width: 100%;margin-bottom: 0;padding: 0.3em;box-sizing: border-box;text-align: center;}#sk-container-id-3 label.sk-toggleable__label-arrow:before {content: \"▸\";float: left;margin-right: 0.25em;color: #696969;}#sk-container-id-3 label.sk-toggleable__label-arrow:hover:before {color: black;}#sk-container-id-3 div.sk-estimator:hover label.sk-toggleable__label-arrow:before {color: black;}#sk-container-id-3 div.sk-toggleable__content {max-height: 0;max-width: 0;overflow: hidden;text-align: left;background-color: #f0f8ff;}#sk-container-id-3 div.sk-toggleable__content pre {margin: 0.2em;color: black;border-radius: 0.25em;background-color: #f0f8ff;}#sk-container-id-3 input.sk-toggleable__control:checked~div.sk-toggleable__content {max-height: 200px;max-width: 100%;overflow: auto;}#sk-container-id-3 input.sk-toggleable__control:checked~label.sk-toggleable__label-arrow:before {content: \"▾\";}#sk-container-id-3 div.sk-estimator input.sk-toggleable__control:checked~label.sk-toggleable__label {background-color: #d4ebff;}#sk-container-id-3 div.sk-label input.sk-toggleable__control:checked~label.sk-toggleable__label {background-color: #d4ebff;}#sk-container-id-3 input.sk-hidden--visually {border: 0;clip: rect(1px 1px 1px 1px);clip: rect(1px, 1px, 1px, 1px);height: 1px;margin: -1px;overflow: hidden;padding: 0;position: absolute;width: 1px;}#sk-container-id-3 div.sk-estimator {font-family: monospace;background-color: #f0f8ff;border: 1px dotted black;border-radius: 0.25em;box-sizing: border-box;margin-bottom: 0.5em;}#sk-container-id-3 div.sk-estimator:hover {background-color: #d4ebff;}#sk-container-id-3 div.sk-parallel-item::after {content: \"\";width: 100%;border-bottom: 1px solid gray;flex-grow: 1;}#sk-container-id-3 div.sk-label:hover label.sk-toggleable__label {background-color: #d4ebff;}#sk-container-id-3 div.sk-serial::before {content: \"\";position: absolute;border-left: 1px solid gray;box-sizing: border-box;top: 0;bottom: 0;left: 50%;z-index: 0;}#sk-container-id-3 div.sk-serial {display: flex;flex-direction: column;align-items: center;background-color: white;padding-right: 0.2em;padding-left: 0.2em;position: relative;}#sk-container-id-3 div.sk-item {position: relative;z-index: 1;}#sk-container-id-3 div.sk-parallel {display: flex;align-items: stretch;justify-content: center;background-color: white;position: relative;}#sk-container-id-3 div.sk-item::before, #sk-container-id-3 div.sk-parallel-item::before {content: \"\";position: absolute;border-left: 1px solid gray;box-sizing: border-box;top: 0;bottom: 0;left: 50%;z-index: -1;}#sk-container-id-3 div.sk-parallel-item {display: flex;flex-direction: column;z-index: 1;position: relative;background-color: white;}#sk-container-id-3 div.sk-parallel-item:first-child::after {align-self: flex-end;width: 50%;}#sk-container-id-3 div.sk-parallel-item:last-child::after {align-self: flex-start;width: 50%;}#sk-container-id-3 div.sk-parallel-item:only-child::after {width: 0;}#sk-container-id-3 div.sk-dashed-wrapped {border: 1px dashed gray;margin: 0 0.4em 0.5em 0.4em;box-sizing: border-box;padding-bottom: 0.4em;background-color: white;}#sk-container-id-3 div.sk-label label {font-family: monospace;font-weight: bold;display: inline-block;line-height: 1.2em;}#sk-container-id-3 div.sk-label-container {text-align: center;}#sk-container-id-3 div.sk-container {/* jupyter's `normalize.less` sets `[hidden] { display: none; }` but bootstrap.min.css set `[hidden] { display: none !important; }` so we also need the `!important` here to be able to override the default hidden behavior on the sphinx rendered scikit-learn.org. See: https://github.com/scikit-learn/scikit-learn/issues/21755 */display: inline-block !important;position: relative;}#sk-container-id-3 div.sk-text-repr-fallback {display: none;}</style><div id=\"sk-container-id-3\" class=\"sk-top-container\"><div class=\"sk-text-repr-fallback\"><pre>QuantileTransformer()</pre><b>In a Jupyter environment, please rerun this cell to show the HTML representation or trust the notebook. <br />On GitHub, the HTML representation is unable to render, please try loading this page with nbviewer.org.</b></div><div class=\"sk-container\" hidden><div class=\"sk-item\"><div class=\"sk-estimator sk-toggleable\"><input class=\"sk-toggleable__control sk-hidden--visually\" id=\"sk-estimator-id-3\" type=\"checkbox\" checked><label for=\"sk-estimator-id-3\" class=\"sk-toggleable__label sk-toggleable__label-arrow\">QuantileTransformer</label><div class=\"sk-toggleable__content\"><pre>QuantileTransformer()</pre></div></div></div></div></div>"
      ],
      "text/plain": [
       "QuantileTransformer()"
      ]
     },
     "execution_count": 14,
     "metadata": {},
     "output_type": "execute_result"
    }
   ],
   "source": [
    "### sklearn.preprocessing.QuantileTransformer(\n",
    "### *, n_quantiles=1000, output_distribution='uniform', \n",
    "### ignore_implicit_zeros=False, subsample=10000, random_state=None, copy=True)\n",
    "# 1. create the object\n",
    "scaler2 = sklearn.preprocessing.QuantileTransformer()\n",
    "\n",
    "# 2. fit the object (learn the min and max value)\n",
    "scaler2.fit(train[['bedrooms','bathrooms','yearbuilt','sqft', 'taxamount']])"
   ]
  },
  {
   "cell_type": "code",
   "execution_count": 18,
   "id": "f7bbe996-d5ac-445b-8f4e-b245658fc822",
   "metadata": {
    "tags": []
   },
   "outputs": [
    {
     "data": {
      "image/png": "[encoded data removed]",
      "text/plain": [
       "<Figure size 1300x600 with 2 Axes>"
      ]
     },
     "metadata": {},
     "output_type": "display_data"
    }
   ],
   "source": [
    "# Visualize the un-scaled and scaled distribution for total_bill\n",
    "\n",
    "plt.figure(figsize=(13, 6))\n",
    "\n",
    "# subplot 1\n",
    "plt.subplot(121)\n",
    "train.bedrooms.plot.hist(title='Original', bins= 10)\n",
    "\n",
    "#subplot 2\n",
    "plt.subplot(122)\n",
    "train.bedrooms_scaled.plot.hist(title='QuantileTransformer Scaled', bins= 10);"
   ]
  },
  {
   "cell_type": "code",
   "execution_count": null,
   "id": "026ffeb2-7763-4677-ad2c-a9711dfe0f09",
   "metadata": {},
   "outputs": [],
   "source": []
  },
  {
   "cell_type": "markdown",
   "id": "5148cd17-e859-48ac-99b8-7d2159687d67",
   "metadata": {},
   "source": [
    "#### 5. Based on the work you've done, choose a scaling method for your dataset. Write a function within your `prepare.py` that accepts as input the train, validate, and test data splits, and returns the scaled versions of each. Be sure to only learn the parameters for scaling from your training data!"
   ]
  },
  {
   "cell_type": "code",
   "execution_count": null,
   "id": "3d8575cc-708c-4866-9bb4-a03f2fc97862",
   "metadata": {},
   "outputs": [],
   "source": []
  },
  {
   "cell_type": "code",
   "execution_count": null,
   "id": "88d52ea4-05a9-4f96-bc36-1532553be717",
   "metadata": {},
   "outputs": [],
   "source": []
  },
  {
   "cell_type": "code",
   "execution_count": null,
   "id": "c4958431-62ee-4fc9-b3d2-f3cea1123e60",
   "metadata": {},
   "outputs": [],
   "source": []
  }
 ],
 "metadata": {
  "kernelspec": {
   "display_name": "Python 3 (ipykernel)",
   "language": "python",
   "name": "python3"
  },
  "language_info": {
   "codemirror_mode": {
    "name": "ipython",
    "version": 3
   },
   "file_extension": ".py",
   "mimetype": "text/x-python",
   "name": "python",
   "nbconvert_exporter": "python",
   "pygments_lexer": "ipython3",
   "version": "3.11.4"
  }
 },
 "nbformat": 4,
 "nbformat_minor": 5
}
