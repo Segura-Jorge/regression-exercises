{
 "cells": [
  {
   "cell_type": "code",
   "execution_count": 44,
   "id": "c76241ad-ac9c-4af7-8c46-191bb34b2279",
   "metadata": {
    "tags": []
   },
   "outputs": [],
   "source": [
    "#tabular data imports :\n",
    "import pandas as pd\n",
    "import numpy as np\n",
    "import env\n",
    "from env import user, password, host\n",
    "\n",
    "# visualization imports:\n",
    "import matplotlib.pyplot as plt\n",
    "import seaborn as sns\n",
    "import sklearn.preprocessing\n",
    "from sklearn.model_selection import train_test_split\n",
    "\n",
    "import warnings\n",
    "warnings.filterwarnings(\"ignore\")\n",
    "import wrangle as w\n",
    "import os\n",
    "directory = os.getcwd()"
   ]
  },
  {
   "cell_type": "markdown",
   "id": "ec832bd6-b9aa-4832-be29-0c2023eec5cf",
   "metadata": {},
   "source": [
    "# Scaling Numeric Data\n",
    "\n",
    "### Do your work for these exercises in a jupyter notebook named `scaling`. Use the zillow dataset you acquired and prepped in previous lesson. Once you are finished, you may wish to repeat the exercises on another dataset for additional practice."
   ]
  },
  {
   "cell_type": "markdown",
   "id": "91757f15-b7c0-486f-8352-aaebc5c35332",
   "metadata": {},
   "source": [
    "#### 1. Apply the scalers we talked about in this lesson to your data and visualize the results for the unscaled and scaled distribution ."
   ]
  },
  {
   "cell_type": "code",
   "execution_count": 45,
   "id": "00b7e7c3-a1ac-47ff-af61-3ad1058f4ff8",
   "metadata": {
    "tags": []
   },
   "outputs": [
    {
     "data": {
      "text/html": [
       "<div>\n",
       "<style scoped>\n",
       "    .dataframe tbody tr th:only-of-type {\n",
       "        vertical-align: middle;\n",
       "    }\n",
       "\n",
       "    .dataframe tbody tr th {\n",
       "        vertical-align: top;\n",
       "    }\n",
       "\n",
       "    .dataframe thead th {\n",
       "        text-align: right;\n",
       "    }\n",
       "</style>\n",
       "<table border=\"1\" class=\"dataframe\">\n",
       "  <thead>\n",
       "    <tr style=\"text-align: right;\">\n",
       "      <th></th>\n",
       "      <th>id</th>\n",
       "      <th>bedrooms</th>\n",
       "      <th>bathrooms</th>\n",
       "      <th>sqft</th>\n",
       "      <th>tax_structure</th>\n",
       "      <th>tax_land</th>\n",
       "      <th>taxvalue</th>\n",
       "      <th>yearbuilt</th>\n",
       "      <th>taxamount</th>\n",
       "      <th>county</th>\n",
       "    </tr>\n",
       "  </thead>\n",
       "  <tbody>\n",
       "    <tr>\n",
       "      <th>0</th>\n",
       "      <td>20</td>\n",
       "      <td>4</td>\n",
       "      <td>2.0</td>\n",
       "      <td>3633</td>\n",
       "      <td>222321.0</td>\n",
       "      <td>74104.0</td>\n",
       "      <td>296425</td>\n",
       "      <td>2005</td>\n",
       "      <td>6941.39</td>\n",
       "      <td>LA</td>\n",
       "    </tr>\n",
       "    <tr>\n",
       "      <th>1</th>\n",
       "      <td>31</td>\n",
       "      <td>3</td>\n",
       "      <td>4.0</td>\n",
       "      <td>1620</td>\n",
       "      <td>339532.0</td>\n",
       "      <td>508238.0</td>\n",
       "      <td>847770</td>\n",
       "      <td>2011</td>\n",
       "      <td>10244.94</td>\n",
       "      <td>LA</td>\n",
       "    </tr>\n",
       "    <tr>\n",
       "      <th>2</th>\n",
       "      <td>33</td>\n",
       "      <td>3</td>\n",
       "      <td>2.0</td>\n",
       "      <td>2077</td>\n",
       "      <td>210192.0</td>\n",
       "      <td>436568.0</td>\n",
       "      <td>646760</td>\n",
       "      <td>1926</td>\n",
       "      <td>7924.68</td>\n",
       "      <td>LA</td>\n",
       "    </tr>\n",
       "    <tr>\n",
       "      <th>3</th>\n",
       "      <td>62</td>\n",
       "      <td>0</td>\n",
       "      <td>0.0</td>\n",
       "      <td>1200</td>\n",
       "      <td>595.0</td>\n",
       "      <td>4733.0</td>\n",
       "      <td>5328</td>\n",
       "      <td>1972</td>\n",
       "      <td>91.60</td>\n",
       "      <td>LA</td>\n",
       "    </tr>\n",
       "    <tr>\n",
       "      <th>5</th>\n",
       "      <td>99</td>\n",
       "      <td>0</td>\n",
       "      <td>0.0</td>\n",
       "      <td>203</td>\n",
       "      <td>7083.0</td>\n",
       "      <td>7083.0</td>\n",
       "      <td>14166</td>\n",
       "      <td>1960</td>\n",
       "      <td>163.79</td>\n",
       "      <td>LA</td>\n",
       "    </tr>\n",
       "  </tbody>\n",
       "</table>\n",
       "</div>"
      ],
      "text/plain": [
       "   id  bedrooms  bathrooms  sqft  tax_structure  tax_land  taxvalue  \\\n",
       "0  20         4        2.0  3633       222321.0   74104.0    296425   \n",
       "1  31         3        4.0  1620       339532.0  508238.0    847770   \n",
       "2  33         3        2.0  2077       210192.0  436568.0    646760   \n",
       "3  62         0        0.0  1200          595.0    4733.0      5328   \n",
       "5  99         0        0.0   203         7083.0    7083.0     14166   \n",
       "\n",
       "   yearbuilt  taxamount county  \n",
       "0       2005    6941.39     LA  \n",
       "1       2011   10244.94     LA  \n",
       "2       1926    7924.68     LA  \n",
       "3       1972      91.60     LA  \n",
       "5       1960     163.79     LA  "
      ]
     },
     "execution_count": 45,
     "metadata": {},
     "output_type": "execute_result"
    }
   ],
   "source": [
    "df = w.prep_zillow(w.get_zillow_data())\n",
    "df.head()"
   ]
  },
  {
   "cell_type": "code",
   "execution_count": 46,
   "id": "539869c0-bcf4-4097-becb-e4c349eff3aa",
   "metadata": {
    "tags": []
   },
   "outputs": [
    {
     "data": {
      "text/plain": [
       "((1283062, 10), (427688, 10), (427687, 10))"
      ]
     },
     "execution_count": 46,
     "metadata": {},
     "output_type": "execute_result"
    }
   ],
   "source": [
    "# split the data\n",
    "\n",
    "train, validate_and_test = train_test_split(df, train_size=.60, random_state=123)\n",
    "validate, test = train_test_split(validate_and_test, test_size=.50, random_state=123)\n",
    "\n",
    "train.shape, test.shape, validate.shape"
   ]
  },
  {
   "cell_type": "code",
   "execution_count": 47,
   "id": "92b39f94-27ca-4aac-b2b8-19f3cda2e9d6",
   "metadata": {
    "tags": []
   },
   "outputs": [
    {
     "data": {
      "text/html": [
       "<style>#sk-container-id-6 {color: black;}#sk-container-id-6 pre{padding: 0;}#sk-container-id-6 div.sk-toggleable {background-color: white;}#sk-container-id-6 label.sk-toggleable__label {cursor: pointer;display: block;width: 100%;margin-bottom: 0;padding: 0.3em;box-sizing: border-box;text-align: center;}#sk-container-id-6 label.sk-toggleable__label-arrow:before {content: \"▸\";float: left;margin-right: 0.25em;color: #696969;}#sk-container-id-6 label.sk-toggleable__label-arrow:hover:before {color: black;}#sk-container-id-6 div.sk-estimator:hover label.sk-toggleable__label-arrow:before {color: black;}#sk-container-id-6 div.sk-toggleable__content {max-height: 0;max-width: 0;overflow: hidden;text-align: left;background-color: #f0f8ff;}#sk-container-id-6 div.sk-toggleable__content pre {margin: 0.2em;color: black;border-radius: 0.25em;background-color: #f0f8ff;}#sk-container-id-6 input.sk-toggleable__control:checked~div.sk-toggleable__content {max-height: 200px;max-width: 100%;overflow: auto;}#sk-container-id-6 input.sk-toggleable__control:checked~label.sk-toggleable__label-arrow:before {content: \"▾\";}#sk-container-id-6 div.sk-estimator input.sk-toggleable__control:checked~label.sk-toggleable__label {background-color: #d4ebff;}#sk-container-id-6 div.sk-label input.sk-toggleable__control:checked~label.sk-toggleable__label {background-color: #d4ebff;}#sk-container-id-6 input.sk-hidden--visually {border: 0;clip: rect(1px 1px 1px 1px);clip: rect(1px, 1px, 1px, 1px);height: 1px;margin: -1px;overflow: hidden;padding: 0;position: absolute;width: 1px;}#sk-container-id-6 div.sk-estimator {font-family: monospace;background-color: #f0f8ff;border: 1px dotted black;border-radius: 0.25em;box-sizing: border-box;margin-bottom: 0.5em;}#sk-container-id-6 div.sk-estimator:hover {background-color: #d4ebff;}#sk-container-id-6 div.sk-parallel-item::after {content: \"\";width: 100%;border-bottom: 1px solid gray;flex-grow: 1;}#sk-container-id-6 div.sk-label:hover label.sk-toggleable__label {background-color: #d4ebff;}#sk-container-id-6 div.sk-serial::before {content: \"\";position: absolute;border-left: 1px solid gray;box-sizing: border-box;top: 0;bottom: 0;left: 50%;z-index: 0;}#sk-container-id-6 div.sk-serial {display: flex;flex-direction: column;align-items: center;background-color: white;padding-right: 0.2em;padding-left: 0.2em;position: relative;}#sk-container-id-6 div.sk-item {position: relative;z-index: 1;}#sk-container-id-6 div.sk-parallel {display: flex;align-items: stretch;justify-content: center;background-color: white;position: relative;}#sk-container-id-6 div.sk-item::before, #sk-container-id-6 div.sk-parallel-item::before {content: \"\";position: absolute;border-left: 1px solid gray;box-sizing: border-box;top: 0;bottom: 0;left: 50%;z-index: -1;}#sk-container-id-6 div.sk-parallel-item {display: flex;flex-direction: column;z-index: 1;position: relative;background-color: white;}#sk-container-id-6 div.sk-parallel-item:first-child::after {align-self: flex-end;width: 50%;}#sk-container-id-6 div.sk-parallel-item:last-child::after {align-self: flex-start;width: 50%;}#sk-container-id-6 div.sk-parallel-item:only-child::after {width: 0;}#sk-container-id-6 div.sk-dashed-wrapped {border: 1px dashed gray;margin: 0 0.4em 0.5em 0.4em;box-sizing: border-box;padding-bottom: 0.4em;background-color: white;}#sk-container-id-6 div.sk-label label {font-family: monospace;font-weight: bold;display: inline-block;line-height: 1.2em;}#sk-container-id-6 div.sk-label-container {text-align: center;}#sk-container-id-6 div.sk-container {/* jupyter's `normalize.less` sets `[hidden] { display: none; }` but bootstrap.min.css set `[hidden] { display: none !important; }` so we also need the `!important` here to be able to override the default hidden behavior on the sphinx rendered scikit-learn.org. See: https://github.com/scikit-learn/scikit-learn/issues/21755 */display: inline-block !important;position: relative;}#sk-container-id-6 div.sk-text-repr-fallback {display: none;}</style><div id=\"sk-container-id-6\" class=\"sk-top-container\"><div class=\"sk-text-repr-fallback\"><pre>MinMaxScaler()</pre><b>In a Jupyter environment, please rerun this cell to show the HTML representation or trust the notebook. <br />On GitHub, the HTML representation is unable to render, please try loading this page with nbviewer.org.</b></div><div class=\"sk-container\" hidden><div class=\"sk-item\"><div class=\"sk-estimator sk-toggleable\"><input class=\"sk-toggleable__control sk-hidden--visually\" id=\"sk-estimator-id-6\" type=\"checkbox\" checked><label for=\"sk-estimator-id-6\" class=\"sk-toggleable__label sk-toggleable__label-arrow\">MinMaxScaler</label><div class=\"sk-toggleable__content\"><pre>MinMaxScaler()</pre></div></div></div></div></div>"
      ],
      "text/plain": [
       "MinMaxScaler()"
      ]
     },
     "execution_count": 47,
     "metadata": {},
     "output_type": "execute_result"
    }
   ],
   "source": [
    "# 1. create the object\n",
    "scaler = sklearn.preprocessing.MinMaxScaler()\n",
    "\n",
    "# 2. fit the object (learn the min and max value)\n",
    "scaler.fit(train[['bedrooms','bathrooms','sqft','tax_structure','tax_land','yearbuilt','taxamount']])"
   ]
  },
  {
   "cell_type": "code",
   "execution_count": 48,
   "id": "e2527a30-70e9-4bd8-bed7-91df16c7662b",
   "metadata": {
    "tags": []
   },
   "outputs": [],
   "source": [
    "train_scaled = scaler.transform(train[['bedrooms','bathrooms','sqft','tax_structure','tax_land','yearbuilt','taxamount']])"
   ]
  },
  {
   "cell_type": "code",
   "execution_count": 35,
   "id": "e5117200-a0fb-4c7c-8390-e34fde8a405a",
   "metadata": {
    "tags": []
   },
   "outputs": [
    {
     "data": {
      "text/plain": [
       "array([[1.60000000e-01, 1.50000000e-01, 3.78259404e-03, ...,\n",
       "        3.53503995e-04, 6.79069767e-01, 1.80411903e-03],\n",
       "       [1.20000000e-01, 1.00000000e-01, 2.47403115e-03, ...,\n",
       "        6.40959892e-03, 6.46511628e-01, 5.73175573e-03],\n",
       "       [1.20000000e-01, 1.50000000e-01, 4.00853296e-03, ...,\n",
       "        6.04534574e-04, 8.69767442e-01, 3.76726954e-03],\n",
       "       ...,\n",
       "       [1.60000000e-01, 1.50000000e-01, 4.40392607e-03, ...,\n",
       "        3.89566785e-04, 7.81395349e-01, 1.43550366e-03],\n",
       "       [1.60000000e-01, 1.00000000e-01, 2.64725098e-03, ...,\n",
       "        3.22872787e-03, 8.00000000e-01, 4.63759696e-03],\n",
       "       [1.20000000e-01, 1.50000000e-01, 3.39284941e-03, ...,\n",
       "        2.23218855e-03, 7.39534884e-01, 3.66742616e-03]])"
      ]
     },
     "execution_count": 35,
     "metadata": {},
     "output_type": "execute_result"
    }
   ],
   "source": []
  },
  {
   "cell_type": "code",
   "execution_count": 49,
   "id": "6d589697-fc83-4461-9597-96ea7e5f14c1",
   "metadata": {
    "tags": []
   },
   "outputs": [],
   "source": [
    "# assign the scaled values as new columns in the train\n",
    "\n",
    "train[['bedrooms_scaled','bathrooms_scaled','sqft_scaled','tax_structure_scaled','tax_land_scaled','yearbuilt_scaled','taxamount_scaled']] = train_scaled"
   ]
  },
  {
   "cell_type": "code",
   "execution_count": 50,
   "id": "83f6c097-df1b-4de8-9ad1-1463801f4972",
   "metadata": {
    "tags": []
   },
   "outputs": [
    {
     "data": {
      "text/html": [
       "<div>\n",
       "<style scoped>\n",
       "    .dataframe tbody tr th:only-of-type {\n",
       "        vertical-align: middle;\n",
       "    }\n",
       "\n",
       "    .dataframe tbody tr th {\n",
       "        vertical-align: top;\n",
       "    }\n",
       "\n",
       "    .dataframe thead th {\n",
       "        text-align: right;\n",
       "    }\n",
       "</style>\n",
       "<table border=\"1\" class=\"dataframe\">\n",
       "  <thead>\n",
       "    <tr style=\"text-align: right;\">\n",
       "      <th></th>\n",
       "      <th>id</th>\n",
       "      <th>bedrooms</th>\n",
       "      <th>bathrooms</th>\n",
       "      <th>sqft</th>\n",
       "      <th>tax_structure</th>\n",
       "      <th>tax_land</th>\n",
       "      <th>taxvalue</th>\n",
       "      <th>yearbuilt</th>\n",
       "      <th>taxamount</th>\n",
       "      <th>county</th>\n",
       "      <th>bedrooms_scaled</th>\n",
       "      <th>bathrooms_scaled</th>\n",
       "      <th>sqft_scaled</th>\n",
       "      <th>tax_structure_scaled</th>\n",
       "      <th>tax_land_scaled</th>\n",
       "      <th>yearbuilt_scaled</th>\n",
       "      <th>taxamount_scaled</th>\n",
       "    </tr>\n",
       "  </thead>\n",
       "  <tbody>\n",
       "    <tr>\n",
       "      <th>926160</th>\n",
       "      <td>1289383</td>\n",
       "      <td>4</td>\n",
       "      <td>3.0</td>\n",
       "      <td>2010</td>\n",
       "      <td>97093.0</td>\n",
       "      <td>22343.0</td>\n",
       "      <td>119436</td>\n",
       "      <td>1947</td>\n",
       "      <td>1958.36</td>\n",
       "      <td>LA</td>\n",
       "      <td>0.16</td>\n",
       "      <td>0.150</td>\n",
       "      <td>0.003783</td>\n",
       "      <td>0.001525</td>\n",
       "      <td>0.000354</td>\n",
       "      <td>0.679070</td>\n",
       "      <td>0.001804</td>\n",
       "    </tr>\n",
       "    <tr>\n",
       "      <th>1083249</th>\n",
       "      <td>1508166</td>\n",
       "      <td>3</td>\n",
       "      <td>2.0</td>\n",
       "      <td>1315</td>\n",
       "      <td>101222.0</td>\n",
       "      <td>404892.0</td>\n",
       "      <td>506114</td>\n",
       "      <td>1940</td>\n",
       "      <td>6192.70</td>\n",
       "      <td>LA</td>\n",
       "      <td>0.12</td>\n",
       "      <td>0.100</td>\n",
       "      <td>0.002474</td>\n",
       "      <td>0.001590</td>\n",
       "      <td>0.006410</td>\n",
       "      <td>0.646512</td>\n",
       "      <td>0.005732</td>\n",
       "    </tr>\n",
       "    <tr>\n",
       "      <th>613062</th>\n",
       "      <td>853501</td>\n",
       "      <td>3</td>\n",
       "      <td>3.0</td>\n",
       "      <td>2130</td>\n",
       "      <td>238800.0</td>\n",
       "      <td>38200.0</td>\n",
       "      <td>277000</td>\n",
       "      <td>1988</td>\n",
       "      <td>4074.81</td>\n",
       "      <td>LA</td>\n",
       "      <td>0.12</td>\n",
       "      <td>0.150</td>\n",
       "      <td>0.004009</td>\n",
       "      <td>0.003751</td>\n",
       "      <td>0.000605</td>\n",
       "      <td>0.869767</td>\n",
       "      <td>0.003767</td>\n",
       "    </tr>\n",
       "    <tr>\n",
       "      <th>320744</th>\n",
       "      <td>446343</td>\n",
       "      <td>3</td>\n",
       "      <td>2.5</td>\n",
       "      <td>1893</td>\n",
       "      <td>193557.0</td>\n",
       "      <td>187240.0</td>\n",
       "      <td>380797</td>\n",
       "      <td>2000</td>\n",
       "      <td>4466.86</td>\n",
       "      <td>Ventura</td>\n",
       "      <td>0.12</td>\n",
       "      <td>0.125</td>\n",
       "      <td>0.003562</td>\n",
       "      <td>0.003040</td>\n",
       "      <td>0.002964</td>\n",
       "      <td>0.925581</td>\n",
       "      <td>0.004131</td>\n",
       "    </tr>\n",
       "    <tr>\n",
       "      <th>632541</th>\n",
       "      <td>880703</td>\n",
       "      <td>4</td>\n",
       "      <td>2.0</td>\n",
       "      <td>2133</td>\n",
       "      <td>370672.0</td>\n",
       "      <td>370672.0</td>\n",
       "      <td>741344</td>\n",
       "      <td>1964</td>\n",
       "      <td>7822.74</td>\n",
       "      <td>Ventura</td>\n",
       "      <td>0.16</td>\n",
       "      <td>0.100</td>\n",
       "      <td>0.004014</td>\n",
       "      <td>0.005822</td>\n",
       "      <td>0.005868</td>\n",
       "      <td>0.758140</td>\n",
       "      <td>0.007244</td>\n",
       "    </tr>\n",
       "  </tbody>\n",
       "</table>\n",
       "</div>"
      ],
      "text/plain": [
       "              id  bedrooms  bathrooms  sqft  tax_structure  tax_land  \\\n",
       "926160   1289383         4        3.0  2010        97093.0   22343.0   \n",
       "1083249  1508166         3        2.0  1315       101222.0  404892.0   \n",
       "613062    853501         3        3.0  2130       238800.0   38200.0   \n",
       "320744    446343         3        2.5  1893       193557.0  187240.0   \n",
       "632541    880703         4        2.0  2133       370672.0  370672.0   \n",
       "\n",
       "         taxvalue  yearbuilt  taxamount   county  bedrooms_scaled  \\\n",
       "926160     119436       1947    1958.36       LA             0.16   \n",
       "1083249    506114       1940    6192.70       LA             0.12   \n",
       "613062     277000       1988    4074.81       LA             0.12   \n",
       "320744     380797       2000    4466.86  Ventura             0.12   \n",
       "632541     741344       1964    7822.74  Ventura             0.16   \n",
       "\n",
       "         bathrooms_scaled  sqft_scaled  tax_structure_scaled  tax_land_scaled  \\\n",
       "926160              0.150     0.003783              0.001525         0.000354   \n",
       "1083249             0.100     0.002474              0.001590         0.006410   \n",
       "613062              0.150     0.004009              0.003751         0.000605   \n",
       "320744              0.125     0.003562              0.003040         0.002964   \n",
       "632541              0.100     0.004014              0.005822         0.005868   \n",
       "\n",
       "         yearbuilt_scaled  taxamount_scaled  \n",
       "926160           0.679070          0.001804  \n",
       "1083249          0.646512          0.005732  \n",
       "613062           0.869767          0.003767  \n",
       "320744           0.925581          0.004131  \n",
       "632541           0.758140          0.007244  "
      ]
     },
     "execution_count": 50,
     "metadata": {},
     "output_type": "execute_result"
    }
   ],
   "source": [
    "train.head()"
   ]
  },
  {
   "cell_type": "code",
   "execution_count": 51,
   "id": "53e576cb-a3e0-467f-8e34-5835c49bac00",
   "metadata": {
    "tags": []
   },
   "outputs": [],
   "source": [
    "# make new scaled columns for validate and test (transform only)\n",
    "validate[['bedrooms_scaled','bathrooms_scaled','sqft_scaled','tax_structure_scaled','tax_land_scaled','yearbuilt_scaled','taxamount_scaled']] = scaler.transform(validate[['bedrooms','bathrooms','sqft','tax_structure','tax_land','yearbuilt','taxamount']])\n",
    "test[['bedrooms_scaled','bathrooms_scaled','sqft_scaled','tax_structure_scaled','tax_land_scaled','yearbuilt_scaled','taxamount_scaled']] = scaler.transform(test[['bedrooms','bathrooms','sqft','tax_structure','tax_land','yearbuilt','taxamount']])"
   ]
  },
  {
   "cell_type": "code",
   "execution_count": 52,
   "id": "a6e5a2a8-2ae5-4031-8a83-6b310aeb7ac2",
   "metadata": {},
   "outputs": [
    {
     "data": {
      "image/png": "[encoded data removed]",
      "text/plain": [
       "<Figure size 1300x600 with 2 Axes>"
      ]
     },
     "metadata": {},
     "output_type": "display_data"
    }
   ],
   "source": [
    "# Visualize the un-scaled and scaled distribution for total_bill\n",
    "\n",
    "plt.figure(figsize=(13, 6))\n",
    "\n",
    "# subplot 1\n",
    "plt.subplot(121)\n",
    "train.bedrooms.plot.hist(title='Original')\n",
    "\n",
    "# #subplot 2\n",
    "plt.subplot(122)\n",
    "train.bedrooms_scaled.plot.hist(title='Min-Max Scaled');"
   ]
  },
  {
   "cell_type": "code",
   "execution_count": null,
   "id": "90947669-0243-48f7-aa2a-06d889f14e27",
   "metadata": {},
   "outputs": [],
   "source": []
  },
  {
   "cell_type": "code",
   "execution_count": null,
   "id": "59c27705-c6fc-46c0-b968-e0767817dc4b",
   "metadata": {},
   "outputs": [],
   "source": []
  },
  {
   "cell_type": "code",
   "execution_count": null,
   "id": "4ad4036a-f28c-40cb-b94c-22736feb4e54",
   "metadata": {},
   "outputs": [],
   "source": []
  },
  {
   "cell_type": "code",
   "execution_count": null,
   "id": "f19bf46f-13dc-4396-b3e3-e6aa3fb44965",
   "metadata": {},
   "outputs": [],
   "source": []
  },
  {
   "cell_type": "markdown",
   "id": "c2218709-e4e1-4f74-bc77-1ff2d96f490b",
   "metadata": {},
   "source": [
    "#### 2. Apply the `.inverse_transform` method to your scaled data. Is the resulting dataset the exact same as the original data?"
   ]
  },
  {
   "cell_type": "code",
   "execution_count": 10,
   "id": "b8b01c48-0604-4965-91c3-4e1453cdfa80",
   "metadata": {
    "tags": []
   },
   "outputs": [
    {
     "data": {
      "text/html": [
       "<div>\n",
       "<style scoped>\n",
       "    .dataframe tbody tr th:only-of-type {\n",
       "        vertical-align: middle;\n",
       "    }\n",
       "\n",
       "    .dataframe tbody tr th {\n",
       "        vertical-align: top;\n",
       "    }\n",
       "\n",
       "    .dataframe thead th {\n",
       "        text-align: right;\n",
       "    }\n",
       "</style>\n",
       "<table border=\"1\" class=\"dataframe\">\n",
       "  <thead>\n",
       "    <tr style=\"text-align: right;\">\n",
       "      <th></th>\n",
       "      <th>bedrooms</th>\n",
       "      <th>bathrooms</th>\n",
       "      <th>yearbuilt</th>\n",
       "      <th>sqft</th>\n",
       "      <th>taxamount</th>\n",
       "    </tr>\n",
       "  </thead>\n",
       "  <tbody>\n",
       "    <tr>\n",
       "      <th>0</th>\n",
       "      <td>4.0</td>\n",
       "      <td>3.0</td>\n",
       "      <td>1947.0</td>\n",
       "      <td>2010.0</td>\n",
       "      <td>1958.36</td>\n",
       "    </tr>\n",
       "    <tr>\n",
       "      <th>1</th>\n",
       "      <td>3.0</td>\n",
       "      <td>2.0</td>\n",
       "      <td>1940.0</td>\n",
       "      <td>1315.0</td>\n",
       "      <td>6192.70</td>\n",
       "    </tr>\n",
       "    <tr>\n",
       "      <th>2</th>\n",
       "      <td>3.0</td>\n",
       "      <td>3.0</td>\n",
       "      <td>1988.0</td>\n",
       "      <td>2130.0</td>\n",
       "      <td>4074.81</td>\n",
       "    </tr>\n",
       "    <tr>\n",
       "      <th>3</th>\n",
       "      <td>3.0</td>\n",
       "      <td>2.5</td>\n",
       "      <td>2000.0</td>\n",
       "      <td>1893.0</td>\n",
       "      <td>4466.86</td>\n",
       "    </tr>\n",
       "    <tr>\n",
       "      <th>4</th>\n",
       "      <td>4.0</td>\n",
       "      <td>2.0</td>\n",
       "      <td>1964.0</td>\n",
       "      <td>2133.0</td>\n",
       "      <td>7822.74</td>\n",
       "    </tr>\n",
       "    <tr>\n",
       "      <th>...</th>\n",
       "      <td>...</td>\n",
       "      <td>...</td>\n",
       "      <td>...</td>\n",
       "      <td>...</td>\n",
       "      <td>...</td>\n",
       "    </tr>\n",
       "    <tr>\n",
       "      <th>1283057</th>\n",
       "      <td>3.0</td>\n",
       "      <td>2.0</td>\n",
       "      <td>1974.0</td>\n",
       "      <td>1973.0</td>\n",
       "      <td>7857.04</td>\n",
       "    </tr>\n",
       "    <tr>\n",
       "      <th>1283058</th>\n",
       "      <td>4.0</td>\n",
       "      <td>2.0</td>\n",
       "      <td>1976.0</td>\n",
       "      <td>1650.0</td>\n",
       "      <td>1765.26</td>\n",
       "    </tr>\n",
       "    <tr>\n",
       "      <th>1283059</th>\n",
       "      <td>4.0</td>\n",
       "      <td>3.0</td>\n",
       "      <td>1969.0</td>\n",
       "      <td>2340.0</td>\n",
       "      <td>1560.96</td>\n",
       "    </tr>\n",
       "    <tr>\n",
       "      <th>1283060</th>\n",
       "      <td>4.0</td>\n",
       "      <td>2.0</td>\n",
       "      <td>1973.0</td>\n",
       "      <td>1407.0</td>\n",
       "      <td>5013.10</td>\n",
       "    </tr>\n",
       "    <tr>\n",
       "      <th>1283061</th>\n",
       "      <td>3.0</td>\n",
       "      <td>3.0</td>\n",
       "      <td>1960.0</td>\n",
       "      <td>1803.0</td>\n",
       "      <td>3967.17</td>\n",
       "    </tr>\n",
       "  </tbody>\n",
       "</table>\n",
       "<p>1283062 rows × 5 columns</p>\n",
       "</div>"
      ],
      "text/plain": [
       "         bedrooms  bathrooms  yearbuilt    sqft  taxamount\n",
       "0             4.0        3.0     1947.0  2010.0    1958.36\n",
       "1             3.0        2.0     1940.0  1315.0    6192.70\n",
       "2             3.0        3.0     1988.0  2130.0    4074.81\n",
       "3             3.0        2.5     2000.0  1893.0    4466.86\n",
       "4             4.0        2.0     1964.0  2133.0    7822.74\n",
       "...           ...        ...        ...     ...        ...\n",
       "1283057       3.0        2.0     1974.0  1973.0    7857.04\n",
       "1283058       4.0        2.0     1976.0  1650.0    1765.26\n",
       "1283059       4.0        3.0     1969.0  2340.0    1560.96\n",
       "1283060       4.0        2.0     1973.0  1407.0    5013.10\n",
       "1283061       3.0        3.0     1960.0  1803.0    3967.17\n",
       "\n",
       "[1283062 rows x 5 columns]"
      ]
     },
     "execution_count": 10,
     "metadata": {},
     "output_type": "execute_result"
    }
   ],
   "source": [
    "# Now let's revert the scaled data back to its original range\n",
    "original_data = scaler.inverse_transform(train_scaled)\n",
    "\n",
    "pd.DataFrame(original_data, columns=['bedrooms','bathrooms','yearbuilt','sqft', 'taxamount'])"
   ]
  },
  {
   "cell_type": "markdown",
   "id": "5dd217f0-b66d-48ff-a8d6-cfd6bd91e213",
   "metadata": {},
   "source": [
    "#### 3. Read the documentation for sklearn's `QuantileTransformer`. Use `normal` for the `output_distribution` and apply this scaler to your data. Visualize the result of your data scaling."
   ]
  },
  {
   "cell_type": "code",
   "execution_count": 11,
   "id": "078e8203-80e1-4bc2-b3f3-e897d31f68f3",
   "metadata": {
    "tags": []
   },
   "outputs": [
    {
     "data": {
      "text/html": [
       "<style>#sk-container-id-2 {color: black;}#sk-container-id-2 pre{padding: 0;}#sk-container-id-2 div.sk-toggleable {background-color: white;}#sk-container-id-2 label.sk-toggleable__label {cursor: pointer;display: block;width: 100%;margin-bottom: 0;padding: 0.3em;box-sizing: border-box;text-align: center;}#sk-container-id-2 label.sk-toggleable__label-arrow:before {content: \"▸\";float: left;margin-right: 0.25em;color: #696969;}#sk-container-id-2 label.sk-toggleable__label-arrow:hover:before {color: black;}#sk-container-id-2 div.sk-estimator:hover label.sk-toggleable__label-arrow:before {color: black;}#sk-container-id-2 div.sk-toggleable__content {max-height: 0;max-width: 0;overflow: hidden;text-align: left;background-color: #f0f8ff;}#sk-container-id-2 div.sk-toggleable__content pre {margin: 0.2em;color: black;border-radius: 0.25em;background-color: #f0f8ff;}#sk-container-id-2 input.sk-toggleable__control:checked~div.sk-toggleable__content {max-height: 200px;max-width: 100%;overflow: auto;}#sk-container-id-2 input.sk-toggleable__control:checked~label.sk-toggleable__label-arrow:before {content: \"▾\";}#sk-container-id-2 div.sk-estimator input.sk-toggleable__control:checked~label.sk-toggleable__label {background-color: #d4ebff;}#sk-container-id-2 div.sk-label input.sk-toggleable__control:checked~label.sk-toggleable__label {background-color: #d4ebff;}#sk-container-id-2 input.sk-hidden--visually {border: 0;clip: rect(1px 1px 1px 1px);clip: rect(1px, 1px, 1px, 1px);height: 1px;margin: -1px;overflow: hidden;padding: 0;position: absolute;width: 1px;}#sk-container-id-2 div.sk-estimator {font-family: monospace;background-color: #f0f8ff;border: 1px dotted black;border-radius: 0.25em;box-sizing: border-box;margin-bottom: 0.5em;}#sk-container-id-2 div.sk-estimator:hover {background-color: #d4ebff;}#sk-container-id-2 div.sk-parallel-item::after {content: \"\";width: 100%;border-bottom: 1px solid gray;flex-grow: 1;}#sk-container-id-2 div.sk-label:hover label.sk-toggleable__label {background-color: #d4ebff;}#sk-container-id-2 div.sk-serial::before {content: \"\";position: absolute;border-left: 1px solid gray;box-sizing: border-box;top: 0;bottom: 0;left: 50%;z-index: 0;}#sk-container-id-2 div.sk-serial {display: flex;flex-direction: column;align-items: center;background-color: white;padding-right: 0.2em;padding-left: 0.2em;position: relative;}#sk-container-id-2 div.sk-item {position: relative;z-index: 1;}#sk-container-id-2 div.sk-parallel {display: flex;align-items: stretch;justify-content: center;background-color: white;position: relative;}#sk-container-id-2 div.sk-item::before, #sk-container-id-2 div.sk-parallel-item::before {content: \"\";position: absolute;border-left: 1px solid gray;box-sizing: border-box;top: 0;bottom: 0;left: 50%;z-index: -1;}#sk-container-id-2 div.sk-parallel-item {display: flex;flex-direction: column;z-index: 1;position: relative;background-color: white;}#sk-container-id-2 div.sk-parallel-item:first-child::after {align-self: flex-end;width: 50%;}#sk-container-id-2 div.sk-parallel-item:last-child::after {align-self: flex-start;width: 50%;}#sk-container-id-2 div.sk-parallel-item:only-child::after {width: 0;}#sk-container-id-2 div.sk-dashed-wrapped {border: 1px dashed gray;margin: 0 0.4em 0.5em 0.4em;box-sizing: border-box;padding-bottom: 0.4em;background-color: white;}#sk-container-id-2 div.sk-label label {font-family: monospace;font-weight: bold;display: inline-block;line-height: 1.2em;}#sk-container-id-2 div.sk-label-container {text-align: center;}#sk-container-id-2 div.sk-container {/* jupyter's `normalize.less` sets `[hidden] { display: none; }` but bootstrap.min.css set `[hidden] { display: none !important; }` so we also need the `!important` here to be able to override the default hidden behavior on the sphinx rendered scikit-learn.org. See: https://github.com/scikit-learn/scikit-learn/issues/21755 */display: inline-block !important;position: relative;}#sk-container-id-2 div.sk-text-repr-fallback {display: none;}</style><div id=\"sk-container-id-2\" class=\"sk-top-container\"><div class=\"sk-text-repr-fallback\"><pre>QuantileTransformer(output_distribution=&#x27;normal&#x27;)</pre><b>In a Jupyter environment, please rerun this cell to show the HTML representation or trust the notebook. <br />On GitHub, the HTML representation is unable to render, please try loading this page with nbviewer.org.</b></div><div class=\"sk-container\" hidden><div class=\"sk-item\"><div class=\"sk-estimator sk-toggleable\"><input class=\"sk-toggleable__control sk-hidden--visually\" id=\"sk-estimator-id-2\" type=\"checkbox\" checked><label for=\"sk-estimator-id-2\" class=\"sk-toggleable__label sk-toggleable__label-arrow\">QuantileTransformer</label><div class=\"sk-toggleable__content\"><pre>QuantileTransformer(output_distribution=&#x27;normal&#x27;)</pre></div></div></div></div></div>"
      ],
      "text/plain": [
       "QuantileTransformer(output_distribution='normal')"
      ]
     },
     "execution_count": 11,
     "metadata": {},
     "output_type": "execute_result"
    }
   ],
   "source": [
    "### sklearn.preprocessing.QuantileTransformer(\n",
    "### *, n_quantiles=1000, output_distribution='uniform', \n",
    "### ignore_implicit_zeros=False, subsample=10000, random_state=None, copy=True)\n",
    "# 1. create the object\n",
    "scaler2 = sklearn.preprocessing.QuantileTransformer(output_distribution='normal')\n",
    "\n",
    "# 2. fit the object (learn the min and max value)\n",
    "scaler2.fit(train[['bedrooms','bathrooms','yearbuilt','sqft', 'taxamount']])"
   ]
  },
  {
   "cell_type": "code",
   "execution_count": 12,
   "id": "52bc7284-fa21-4a31-866b-ec7962575d79",
   "metadata": {
    "tags": []
   },
   "outputs": [
    {
     "data": {
      "text/html": [
       "<div>\n",
       "<style scoped>\n",
       "    .dataframe tbody tr th:only-of-type {\n",
       "        vertical-align: middle;\n",
       "    }\n",
       "\n",
       "    .dataframe tbody tr th {\n",
       "        vertical-align: top;\n",
       "    }\n",
       "\n",
       "    .dataframe thead th {\n",
       "        text-align: right;\n",
       "    }\n",
       "</style>\n",
       "<table border=\"1\" class=\"dataframe\">\n",
       "  <thead>\n",
       "    <tr style=\"text-align: right;\">\n",
       "      <th></th>\n",
       "      <th>id</th>\n",
       "      <th>bedrooms</th>\n",
       "      <th>bathrooms</th>\n",
       "      <th>sqft</th>\n",
       "      <th>tax_structure</th>\n",
       "      <th>tax_land</th>\n",
       "      <th>taxvalue</th>\n",
       "      <th>yearbuilt</th>\n",
       "      <th>taxamount</th>\n",
       "      <th>county</th>\n",
       "      <th>bedrooms_scaled</th>\n",
       "      <th>bathrooms_scaled</th>\n",
       "      <th>yearbuilt_scaled</th>\n",
       "      <th>sqft_scaled</th>\n",
       "      <th>taxamount_scaled</th>\n",
       "    </tr>\n",
       "  </thead>\n",
       "  <tbody>\n",
       "    <tr>\n",
       "      <th>926160</th>\n",
       "      <td>1289383</td>\n",
       "      <td>4</td>\n",
       "      <td>3.0</td>\n",
       "      <td>2010</td>\n",
       "      <td>97093.0</td>\n",
       "      <td>22343.0</td>\n",
       "      <td>119436</td>\n",
       "      <td>1947</td>\n",
       "      <td>1958.36</td>\n",
       "      <td>LA</td>\n",
       "      <td>0.721714</td>\n",
       "      <td>0.890172</td>\n",
       "      <td>-0.840906</td>\n",
       "      <td>0.464939</td>\n",
       "      <td>-0.947506</td>\n",
       "    </tr>\n",
       "    <tr>\n",
       "      <th>1083249</th>\n",
       "      <td>1508166</td>\n",
       "      <td>3</td>\n",
       "      <td>2.0</td>\n",
       "      <td>1315</td>\n",
       "      <td>101222.0</td>\n",
       "      <td>404892.0</td>\n",
       "      <td>506114</td>\n",
       "      <td>1940</td>\n",
       "      <td>6192.70</td>\n",
       "      <td>LA</td>\n",
       "      <td>-0.270485</td>\n",
       "      <td>-0.176553</td>\n",
       "      <td>-1.061884</td>\n",
       "      <td>-0.573115</td>\n",
       "      <td>0.605183</td>\n",
       "    </tr>\n",
       "    <tr>\n",
       "      <th>613062</th>\n",
       "      <td>853501</td>\n",
       "      <td>3</td>\n",
       "      <td>3.0</td>\n",
       "      <td>2130</td>\n",
       "      <td>238800.0</td>\n",
       "      <td>38200.0</td>\n",
       "      <td>277000</td>\n",
       "      <td>1988</td>\n",
       "      <td>4074.81</td>\n",
       "      <td>LA</td>\n",
       "      <td>-0.270485</td>\n",
       "      <td>0.890172</td>\n",
       "      <td>1.102440</td>\n",
       "      <td>0.591696</td>\n",
       "      <td>-0.014610</td>\n",
       "    </tr>\n",
       "    <tr>\n",
       "      <th>320744</th>\n",
       "      <td>446343</td>\n",
       "      <td>3</td>\n",
       "      <td>2.5</td>\n",
       "      <td>1893</td>\n",
       "      <td>193557.0</td>\n",
       "      <td>187240.0</td>\n",
       "      <td>380797</td>\n",
       "      <td>2000</td>\n",
       "      <td>4466.86</td>\n",
       "      <td>Ventura</td>\n",
       "      <td>-0.270485</td>\n",
       "      <td>0.472407</td>\n",
       "      <td>1.571286</td>\n",
       "      <td>0.332198</td>\n",
       "      <td>0.115580</td>\n",
       "    </tr>\n",
       "    <tr>\n",
       "      <th>632541</th>\n",
       "      <td>880703</td>\n",
       "      <td>4</td>\n",
       "      <td>2.0</td>\n",
       "      <td>2133</td>\n",
       "      <td>370672.0</td>\n",
       "      <td>370672.0</td>\n",
       "      <td>741344</td>\n",
       "      <td>1964</td>\n",
       "      <td>7822.74</td>\n",
       "      <td>Ventura</td>\n",
       "      <td>0.721714</td>\n",
       "      <td>-0.176553</td>\n",
       "      <td>0.256198</td>\n",
       "      <td>0.593940</td>\n",
       "      <td>0.942951</td>\n",
       "    </tr>\n",
       "  </tbody>\n",
       "</table>\n",
       "</div>"
      ],
      "text/plain": [
       "              id  bedrooms  bathrooms  sqft  tax_structure  tax_land  \\\n",
       "926160   1289383         4        3.0  2010        97093.0   22343.0   \n",
       "1083249  1508166         3        2.0  1315       101222.0  404892.0   \n",
       "613062    853501         3        3.0  2130       238800.0   38200.0   \n",
       "320744    446343         3        2.5  1893       193557.0  187240.0   \n",
       "632541    880703         4        2.0  2133       370672.0  370672.0   \n",
       "\n",
       "         taxvalue  yearbuilt  taxamount   county  bedrooms_scaled  \\\n",
       "926160     119436       1947    1958.36       LA         0.721714   \n",
       "1083249    506114       1940    6192.70       LA        -0.270485   \n",
       "613062     277000       1988    4074.81       LA        -0.270485   \n",
       "320744     380797       2000    4466.86  Ventura        -0.270485   \n",
       "632541     741344       1964    7822.74  Ventura         0.721714   \n",
       "\n",
       "         bathrooms_scaled  yearbuilt_scaled  sqft_scaled  taxamount_scaled  \n",
       "926160           0.890172         -0.840906     0.464939         -0.947506  \n",
       "1083249         -0.176553         -1.061884    -0.573115          0.605183  \n",
       "613062           0.890172          1.102440     0.591696         -0.014610  \n",
       "320744           0.472407          1.571286     0.332198          0.115580  \n",
       "632541          -0.176553          0.256198     0.593940          0.942951  "
      ]
     },
     "execution_count": 12,
     "metadata": {},
     "output_type": "execute_result"
    }
   ],
   "source": [
    "train_scaled2 = scaler2.transform(train[['bedrooms','bathrooms','yearbuilt','sqft', 'taxamount']])\n",
    "\n",
    "# assign the scaled values as new columns in the train\n",
    "\n",
    "train[['bedrooms_scaled','bathrooms_scaled','yearbuilt_scaled','sqft_scaled', 'taxamount_scaled']] = train_scaled2\n",
    "\n",
    "train.head()"
   ]
  },
  {
   "cell_type": "code",
   "execution_count": 13,
   "id": "c7a1970c-675f-4889-8d0d-a3fb4b4f8ad7",
   "metadata": {},
   "outputs": [
    {
     "data": {
      "image/png": "[encoded data removed]",
      "text/plain": [
       "<Figure size 1300x600 with 2 Axes>"
      ]
     },
     "metadata": {},
     "output_type": "display_data"
    }
   ],
   "source": [
    "# Visualize the un-scaled and scaled distribution for total_bill\n",
    "\n",
    "plt.figure(figsize=(13, 6))\n",
    "\n",
    "# subplot 1\n",
    "plt.subplot(121)\n",
    "train.bedrooms.plot.hist(title='Original', bins= 10)\n",
    "\n",
    "#subplot 2\n",
    "plt.subplot(122)\n",
    "train.bedrooms_scaled.plot.hist(title='QuantileTransformer Scaled', bins= 10);"
   ]
  },
  {
   "cell_type": "code",
   "execution_count": 43,
   "id": "4c6bda9e-aed7-4eea-b2f1-83fa83f35ce4",
   "metadata": {
    "tags": []
   },
   "outputs": [
    {
     "data": {
      "text/html": [
       "<div>\n",
       "<style scoped>\n",
       "    .dataframe tbody tr th:only-of-type {\n",
       "        vertical-align: middle;\n",
       "    }\n",
       "\n",
       "    .dataframe tbody tr th {\n",
       "        vertical-align: top;\n",
       "    }\n",
       "\n",
       "    .dataframe thead th {\n",
       "        text-align: right;\n",
       "    }\n",
       "</style>\n",
       "<table border=\"1\" class=\"dataframe\">\n",
       "  <thead>\n",
       "    <tr style=\"text-align: right;\">\n",
       "      <th></th>\n",
       "      <th>id</th>\n",
       "      <th>bedrooms</th>\n",
       "      <th>bathrooms</th>\n",
       "      <th>sqft</th>\n",
       "      <th>tax_structure</th>\n",
       "      <th>tax_land</th>\n",
       "      <th>taxvalue</th>\n",
       "      <th>yearbuilt</th>\n",
       "      <th>taxamount</th>\n",
       "      <th>county</th>\n",
       "      <th>bedrooms_structured</th>\n",
       "      <th>bathrooms_structured</th>\n",
       "      <th>sqft_structured</th>\n",
       "      <th>tax_structure_structured</th>\n",
       "      <th>tax_land_structured</th>\n",
       "      <th>yearbuilt_structured</th>\n",
       "      <th>taxamount_structured</th>\n",
       "    </tr>\n",
       "  </thead>\n",
       "  <tbody>\n",
       "    <tr>\n",
       "      <th>926160</th>\n",
       "      <td>1289383</td>\n",
       "      <td>4</td>\n",
       "      <td>3.0</td>\n",
       "      <td>2010</td>\n",
       "      <td>97093.0</td>\n",
       "      <td>22343.0</td>\n",
       "      <td>119436</td>\n",
       "      <td>1947</td>\n",
       "      <td>1958.36</td>\n",
       "      <td>LA</td>\n",
       "      <td>0.16</td>\n",
       "      <td>0.150</td>\n",
       "      <td>0.003783</td>\n",
       "      <td>0.001525</td>\n",
       "      <td>0.000354</td>\n",
       "      <td>0.679070</td>\n",
       "      <td>0.001804</td>\n",
       "    </tr>\n",
       "    <tr>\n",
       "      <th>1083249</th>\n",
       "      <td>1508166</td>\n",
       "      <td>3</td>\n",
       "      <td>2.0</td>\n",
       "      <td>1315</td>\n",
       "      <td>101222.0</td>\n",
       "      <td>404892.0</td>\n",
       "      <td>506114</td>\n",
       "      <td>1940</td>\n",
       "      <td>6192.70</td>\n",
       "      <td>LA</td>\n",
       "      <td>0.12</td>\n",
       "      <td>0.100</td>\n",
       "      <td>0.002474</td>\n",
       "      <td>0.001590</td>\n",
       "      <td>0.006410</td>\n",
       "      <td>0.646512</td>\n",
       "      <td>0.005732</td>\n",
       "    </tr>\n",
       "    <tr>\n",
       "      <th>613062</th>\n",
       "      <td>853501</td>\n",
       "      <td>3</td>\n",
       "      <td>3.0</td>\n",
       "      <td>2130</td>\n",
       "      <td>238800.0</td>\n",
       "      <td>38200.0</td>\n",
       "      <td>277000</td>\n",
       "      <td>1988</td>\n",
       "      <td>4074.81</td>\n",
       "      <td>LA</td>\n",
       "      <td>0.12</td>\n",
       "      <td>0.150</td>\n",
       "      <td>0.004009</td>\n",
       "      <td>0.003751</td>\n",
       "      <td>0.000605</td>\n",
       "      <td>0.869767</td>\n",
       "      <td>0.003767</td>\n",
       "    </tr>\n",
       "    <tr>\n",
       "      <th>320744</th>\n",
       "      <td>446343</td>\n",
       "      <td>3</td>\n",
       "      <td>2.5</td>\n",
       "      <td>1893</td>\n",
       "      <td>193557.0</td>\n",
       "      <td>187240.0</td>\n",
       "      <td>380797</td>\n",
       "      <td>2000</td>\n",
       "      <td>4466.86</td>\n",
       "      <td>Ventura</td>\n",
       "      <td>0.12</td>\n",
       "      <td>0.125</td>\n",
       "      <td>0.003562</td>\n",
       "      <td>0.003040</td>\n",
       "      <td>0.002964</td>\n",
       "      <td>0.925581</td>\n",
       "      <td>0.004131</td>\n",
       "    </tr>\n",
       "    <tr>\n",
       "      <th>632541</th>\n",
       "      <td>880703</td>\n",
       "      <td>4</td>\n",
       "      <td>2.0</td>\n",
       "      <td>2133</td>\n",
       "      <td>370672.0</td>\n",
       "      <td>370672.0</td>\n",
       "      <td>741344</td>\n",
       "      <td>1964</td>\n",
       "      <td>7822.74</td>\n",
       "      <td>Ventura</td>\n",
       "      <td>0.16</td>\n",
       "      <td>0.100</td>\n",
       "      <td>0.004014</td>\n",
       "      <td>0.005822</td>\n",
       "      <td>0.005868</td>\n",
       "      <td>0.758140</td>\n",
       "      <td>0.007244</td>\n",
       "    </tr>\n",
       "  </tbody>\n",
       "</table>\n",
       "</div>"
      ],
      "text/plain": [
       "              id  bedrooms  bathrooms  sqft  tax_structure  tax_land  \\\n",
       "926160   1289383         4        3.0  2010        97093.0   22343.0   \n",
       "1083249  1508166         3        2.0  1315       101222.0  404892.0   \n",
       "613062    853501         3        3.0  2130       238800.0   38200.0   \n",
       "320744    446343         3        2.5  1893       193557.0  187240.0   \n",
       "632541    880703         4        2.0  2133       370672.0  370672.0   \n",
       "\n",
       "         taxvalue  yearbuilt  taxamount   county  bedrooms_structured  \\\n",
       "926160     119436       1947    1958.36       LA                 0.16   \n",
       "1083249    506114       1940    6192.70       LA                 0.12   \n",
       "613062     277000       1988    4074.81       LA                 0.12   \n",
       "320744     380797       2000    4466.86  Ventura                 0.12   \n",
       "632541     741344       1964    7822.74  Ventura                 0.16   \n",
       "\n",
       "         bathrooms_structured  sqft_structured  tax_structure_structured  \\\n",
       "926160                  0.150         0.003783                  0.001525   \n",
       "1083249                 0.100         0.002474                  0.001590   \n",
       "613062                  0.150         0.004009                  0.003751   \n",
       "320744                  0.125         0.003562                  0.003040   \n",
       "632541                  0.100         0.004014                  0.005822   \n",
       "\n",
       "         tax_land_structured  yearbuilt_structured  taxamount_structured  \n",
       "926160              0.000354              0.679070              0.001804  \n",
       "1083249             0.006410              0.646512              0.005732  \n",
       "613062              0.000605              0.869767              0.003767  \n",
       "320744              0.002964              0.925581              0.004131  \n",
       "632541              0.005868              0.758140              0.007244  "
      ]
     },
     "execution_count": 43,
     "metadata": {},
     "output_type": "execute_result"
    }
   ],
   "source": [
    "train.head()"
   ]
  },
  {
   "cell_type": "code",
   "execution_count": null,
   "id": "f6d4f5b2-b293-4717-82b2-20ecba8bec1e",
   "metadata": {},
   "outputs": [],
   "source": []
  },
  {
   "cell_type": "markdown",
   "id": "bf43ab7d-6f0f-4ba5-bc3a-5fc30607d82d",
   "metadata": {},
   "source": [
    "#### 4. Use the `QuantileTransformer`, but omit the `output_distribution` argument. Visualize your results. What do you notice?"
   ]
  },
  {
   "cell_type": "code",
   "execution_count": 15,
   "id": "1f92f745-7c3d-4511-b0b8-92254098194b",
   "metadata": {
    "tags": []
   },
   "outputs": [
    {
     "data": {
      "text/html": [
       "<style>#sk-container-id-3 {color: black;}#sk-container-id-3 pre{padding: 0;}#sk-container-id-3 div.sk-toggleable {background-color: white;}#sk-container-id-3 label.sk-toggleable__label {cursor: pointer;display: block;width: 100%;margin-bottom: 0;padding: 0.3em;box-sizing: border-box;text-align: center;}#sk-container-id-3 label.sk-toggleable__label-arrow:before {content: \"▸\";float: left;margin-right: 0.25em;color: #696969;}#sk-container-id-3 label.sk-toggleable__label-arrow:hover:before {color: black;}#sk-container-id-3 div.sk-estimator:hover label.sk-toggleable__label-arrow:before {color: black;}#sk-container-id-3 div.sk-toggleable__content {max-height: 0;max-width: 0;overflow: hidden;text-align: left;background-color: #f0f8ff;}#sk-container-id-3 div.sk-toggleable__content pre {margin: 0.2em;color: black;border-radius: 0.25em;background-color: #f0f8ff;}#sk-container-id-3 input.sk-toggleable__control:checked~div.sk-toggleable__content {max-height: 200px;max-width: 100%;overflow: auto;}#sk-container-id-3 input.sk-toggleable__control:checked~label.sk-toggleable__label-arrow:before {content: \"▾\";}#sk-container-id-3 div.sk-estimator input.sk-toggleable__control:checked~label.sk-toggleable__label {background-color: #d4ebff;}#sk-container-id-3 div.sk-label input.sk-toggleable__control:checked~label.sk-toggleable__label {background-color: #d4ebff;}#sk-container-id-3 input.sk-hidden--visually {border: 0;clip: rect(1px 1px 1px 1px);clip: rect(1px, 1px, 1px, 1px);height: 1px;margin: -1px;overflow: hidden;padding: 0;position: absolute;width: 1px;}#sk-container-id-3 div.sk-estimator {font-family: monospace;background-color: #f0f8ff;border: 1px dotted black;border-radius: 0.25em;box-sizing: border-box;margin-bottom: 0.5em;}#sk-container-id-3 div.sk-estimator:hover {background-color: #d4ebff;}#sk-container-id-3 div.sk-parallel-item::after {content: \"\";width: 100%;border-bottom: 1px solid gray;flex-grow: 1;}#sk-container-id-3 div.sk-label:hover label.sk-toggleable__label {background-color: #d4ebff;}#sk-container-id-3 div.sk-serial::before {content: \"\";position: absolute;border-left: 1px solid gray;box-sizing: border-box;top: 0;bottom: 0;left: 50%;z-index: 0;}#sk-container-id-3 div.sk-serial {display: flex;flex-direction: column;align-items: center;background-color: white;padding-right: 0.2em;padding-left: 0.2em;position: relative;}#sk-container-id-3 div.sk-item {position: relative;z-index: 1;}#sk-container-id-3 div.sk-parallel {display: flex;align-items: stretch;justify-content: center;background-color: white;position: relative;}#sk-container-id-3 div.sk-item::before, #sk-container-id-3 div.sk-parallel-item::before {content: \"\";position: absolute;border-left: 1px solid gray;box-sizing: border-box;top: 0;bottom: 0;left: 50%;z-index: -1;}#sk-container-id-3 div.sk-parallel-item {display: flex;flex-direction: column;z-index: 1;position: relative;background-color: white;}#sk-container-id-3 div.sk-parallel-item:first-child::after {align-self: flex-end;width: 50%;}#sk-container-id-3 div.sk-parallel-item:last-child::after {align-self: flex-start;width: 50%;}#sk-container-id-3 div.sk-parallel-item:only-child::after {width: 0;}#sk-container-id-3 div.sk-dashed-wrapped {border: 1px dashed gray;margin: 0 0.4em 0.5em 0.4em;box-sizing: border-box;padding-bottom: 0.4em;background-color: white;}#sk-container-id-3 div.sk-label label {font-family: monospace;font-weight: bold;display: inline-block;line-height: 1.2em;}#sk-container-id-3 div.sk-label-container {text-align: center;}#sk-container-id-3 div.sk-container {/* jupyter's `normalize.less` sets `[hidden] { display: none; }` but bootstrap.min.css set `[hidden] { display: none !important; }` so we also need the `!important` here to be able to override the default hidden behavior on the sphinx rendered scikit-learn.org. See: https://github.com/scikit-learn/scikit-learn/issues/21755 */display: inline-block !important;position: relative;}#sk-container-id-3 div.sk-text-repr-fallback {display: none;}</style><div id=\"sk-container-id-3\" class=\"sk-top-container\"><div class=\"sk-text-repr-fallback\"><pre>QuantileTransformer()</pre><b>In a Jupyter environment, please rerun this cell to show the HTML representation or trust the notebook. <br />On GitHub, the HTML representation is unable to render, please try loading this page with nbviewer.org.</b></div><div class=\"sk-container\" hidden><div class=\"sk-item\"><div class=\"sk-estimator sk-toggleable\"><input class=\"sk-toggleable__control sk-hidden--visually\" id=\"sk-estimator-id-3\" type=\"checkbox\" checked><label for=\"sk-estimator-id-3\" class=\"sk-toggleable__label sk-toggleable__label-arrow\">QuantileTransformer</label><div class=\"sk-toggleable__content\"><pre>QuantileTransformer()</pre></div></div></div></div></div>"
      ],
      "text/plain": [
       "QuantileTransformer()"
      ]
     },
     "execution_count": 15,
     "metadata": {},
     "output_type": "execute_result"
    }
   ],
   "source": [
    "### sklearn.preprocessing.QuantileTransformer(\n",
    "### *, n_quantiles=1000, output_distribution='uniform', \n",
    "### ignore_implicit_zeros=False, subsample=10000, random_state=None, copy=True)\n",
    "# 1. create the object\n",
    "scaler2 = sklearn.preprocessing.QuantileTransformer()\n",
    "\n",
    "# 2. fit the object (learn the min and max value)\n",
    "scaler2.fit(train[['bedrooms','bathrooms','yearbuilt','sqft', 'taxamount']])"
   ]
  },
  {
   "cell_type": "code",
   "execution_count": 16,
   "id": "f7bbe996-d5ac-445b-8f4e-b245658fc822",
   "metadata": {
    "tags": []
   },
   "outputs": [
    {
     "data": {
      "image/png": "[encoded data removed]",
      "text/plain": [
       "<Figure size 1300x600 with 2 Axes>"
      ]
     },
     "metadata": {},
     "output_type": "display_data"
    }
   ],
   "source": [
    "# Visualize the un-scaled and scaled distribution for total_bill\n",
    "\n",
    "plt.figure(figsize=(13, 6))\n",
    "\n",
    "# subplot 1\n",
    "plt.subplot(121)\n",
    "train.bedrooms.plot.hist(title='Original', bins= 10)\n",
    "\n",
    "#subplot 2\n",
    "plt.subplot(122)\n",
    "train.bedrooms_scaled.plot.hist(title='QuantileTransformer Scaled', bins= 10);"
   ]
  },
  {
   "cell_type": "code",
   "execution_count": null,
   "id": "026ffeb2-7763-4677-ad2c-a9711dfe0f09",
   "metadata": {},
   "outputs": [],
   "source": []
  },
  {
   "cell_type": "markdown",
   "id": "5148cd17-e859-48ac-99b8-7d2159687d67",
   "metadata": {},
   "source": [
    "#### 5. Based on the work you've done, choose a scaling method for your dataset. Write a function within your `prepare.py` that accepts as input the train, validate, and test data splits, and returns the scaled versions of each. Be sure to only learn the parameters for scaling from your training data!"
   ]
  },
  {
   "cell_type": "code",
   "execution_count": null,
   "id": "3d8575cc-708c-4866-9bb4-a03f2fc97862",
   "metadata": {},
   "outputs": [],
   "source": []
  },
  {
   "cell_type": "code",
   "execution_count": null,
   "id": "88d52ea4-05a9-4f96-bc36-1532553be717",
   "metadata": {},
   "outputs": [],
   "source": []
  },
  {
   "cell_type": "code",
   "execution_count": null,
   "id": "c4958431-62ee-4fc9-b3d2-f3cea1123e60",
   "metadata": {},
   "outputs": [],
   "source": []
  }
 ],
 "metadata": {
  "kernelspec": {
   "display_name": "Python 3 (ipykernel)",
   "language": "python",
   "name": "python3"
  },
  "language_info": {
   "codemirror_mode": {
    "name": "ipython",
    "version": 3
   },
   "file_extension": ".py",
   "mimetype": "text/x-python",
   "name": "python",
   "nbconvert_exporter": "python",
   "pygments_lexer": "ipython3",
   "version": "3.11.4"
  }
 },
 "nbformat": 4,
 "nbformat_minor": 5
}
